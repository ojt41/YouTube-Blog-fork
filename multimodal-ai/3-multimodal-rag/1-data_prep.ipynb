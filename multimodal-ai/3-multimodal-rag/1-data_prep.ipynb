{
 "cells": [
  {
   "cell_type": "markdown",
   "id": "193face1-334a-43a0-874b-b2f8048ca963",
   "metadata": {},
   "source": [
    "# Data Prep\n",
    "\n",
    "Code authored by: Shaw Talebi \n\n",
    "[Blog link](https://medium.com/towards-data-science/multimodal-rag-process-any-file-type-with-ai-e6921342c903) \n",
    "| [Video link](https://youtu.be/Y7pNmocrmi8)"
   ]
  },
  {
   "cell_type": "markdown",
   "id": "cb3b98ec-bbd6-4f28-afaf-5a30616a51f0",
   "metadata": {},
   "source": [
    "### imports"
   ]
  },
  {
   "cell_type": "code",
   "execution_count": 1,
   "id": "6901a467-4d59-4dbe-9e15-47bbec842b99",
   "metadata": {},
   "outputs": [],
   "source": [
    "from bs4 import BeautifulSoup\n",
    "import os\n",
    "from functions import *\n",
    "\n",
    "from PIL import Image\n",
    "from transformers import CLIPProcessor, CLIPModel\n",
    "\n",
    "from torch import cat, save"
   ]
  },
  {
   "cell_type": "markdown",
   "id": "98fb3755-817c-484f-8227-df968b5ad909",
   "metadata": {},
   "source": [
    "### Extract text and images"
   ]
  },
  {
   "cell_type": "code",
   "execution_count": 2,
   "id": "ee948ec1-cbe1-453b-b4e2-9bdbc149795b",
   "metadata": {},
   "outputs": [],
   "source": [
    "# Get all HTML files from raw directory\n",
    "filename_list = [\"raw/\"+f for f in os.listdir('raw')]\n",
    "\n",
    "text_content_list = []\n",
    "image_content_list = []\n",
    "for filename in filename_list:\n",
    "\n",
    "    with open(filename, 'r', encoding='utf-8') as file:\n",
    "        html_content = file.read()\n",
    "\n",
    "    text_content_list.extend(parse_html_content(html_content))\n",
    "    image_content_list.extend(parse_html_images(html_content))"
   ]
  },
  {
   "cell_type": "code",
   "execution_count": 3,
   "id": "ccaf6195-7026-4348-b05a-102be2ebbb8f",
   "metadata": {},
   "outputs": [
    {
     "name": "stdout",
     "output_type": "stream",
     "text": [
      "86\n",
      "17\n"
     ]
    }
   ],
   "source": [
    "print(len(text_content_list))\n",
    "print(len(image_content_list))"
   ]
  },
  {
   "cell_type": "code",
   "execution_count": 4,
   "id": "d3b6eff4-fa47-4a35-822e-bc125c197f5e",
   "metadata": {},
   "outputs": [],
   "source": [
    "text_list = []\n",
    "for content in text_content_list:\n",
    "    # concatenate title and section header\n",
    "    section = content['section'] + \": \"\n",
    "    # append text from paragraph to fill CLIP's 256 sequence limit\n",
    "    text = section + content['text'][:256-len(section)]\n",
    "    \n",
    "    text_list.append(text)\n",
    "\n",
    "image_list = []\n",
    "for content in image_content_list:\n",
    "    image_list.append(Image.open(content['image_path']))"
   ]
  },
  {
   "cell_type": "code",
   "execution_count": 5,
   "id": "48ecd598-3fb0-4fc2-a0a7-be334bb3f89e",
   "metadata": {},
   "outputs": [
    {
     "name": "stdout",
     "output_type": "stream",
     "text": [
      "86\n",
      "17\n"
     ]
    }
   ],
   "source": [
    "print(len(text_list))\n",
    "print(len(image_list))"
   ]
  },
  {
   "cell_type": "markdown",
   "id": "e5f8710b-63a9-464a-b13e-f19be08669ea",
   "metadata": {},
   "source": [
    "### Compute embeddings using CLIP"
   ]
  },
  {
   "cell_type": "code",
   "execution_count": 6,
   "id": "edcc16c0-0ef1-4e21-bff3-39b6af546fe4",
   "metadata": {},
   "outputs": [],
   "source": [
    "# import model\n",
    "model = CLIPModel.from_pretrained(\"openai/clip-vit-base-patch16\")\n",
    "\n",
    "# import processor (handles text tokenization and image preprocessing)\n",
    "processor = CLIPProcessor.from_pretrained(\"openai/clip-vit-base-patch16\") "
   ]
  },
  {
   "cell_type": "code",
   "execution_count": 7,
   "id": "d5ff2d5f-9d01-42a6-b1a1-ebe9c6a594d3",
   "metadata": {},
   "outputs": [],
   "source": [
    "# pre-process text and images\n",
    "inputs = processor(text=text_list, images=image_list, return_tensors=\"pt\", padding=True)"
   ]
  },
  {
   "cell_type": "code",
   "execution_count": 8,
   "id": "17e25fb1-83d3-4a45-9d0f-0cde281228cb",
   "metadata": {},
   "outputs": [],
   "source": [
    "# compute embeddings with CLIP\n",
    "outputs = model(**inputs)"
   ]
  },
  {
   "cell_type": "code",
   "execution_count": 9,
   "id": "147b2dff-8180-449e-abfe-22fe492c7636",
   "metadata": {},
   "outputs": [],
   "source": [
    "# store embeddings in single torch tensor\n",
    "text_embeddings = outputs.text_embeds\n",
    "image_embeddings = outputs.image_embeds"
   ]
  },
  {
   "cell_type": "code",
   "execution_count": 10,
   "id": "ee24d96b-c0a8-46c4-837a-bbab69a96a2b",
   "metadata": {},
   "outputs": [
    {
     "name": "stdout",
     "output_type": "stream",
     "text": [
      "torch.Size([86, 512])\n",
      "torch.Size([17, 512])\n"
     ]
    }
   ],
   "source": [
    "print(text_embeddings.shape)\n",
    "print(image_embeddings.shape)"
   ]
  },
  {
   "cell_type": "markdown",
   "id": "66db9d6e-4c39-4180-89c7-d8108bee7c9a",
   "metadata": {},
   "source": [
    "### Save Data"
   ]
  },
  {
   "cell_type": "code",
   "execution_count": 11,
   "id": "39af8e14-1909-490e-ba6b-d32170d12711",
   "metadata": {},
   "outputs": [],
   "source": [
    "# save content list as JSON\n",
    "save_to_json(text_content_list, output_file='data/text_content.json')\n",
    "save_to_json(image_content_list, output_file='data/image_content.json')"
   ]
  },
  {
   "cell_type": "code",
   "execution_count": 12,
   "id": "db55fd6e-921c-49a0-9c9c-83d0ac80b88e",
   "metadata": {},
   "outputs": [],
   "source": [
    "# save embeddings to file\n",
    "save(text_embeddings, 'data/text_embeddings.pt')\n",
    "save(image_embeddings, 'data/image_embeddings.pt')"
   ]
  },
  {
   "cell_type": "code",
   "execution_count": null,
   "id": "b7019f13-bd77-45a7-9aea-3a7c5468ab98",
   "metadata": {},
   "outputs": [],
   "source": []
  }
 ],
 "metadata": {
  "kernelspec": {
   "display_name": "Python 3 (ipykernel)",
   "language": "python",
   "name": "python3"
  },
  "language_info": {
   "codemirror_mode": {
    "name": "ipython",
    "version": 3
   },
   "file_extension": ".py",
   "mimetype": "text/x-python",
   "name": "python",
   "nbconvert_exporter": "python",
   "pygments_lexer": "ipython3",
   "version": "3.12.2"
  }
 },
 "nbformat": 4,
 "nbformat_minor": 5
}

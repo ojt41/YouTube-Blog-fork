{
 "cells": [
  {
   "cell_type": "markdown",
   "id": "8edc2319-b90d-4d77-8b60-7cf8cd5e6c50",
   "metadata": {},
   "source": [
    "# Data preparation for Flux.1 Fine-tuning\n",
    "\n",
    "Code authored by: Shaw Talebi <br>\n",
    "[Video link](https://youtu.be/bZr2vhoXSy8) | [Blog link](https://medium.com/@shawhin/i-trained-flux-1-on-my-face-and-how-you-can-too-bbf0cb3824b0)"
   ]
  },
  {
   "cell_type": "markdown",
   "id": "b62ff0cd-9731-48b1-8d1f-50581573d216",
   "metadata": {},
   "source": [
    "### imports"
   ]
  },
  {
   "cell_type": "code",
   "execution_count": 1,
   "id": "1bf0456d-4270-43fb-93ca-eadf60fd0ceb",
   "metadata": {},
   "outputs": [],
   "source": [
    "from PIL import Image\n",
    "import os\n",
    "import shutil\n",
    "\n",
    "import replicate\n",
    "from dotenv import load_dotenv"
   ]
  },
  {
   "cell_type": "code",
   "execution_count": 2,
   "id": "b9894aee-d0ed-4ea9-bd1d-4c249fba209f",
   "metadata": {},
   "outputs": [],
   "source": [
    "# load vars from .env\n",
    "load_dotenv()\n",
    "\n",
    "# set replicate api key\n",
    "replicate = replicate.Client(api_token=os.getenv(\"REPLICATE_API_KEY\"))"
   ]
  },
  {
   "cell_type": "markdown",
   "id": "61b10ad9-6c66-49b4-82c7-88bbacb8f449",
   "metadata": {},
   "source": [
    "### crop images to be square"
   ]
  },
  {
   "cell_type": "code",
   "execution_count": 3,
   "id": "8133240a-fda3-4908-a8a4-9f3ec9474b25",
   "metadata": {},
   "outputs": [],
   "source": [
    "# Set input and output directories\n",
    "input_dir = \"raw/\"  # Change this to your folder\n",
    "output_dir = \"data/\"\n",
    "\n",
    "# Ensure output directory exists\n",
    "os.makedirs(output_dir, exist_ok=True)\n",
    "\n",
    "# image counter\n",
    "i = 0\n",
    "\n",
    "# Process each image\n",
    "for filename in os.listdir(input_dir):\n",
    "    if filename.lower().endswith(('.png', '.jpg', '.jpeg')):  # Check for PNG and JPEG\n",
    "        img_path = os.path.join(input_dir, filename)\n",
    "        img = Image.open(img_path)\n",
    "\n",
    "        # Get original dimensions\n",
    "        width, height = img.size\n",
    "        new_size = min(width, height)  # Smallest dimension for square crop\n",
    "\n",
    "        # Calculate cropping box (centered)\n",
    "        left = (width - new_size) // 2\n",
    "        top = (height - new_size) // 2\n",
    "        right = left + new_size\n",
    "        bottom = top + new_size\n",
    "\n",
    "        # Crop the image\n",
    "        img_cropped = img.crop((left, top, right, bottom))\n",
    "\n",
    "        # Resize to 1024x1024 using high-quality resampling\n",
    "        img_resized = img_cropped.resize((1024, 1024), Image.LANCZOS)\n",
    "\n",
    "        # Crop and save the image\n",
    "        output_path = os.path.join(output_dir, f\"img-{i}.png\")\n",
    "        img_resized.save(output_path, format=\"PNG\")\n",
    "        i += 1"
   ]
  },
  {
   "cell_type": "markdown",
   "id": "3bd2aa29-67bb-40b2-9e22-02efeb5f6e9f",
   "metadata": {},
   "source": [
    "### write captions with llava"
   ]
  },
  {
   "cell_type": "code",
   "execution_count": 4,
   "id": "57b8705d-3502-4678-9abd-6722503171aa",
   "metadata": {},
   "outputs": [
    {
     "name": "stdout",
     "output_type": "stream",
     "text": [
      "A photo of shw-tlb. A  man is  sitting at  a table  in a  restaurant,  working on  his laptop.  The table  is surrounded  by chairs,  and there  are several  other tables  in the  restaurant.  The man  is focused  on his  work,  and the  laptop is  open in  front of  him. \n",
      "A photo of shw-tlb. A  man wearing  a gray  shirt  is smiling  and looking  at the  camera. \n",
      "A photo of shw-tlb. A  man with  a bald  head and  a beard  is wearing  a black  shirt  and sitting  against a  white brick  wall. \n",
      "A photo of shw-tlb. A  man wearing  a suit  and tie  is speaking  into a  microphone. \n",
      "A photo of shw-tlb. A  man wearing  a white  shirt  and a  black hat  is sitting  in a  chair with  his arms  outstretched,  possibly making  a gesture  of surprise  or excitement.  The room  has a  kitchen area  with a  sink,  a dining  table,  and a  few chairs.  There are  also some  decorative  elements,  such as  a potted  plant and  a vase,  and a  wine glass  can be  seen on  a surface. \n",
      "A photo of shw-tlb. A  man wearing  a white  shirt  is smiling  and looking  at the  camera. \n",
      "A photo of shw-tlb. A  man wearing  a black  hat and  a grey  hoodie  is sitting  at a  table,  eating  a plate  of food.  He is  holding a  fork in  his hand  and appears  to be  enjoying  his meal.  The plate  of food  consists of  a sandwich  and a  cup of  coffee. \n",
      "A photo of shw-tlb. A  man wearing  a black  hat is  sitting at  a table,  typing on  a laptop.  He is  focused on  his work,  and his  hat is  turned backwards.  The table  has a  chair on  either side  of it,  and there  is a  clock on  the wall  above the  man. \n",
      "A photo of shw-tlb. A  man wearing  a black  hat and  a white  shirt  is smiling  for the  camera. \n",
      "A photo of shw-tlb. A  man wearing  a black  hat and  white shirt  is sitting  down and  looking surprised. \n",
      "A photo of shw-tlb. A  man wearing  a black  hat and  a white  shirt  is standing  with his  arms crossed. \n",
      "A photo of shw-tlb. A  man wearing  a white  shirt  and a  black hat  is sitting  on a  bench  outside a  building.  He is  leaning  on his  hand and  appears to  be deep  in thought.  The bench  is located  near a  fire pit  and is  surrounded by  several chairs  and couches.  The man  is the  only person  visible in  the scene. \n",
      "A photo of shw-tlb. A  man wearing  a black  hat and  a grey  shirt  is smiling. \n",
      "A photo of shw-tlb. A  man wearing  a black  hat and  a white  shirt  is sitting  at a  table,  typing on  a laptop.  He appears  to be  focused on  his work  or browsing  the internet.  The laptop  is placed  on the  table in  front of  him,  and he  is using  a keyboard  to input  data.  The scene  suggests that  he is  in a  public space,  possibly a  cafe  or a  library,  where people  often work  or study. \n",
      "A photo of shw-tlb. A  man wearing  a black  shirt  and a  black hat  is sitting  at a  table with  a cup  of coffee.  He is  smiling  and has  his hands  under his  chin.  The table  is surrounded  by chairs,  and there  is a  potted  plant nearby. \n",
      "A photo of shw-tlb. A  man wearing  a black  hat and  a gray  hoodie  is scratching  his head. \n",
      "A photo of shw-tlb. A  man wearing  a white  shirt  and a  black hat  is making  a peace  sign with  his hand.  He is  standing in  front of  a building  and there  is a  bicycle  nearby. \n",
      "A photo of shw-tlb. A  man wearing  a white  shirt  and a  black hat  is sitting  in a  chair in  a living  room.  He is  pointing at  something in  the room,  possibly drawing  attention to  a specific  object or  area.  The living  room features  a dining  table and  a few  chairs,  as well  as some  decorative  elements such  as vases  and potted  plants. \n",
      "A photo of shw-tlb. A  man is  sitting at  a desk  with a  keyboard and  a guitar  behind him.  He is  smiling  and appears  to be  recording his  music. \n",
      "A photo of shw-tlb. A  man wearing  a name  tag that  says \"Shaw\"  is sitting  on a  yellow stool  in a  room with  a TV  on the  wall.  He is  smiling  and appears  to be  enjoying  his time.  The room  also contains  a dining  table and  chairs,  as well  as a  potted  plant. \n",
      "CPU times: user 286 ms, sys: 164 ms, total: 450 ms\n",
      "Wall time: 1min 12s\n"
     ]
    }
   ],
   "source": [
    "%%time\n",
    "for filename in os.listdir(output_dir):\n",
    "    if filename.lower().endswith('.png'):\n",
    "        img_path = os.path.join(output_dir, filename)\n",
    "        image = open(img_path, \"rb\")\n",
    "\n",
    "        # generate caption\n",
    "        output = replicate.run(\n",
    "            \"yorickvp/llava-13b:a0fdc44e4f2e1f20f2bb4e27846899953ac8e66c5886c5878fa1d6b73ce009e5\",\n",
    "            input={\n",
    "                \"image\": image,\n",
    "                \"prompt\": \"Please write a caption for this image.\"\n",
    "            }\n",
    "        )\n",
    "        # extract text form output\n",
    "        response = \" \".join(list(output))\n",
    "\n",
    "        # add trigger token \"shw-tlb\"\n",
    "        caption = f\"A photo of shw-tlb. {response}\"\n",
    " \n",
    "        # save caption a text file\n",
    "        caption_filename = img_path.split('.')[0] + '.txt'\n",
    "        with open(caption_filename, \"w\") as file:\n",
    "            print(caption)\n",
    "            file.write(caption)"
   ]
  },
  {
   "cell_type": "markdown",
   "id": "b24fafbe-a6fc-43b0-ac75-e782c7e39e5a",
   "metadata": {},
   "source": [
    "### compress data as .zip"
   ]
  },
  {
   "cell_type": "code",
   "execution_count": 5,
   "id": "a754bbbf-e2ed-45ec-b7e3-31d357596c9b",
   "metadata": {},
   "outputs": [
    {
     "data": {
      "text/plain": [
       "'/Users/shawhin/Documents/_code/_stv/sandbox/flux-finetuning/data.zip'"
      ]
     },
     "execution_count": 5,
     "metadata": {},
     "output_type": "execute_result"
    }
   ],
   "source": [
    "# inputs: name of .zip file, compression format, directory to compress\n",
    "shutil.make_archive(\"data\", 'zip', \"data/\")"
   ]
  }
 ],
 "metadata": {
  "kernelspec": {
   "display_name": "Python 3 (ipykernel)",
   "language": "python",
   "name": "python3"
  },
  "language_info": {
   "codemirror_mode": {
    "name": "ipython",
    "version": 3
   },
   "file_extension": ".py",
   "mimetype": "text/x-python",
   "name": "python",
   "nbconvert_exporter": "python",
   "pygments_lexer": "ipython3",
   "version": "3.12.2"
  }
 },
 "nbformat": 4,
 "nbformat_minor": 5
}

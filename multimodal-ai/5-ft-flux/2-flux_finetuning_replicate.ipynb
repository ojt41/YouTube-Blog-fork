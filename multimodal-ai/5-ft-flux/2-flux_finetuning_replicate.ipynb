{
 "cells": [
  {
   "cell_type": "markdown",
   "id": "43d4369c-1f77-4798-b7c7-aa67590aca3d",
   "metadata": {},
   "source": [
    "# Fine-tuning FLUX.1 on Photos of Me\n",
    "\n",
    "Code authored by: Shaw Talebi <br>\n",
    "[Video link](https://youtu.be/bZr2vhoXSy8) | [Blog link](https://medium.com/@shawhin/i-trained-flux-1-on-my-face-and-how-you-can-too-bbf0cb3824b0) <br>\n",
    "Based on guide from [here](https://replicate.com/blog/fine-tune-flux)"
   ]
  },
  {
   "cell_type": "markdown",
   "id": "621d70bd-dea1-4bce-8f5a-df1e15af1267",
   "metadata": {},
   "source": [
    "### imports"
   ]
  },
  {
   "cell_type": "code",
   "execution_count": 1,
   "id": "4a2e3f9d-90a3-485a-bb57-57109df06c4f",
   "metadata": {},
   "outputs": [],
   "source": [
    "import os\n",
    "import replicate\n",
    "from dotenv import load_dotenv"
   ]
  },
  {
   "cell_type": "code",
   "execution_count": 2,
   "id": "23e1c5db-4fa1-4496-9b27-9b1593bfb2f2",
   "metadata": {},
   "outputs": [],
   "source": [
    "# load vars from .env\n",
    "load_dotenv()\n",
    "\n",
    "# set replicate api key\n",
    "replicate = replicate.Client(api_token=os.getenv(\"REPLICATE_API_KEY\"))"
   ]
  },
  {
   "cell_type": "markdown",
   "id": "369cbeaf-8315-476d-8aa9-ec7077845aa6",
   "metadata": {},
   "source": [
    "### create model"
   ]
  },
  {
   "cell_type": "code",
   "execution_count": 3,
   "id": "bdda56fc-5bc6-4f79-b300-cc4063752ae2",
   "metadata": {},
   "outputs": [
    {
     "name": "stdout",
     "output_type": "stream",
     "text": [
      "Model created: flux-shaw-ft\n",
      "Model URL: https://replicate.com/shawhint/flux-shaw-ft\n"
     ]
    }
   ],
   "source": [
    "model = replicate.models.create(\n",
    "    owner=\"shawhint\",\n",
    "    name=\"flux-shaw-ft\",\n",
    "    visibility=\"public\",  # or \"private\" if you prefer\n",
    "    hardware=\"gpu-t4\",  # Replicate will override this for fine-tuned models\n",
    "    description=\"FLUX.1 finetuned on photos of me (Shaw)\"\n",
    ")\n",
    " \n",
    "print(f\"Model created: {model.name}\")\n",
    "print(f\"Model URL: https://replicate.com/{model.owner}/{model.name}\")"
   ]
  },
  {
   "cell_type": "markdown",
   "id": "0e827867-8322-497a-a356-6dc81f32ab16",
   "metadata": {},
   "source": [
    "### fine-tune model using flux-dev-lora-trainer"
   ]
  },
  {
   "cell_type": "code",
   "execution_count": 4,
   "id": "abef780e-09c4-443c-80e1-79aa98ff450e",
   "metadata": {},
   "outputs": [
    {
     "name": "stdout",
     "output_type": "stream",
     "text": [
      "Training started: starting\n",
      "Training URL: https://replicate.com/p/g9kecx6j8hrmc0cmtbw8x52qqw\n"
     ]
    }
   ],
   "source": [
    "# Now use this model as the destination for your training\n",
    "training = replicate.trainings.create(\n",
    "    version=\"ostris/flux-dev-lora-trainer:4ffd32160efd92e956d39c5338a9b8fbafca58e03f791f6d8011f3e20e8ea6fa\",\n",
    "    input={\n",
    "        \"input_images\": open(\"data.zip\", \"rb\"),\n",
    "        \"steps\": 1000,\n",
    "        # \"hf_token\": \"YOUR_HUGGING_FACE_TOKEN\",  # optional\n",
    "        # \"hf_repo_id\": \"YOUR_HUGGING_FACE_REPO_ID\",  # optional\n",
    "    },\n",
    "    destination=f\"{model.owner}/{model.name}\"\n",
    ")\n",
    " \n",
    "print(f\"Training started: {training.status}\")\n",
    "print(f\"Training URL: https://replicate.com/p/{training.id}\")"
   ]
  },
  {
   "cell_type": "code",
   "execution_count": null,
   "id": "906dbdf8-5646-47c1-af24-33c2cfae324e",
   "metadata": {},
   "outputs": [],
   "source": []
  }
 ],
 "metadata": {
  "kernelspec": {
   "display_name": "Python 3 (ipykernel)",
   "language": "python",
   "name": "python3"
  },
  "language_info": {
   "codemirror_mode": {
    "name": "ipython",
    "version": 3
   },
   "file_extension": ".py",
   "mimetype": "text/x-python",
   "name": "python",
   "nbconvert_exporter": "python",
   "pygments_lexer": "ipython3",
   "version": "3.12.2"
  }
 },
 "nbformat": 4,
 "nbformat_minor": 5
}

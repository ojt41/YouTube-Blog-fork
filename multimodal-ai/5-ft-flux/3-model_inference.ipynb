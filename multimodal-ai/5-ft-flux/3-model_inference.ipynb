{
 "cells": [
  {
   "cell_type": "markdown",
   "id": "624b89fb-aa58-4282-b501-b186881bb0ac",
   "metadata": {},
   "source": [
    "# Using Fine-tuned Model\n",
    "\n",
    "Code authored by: Shaw Talebi <br>\n",
    "[Video link](https://youtu.be/bZr2vhoXSy8) | [Blog link](https://medium.com/@shawhin/i-trained-flux-1-on-my-face-and-how-you-can-too-bbf0cb3824b0) <br>\n",
    "Based on guide from [here](https://replicate.com/blog/fine-tune-flux)"
   ]
  },
  {
   "cell_type": "markdown",
   "id": "150024e0-bd2c-4e1f-8b70-f0ec78547600",
   "metadata": {},
   "source": [
    "### imports"
   ]
  },
  {
   "cell_type": "code",
   "execution_count": 1,
   "id": "98a4a75b-2009-48e7-88db-570f96d52f79",
   "metadata": {},
   "outputs": [],
   "source": [
    "import os\n",
    "import replicate\n",
    "from dotenv import load_dotenv"
   ]
  },
  {
   "cell_type": "code",
   "execution_count": 2,
   "id": "c77677ed-9600-4cd9-a321-cc8e76809095",
   "metadata": {},
   "outputs": [],
   "source": [
    "# load vars from .env\n",
    "load_dotenv()\n",
    "\n",
    "# set replicate api key\n",
    "replicate = replicate.Client(api_token=os.getenv(\"REPLICATE_API_KEY\"))"
   ]
  },
  {
   "cell_type": "markdown",
   "id": "3a9e8178-2bcb-4e89-a4fe-69c3556f9efe",
   "metadata": {},
   "source": [
    "### inference"
   ]
  },
  {
   "cell_type": "code",
   "execution_count": 17,
   "id": "58a7c7ec-d2c3-4a69-9e02-cc8a9fc9430d",
   "metadata": {},
   "outputs": [
    {
     "name": "stdout",
     "output_type": "stream",
     "text": [
      "Generated image URL: [<replicate.helpers.FileOutput object at 0x1133bd3a0>, <replicate.helpers.FileOutput object at 0x1133bd340>, <replicate.helpers.FileOutput object at 0x1133bd310>, <replicate.helpers.FileOutput object at 0x1133bd2e0>]\n"
     ]
    }
   ],
   "source": [
    "output = replicate.run(\n",
    "    \"shawhint/flux-shaw-ft:8b55b2745adc5e7f13fdee9931b2fe622fc7f12a4780e5c48d42991c19699a72\",\n",
    "    input={\n",
    "        \"prompt\": \"A portrait photo of shw-tlb, a man in a dark suit\",\n",
    "        \"num_inference_steps\": 28,\n",
    "        \"guidance_scale\": 7.5,\n",
    "        \"model\": \"dev\",\n",
    "        \"num_outputs\":4,\n",
    "    }\n",
    ")\n",
    " \n",
    "print(f\"Generated image URL: {output}\")"
   ]
  },
  {
   "cell_type": "code",
   "execution_count": 18,
   "id": "a1b265aa-ecc6-4950-ab69-f8ba45aa0dd1",
   "metadata": {},
   "outputs": [
    {
     "name": "stdout",
     "output_type": "stream",
     "text": [
      "https://replicate.delivery/xezq/tr94REeVCpQtMKi2KElmyVaQBwzeTdmVhkJUVLgszjKT7EMUA/out-0.webp\n",
      "https://replicate.delivery/xezq/GFWxS22aHXKjBRc0eAOEfI1rueKDJqzdYM9JeajnLDKMtTwQB/out-1.webp\n",
      "https://replicate.delivery/xezq/WFmEIVUCO56WNxdEfr99tdln4OezSJe7fCRWcGDzLWtPtTwQB/out-2.webp\n",
      "https://replicate.delivery/xezq/k7f3OimVsb3iaav8jaypjxQ7cBnfvrTLZOMErUGLZilT7EMUA/out-3.webp\n"
     ]
    }
   ],
   "source": [
    "for i in output:\n",
    "    print(i)"
   ]
  },
  {
   "cell_type": "code",
   "execution_count": null,
   "id": "66fc7891-522f-44c8-b50f-949d2fd789fd",
   "metadata": {},
   "outputs": [],
   "source": []
  }
 ],
 "metadata": {
  "kernelspec": {
   "display_name": "Python 3 (ipykernel)",
   "language": "python",
   "name": "python3"
  },
  "language_info": {
   "codemirror_mode": {
    "name": "ipython",
    "version": 3
   },
   "file_extension": ".py",
   "mimetype": "text/x-python",
   "name": "python",
   "nbconvert_exporter": "python",
   "pygments_lexer": "ipython3",
   "version": "3.12.2"
  }
 },
 "nbformat": 4,
 "nbformat_minor": 5
}

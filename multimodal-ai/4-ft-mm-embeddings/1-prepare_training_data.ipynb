{
 "cells": [
  {
   "cell_type": "markdown",
   "id": "bc16dfad-7000-4e72-8186-65251dd6689b",
   "metadata": {},
   "source": [
    "# Create YouTube Title-Thumbnail Training Pairs\n",
    "\n",
    "Code authored by: Shaw Talebi\n",
    "\n",
    "[Video link](https://youtu.be/W4s6b2ZM6kI) | [Blog link](https://medium.com/towards-data-science/fine-tuning-multimodal-embedding-models-bf007b1c5da5) <br>\n",
    "[Dataset](https://huggingface.co/datasets/shawhin/yt-title-thumbnail-pairs) | [Fine-tuned Model](https://huggingface.co/shawhin/clip-title-thumbnail-embeddings)"
   ]
  },
  {
   "cell_type": "markdown",
   "id": "80846b0a-8519-401e-9c4e-e19dca36fc41",
   "metadata": {},
   "source": [
    "### imports"
   ]
  },
  {
   "cell_type": "code",
   "execution_count": 1,
   "id": "eaba8f2c-fb0f-4b63-ad25-635ceac2706c",
   "metadata": {},
   "outputs": [],
   "source": [
    "from top_secret import my_key\n",
    "import requests\n",
    "from isodate import parse_duration\n",
    "\n",
    "import pandas as pd\n",
    "import numpy as np\n",
    "from sentence_transformers import SentenceTransformer\n",
    "from datasets import DatasetDict, Dataset"
   ]
  },
  {
   "cell_type": "markdown",
   "id": "8353e55d-3cc3-47c1-bfb0-d1c094c0f340",
   "metadata": {},
   "source": [
    "### Extract"
   ]
  },
  {
   "cell_type": "markdown",
   "id": "4681af66-44d3-4939-8cc7-1119332440fc",
   "metadata": {},
   "source": [
    "#### extract video ids"
   ]
  },
  {
   "cell_type": "code",
   "execution_count": 2,
   "id": "d8fd59e4-bf50-4bbb-a86e-5a2c8472c0db",
   "metadata": {},
   "outputs": [],
   "source": [
    "channel_id = 'UCa9gErQ9AE5jT2DZLjXBIdA' # my YouTube channel ID\n",
    "page_token = None # initialize page token\n",
    "url = 'https://www.googleapis.com/youtube/v3/search' # YouTube search API endpoint\n",
    "\n",
    "# extract video data across multiple search result pages\n",
    "video_id_list = []\n",
    "\n",
    "while page_token != 0:\n",
    "    params = {\n",
    "        \"key\": my_key, \n",
    "        'channelId': channel_id, \n",
    "        'part': [\"snippet\",\"id\"], \n",
    "        'order': \"date\", \n",
    "        'maxResults':50, \n",
    "        'pageToken': page_token\n",
    "    }\n",
    "    response = requests.get(url, params=params)\n",
    "\n",
    "    for raw_item in dict(response.json())['items']:\n",
    "        \n",
    "        # only execute for youtube videos\n",
    "        if raw_item['id']['kind'] != \"youtube#video\":\n",
    "            continue\n",
    "\n",
    "        # grab video ids\n",
    "        video_id_list.append(raw_item['id']['videoId'])\n",
    "\n",
    "    try:\n",
    "        # grab next page token\n",
    "        page_token = dict(response.json())['nextPageToken']\n",
    "    except:\n",
    "        # if no next page token kill while loop\n",
    "        page_token = 0"
   ]
  },
  {
   "cell_type": "code",
   "execution_count": 3,
   "id": "70f9d1ae-8350-40a4-bb6d-fefd6cedcac0",
   "metadata": {},
   "outputs": [
    {
     "data": {
      "text/plain": [
       "121"
      ]
     },
     "execution_count": 3,
     "metadata": {},
     "output_type": "execute_result"
    }
   ],
   "source": [
    "len(video_id_list)"
   ]
  },
  {
   "cell_type": "markdown",
   "id": "84bd2fde-ad17-4f84-a45f-e80b932321a9",
   "metadata": {},
   "source": [
    "#### extract titles and thumbnail urls"
   ]
  },
  {
   "cell_type": "code",
   "execution_count": 4,
   "id": "66e4c505-fd6a-4323-b969-ef78c66a09d7",
   "metadata": {},
   "outputs": [],
   "source": [
    "url = \"https://www.googleapis.com/youtube/v3/videos\"\n",
    "\n",
    "video_data_list = []\n",
    "\n",
    "for video_id in video_id_list:\n",
    "\n",
    "    params = {\n",
    "        \"part\": [\"snippet\",\"contentDetails\"],\n",
    "        \"id\": video_id,  \n",
    "        \"key\": my_key,  \n",
    "    }\n",
    "    response = requests.get(url, params=params)\n",
    "    \n",
    "    raw_dict = dict(response.json())['items'][0]\n",
    "\n",
    "    # only process videos longer than 3 minutes\n",
    "    iso_duration = raw_dict['contentDetails'][\"duration\"]\n",
    "    if parse_duration(iso_duration).total_seconds() < 180:\n",
    "        continue\n",
    "    \n",
    "    # extract video data\n",
    "    video_data = {}\n",
    "    video_data['video_id'] = video_id\n",
    "    video_data['title'] = raw_dict['snippet']['title']\n",
    "    video_data['thumbnail_url'] = raw_dict['snippet']['thumbnails']['high']['url']\n",
    "\n",
    "    # append data to list\n",
    "    video_data_list.append(video_data)"
   ]
  },
  {
   "cell_type": "code",
   "execution_count": 5,
   "id": "8b9fc900-51c9-4dc5-a4f8-7f01c707a570",
   "metadata": {},
   "outputs": [
    {
     "data": {
      "text/plain": [
       "76"
      ]
     },
     "execution_count": 5,
     "metadata": {},
     "output_type": "execute_result"
    }
   ],
   "source": [
    "len(video_data_list)"
   ]
  },
  {
   "cell_type": "markdown",
   "id": "b1308106-1ace-4818-894c-29da1f2a3b72",
   "metadata": {},
   "source": [
    "### Transform"
   ]
  },
  {
   "cell_type": "markdown",
   "id": "6919e35e-960e-4377-9f8b-e63a5718a708",
   "metadata": {},
   "source": [
    "#### create dataframe"
   ]
  },
  {
   "cell_type": "code",
   "execution_count": 6,
   "id": "d62bf805-213d-48fc-a8f7-91640edf8ec5",
   "metadata": {},
   "outputs": [
    {
     "data": {
      "text/html": [
       "<div>\n",
       "<style scoped>\n",
       "    .dataframe tbody tr th:only-of-type {\n",
       "        vertical-align: middle;\n",
       "    }\n",
       "\n",
       "    .dataframe tbody tr th {\n",
       "        vertical-align: top;\n",
       "    }\n",
       "\n",
       "    .dataframe thead th {\n",
       "        text-align: right;\n",
       "    }\n",
       "</style>\n",
       "<table border=\"1\" class=\"dataframe\">\n",
       "  <thead>\n",
       "    <tr style=\"text-align: right;\">\n",
       "      <th></th>\n",
       "      <th>video_id</th>\n",
       "      <th>title</th>\n",
       "      <th>thumbnail_url</th>\n",
       "    </tr>\n",
       "  </thead>\n",
       "  <tbody>\n",
       "    <tr>\n",
       "      <th>0</th>\n",
       "      <td>hOLBrIjRAj4</td>\n",
       "      <td>Fine-Tuning Text Embeddings For Domain-specifi...</td>\n",
       "      <td>https://i.ytimg.com/vi/hOLBrIjRAj4/hqdefault.jpg</td>\n",
       "    </tr>\n",
       "    <tr>\n",
       "      <th>1</th>\n",
       "      <td>V1BR2tb_e8g</td>\n",
       "      <td>My AI Development Setup (From Scratch)</td>\n",
       "      <td>https://i.ytimg.com/vi/V1BR2tb_e8g/hqdefault.jpg</td>\n",
       "    </tr>\n",
       "    <tr>\n",
       "      <th>2</th>\n",
       "      <td>R5WXaxmb6m4</td>\n",
       "      <td>How to Build a Resume Optimizer with AI (Code ...</td>\n",
       "      <td>https://i.ytimg.com/vi/R5WXaxmb6m4/hqdefault.jpg</td>\n",
       "    </tr>\n",
       "    <tr>\n",
       "      <th>3</th>\n",
       "      <td>e3p9-hYxwSQ</td>\n",
       "      <td>How I’d Learn AI in 2025 (if I could start over)</td>\n",
       "      <td>https://i.ytimg.com/vi/e3p9-hYxwSQ/hqdefault.jpg</td>\n",
       "    </tr>\n",
       "    <tr>\n",
       "      <th>4</th>\n",
       "      <td>Y7pNmocrmi8</td>\n",
       "      <td>Multimodal RAG: A Beginner-friendly Guide (wit...</td>\n",
       "      <td>https://i.ytimg.com/vi/Y7pNmocrmi8/hqdefault.jpg</td>\n",
       "    </tr>\n",
       "  </tbody>\n",
       "</table>\n",
       "</div>"
      ],
      "text/plain": [
       "      video_id                                              title  \\\n",
       "0  hOLBrIjRAj4  Fine-Tuning Text Embeddings For Domain-specifi...   \n",
       "1  V1BR2tb_e8g             My AI Development Setup (From Scratch)   \n",
       "2  R5WXaxmb6m4  How to Build a Resume Optimizer with AI (Code ...   \n",
       "3  e3p9-hYxwSQ   How I’d Learn AI in 2025 (if I could start over)   \n",
       "4  Y7pNmocrmi8  Multimodal RAG: A Beginner-friendly Guide (wit...   \n",
       "\n",
       "                                      thumbnail_url  \n",
       "0  https://i.ytimg.com/vi/hOLBrIjRAj4/hqdefault.jpg  \n",
       "1  https://i.ytimg.com/vi/V1BR2tb_e8g/hqdefault.jpg  \n",
       "2  https://i.ytimg.com/vi/R5WXaxmb6m4/hqdefault.jpg  \n",
       "3  https://i.ytimg.com/vi/e3p9-hYxwSQ/hqdefault.jpg  \n",
       "4  https://i.ytimg.com/vi/Y7pNmocrmi8/hqdefault.jpg  "
      ]
     },
     "execution_count": 6,
     "metadata": {},
     "output_type": "execute_result"
    }
   ],
   "source": [
    "df = pd.DataFrame(video_data_list)\n",
    "df.head()"
   ]
  },
  {
   "cell_type": "markdown",
   "id": "59f37574-a53b-427e-99cf-e56c4c7bda3f",
   "metadata": {},
   "source": [
    "#### create negative pairs"
   ]
  },
  {
   "cell_type": "code",
   "execution_count": 7,
   "id": "b86b31be-7d50-4841-969e-70c726207319",
   "metadata": {},
   "outputs": [],
   "source": [
    "# Load the model\n",
    "model = SentenceTransformer(\"all-mpnet-base-v2\")"
   ]
  },
  {
   "cell_type": "code",
   "execution_count": 8,
   "id": "f2116b74-7a95-42b5-878e-e3446cbd21b0",
   "metadata": {},
   "outputs": [
    {
     "name": "stdout",
     "output_type": "stream",
     "text": [
      "(76, 768)\n",
      "CPU times: user 162 ms, sys: 45.4 ms, total: 208 ms\n",
      "Wall time: 265 ms\n"
     ]
    }
   ],
   "source": [
    "%%time\n",
    "# Encode all titles\n",
    "job_embeddings = model.encode(df['title'].to_list())\n",
    "print(job_embeddings.shape)"
   ]
  },
  {
   "cell_type": "code",
   "execution_count": 9,
   "id": "7626b24b-0d60-48b9-895a-3fe7ee119d61",
   "metadata": {},
   "outputs": [
    {
     "name": "stdout",
     "output_type": "stream",
     "text": [
      "torch.Size([76, 76])\n"
     ]
    }
   ],
   "source": [
    "# compute similarities\n",
    "similarities = model.similarity(job_embeddings, job_embeddings)\n",
    "print(similarities.shape)"
   ]
  },
  {
   "cell_type": "code",
   "execution_count": 10,
   "id": "c434abb7-1553-4bbf-8e34-ac68397fcec4",
   "metadata": {},
   "outputs": [],
   "source": [
    "# match least title least similar to positive match as the negative match\n",
    "similarities_argsorted = np.argsort(similarities.numpy(), axis=1)\n",
    "negative_pair_index_list = []\n",
    "\n",
    "for i in range(len(similarities)):\n",
    "\n",
    "    # Start with the smallest similarity index for the current row\n",
    "    j = 0\n",
    "    index = int(similarities_argsorted[i][j])\n",
    "\n",
    "    # Ensure the index is unique\n",
    "    while index in negative_pair_index_list:\n",
    "        j += 1  # Move to the next smallest index\n",
    "        index = int(similarities_argsorted[i][j])  # Fetch next smallest index\n",
    "\n",
    "    negative_pair_index_list.append(index)"
   ]
  },
  {
   "cell_type": "code",
   "execution_count": 11,
   "id": "4d9008a0-4c34-4f5f-88af-cef503d453f6",
   "metadata": {},
   "outputs": [],
   "source": [
    "# add negative pairs to df\n",
    "df['title_neg'] = df['title'].iloc[negative_pair_index_list].values"
   ]
  },
  {
   "cell_type": "code",
   "execution_count": 12,
   "id": "1ba51ea0-0080-4a28-b06f-b225f6cc78c7",
   "metadata": {},
   "outputs": [
    {
     "data": {
      "text/html": [
       "<div>\n",
       "<style scoped>\n",
       "    .dataframe tbody tr th:only-of-type {\n",
       "        vertical-align: middle;\n",
       "    }\n",
       "\n",
       "    .dataframe tbody tr th {\n",
       "        vertical-align: top;\n",
       "    }\n",
       "\n",
       "    .dataframe thead th {\n",
       "        text-align: right;\n",
       "    }\n",
       "</style>\n",
       "<table border=\"1\" class=\"dataframe\">\n",
       "  <thead>\n",
       "    <tr style=\"text-align: right;\">\n",
       "      <th></th>\n",
       "      <th>video_id</th>\n",
       "      <th>title</th>\n",
       "      <th>thumbnail_url</th>\n",
       "      <th>title_neg</th>\n",
       "    </tr>\n",
       "  </thead>\n",
       "  <tbody>\n",
       "    <tr>\n",
       "      <th>0</th>\n",
       "      <td>hOLBrIjRAj4</td>\n",
       "      <td>Fine-Tuning Text Embeddings For Domain-specifi...</td>\n",
       "      <td>https://i.ytimg.com/vi/hOLBrIjRAj4/hqdefault.jpg</td>\n",
       "      <td>Why Conflict Is Good &amp; How You Can Use It</td>\n",
       "    </tr>\n",
       "    <tr>\n",
       "      <th>1</th>\n",
       "      <td>V1BR2tb_e8g</td>\n",
       "      <td>My AI Development Setup (From Scratch)</td>\n",
       "      <td>https://i.ytimg.com/vi/V1BR2tb_e8g/hqdefault.jpg</td>\n",
       "      <td>Pareto, Power Laws, and Fat Tails</td>\n",
       "    </tr>\n",
       "    <tr>\n",
       "      <th>2</th>\n",
       "      <td>R5WXaxmb6m4</td>\n",
       "      <td>How to Build a Resume Optimizer with AI (Code ...</td>\n",
       "      <td>https://i.ytimg.com/vi/R5WXaxmb6m4/hqdefault.jpg</td>\n",
       "      <td>Topological Data Analysis (TDA) | An introduction</td>\n",
       "    </tr>\n",
       "    <tr>\n",
       "      <th>3</th>\n",
       "      <td>e3p9-hYxwSQ</td>\n",
       "      <td>How I’d Learn AI in 2025 (if I could start over)</td>\n",
       "      <td>https://i.ytimg.com/vi/e3p9-hYxwSQ/hqdefault.jpg</td>\n",
       "      <td>4 Ways to Measure Fat Tails with Python (+ Exa...</td>\n",
       "    </tr>\n",
       "    <tr>\n",
       "      <th>4</th>\n",
       "      <td>Y7pNmocrmi8</td>\n",
       "      <td>Multimodal RAG: A Beginner-friendly Guide (wit...</td>\n",
       "      <td>https://i.ytimg.com/vi/Y7pNmocrmi8/hqdefault.jpg</td>\n",
       "      <td>What Nature Can Teach Us About Business...</td>\n",
       "    </tr>\n",
       "  </tbody>\n",
       "</table>\n",
       "</div>"
      ],
      "text/plain": [
       "      video_id                                              title  \\\n",
       "0  hOLBrIjRAj4  Fine-Tuning Text Embeddings For Domain-specifi...   \n",
       "1  V1BR2tb_e8g             My AI Development Setup (From Scratch)   \n",
       "2  R5WXaxmb6m4  How to Build a Resume Optimizer with AI (Code ...   \n",
       "3  e3p9-hYxwSQ   How I’d Learn AI in 2025 (if I could start over)   \n",
       "4  Y7pNmocrmi8  Multimodal RAG: A Beginner-friendly Guide (wit...   \n",
       "\n",
       "                                      thumbnail_url  \\\n",
       "0  https://i.ytimg.com/vi/hOLBrIjRAj4/hqdefault.jpg   \n",
       "1  https://i.ytimg.com/vi/V1BR2tb_e8g/hqdefault.jpg   \n",
       "2  https://i.ytimg.com/vi/R5WXaxmb6m4/hqdefault.jpg   \n",
       "3  https://i.ytimg.com/vi/e3p9-hYxwSQ/hqdefault.jpg   \n",
       "4  https://i.ytimg.com/vi/Y7pNmocrmi8/hqdefault.jpg   \n",
       "\n",
       "                                           title_neg  \n",
       "0          Why Conflict Is Good & How You Can Use It  \n",
       "1                  Pareto, Power Laws, and Fat Tails  \n",
       "2  Topological Data Analysis (TDA) | An introduction  \n",
       "3  4 Ways to Measure Fat Tails with Python (+ Exa...  \n",
       "4         What Nature Can Teach Us About Business...  "
      ]
     },
     "execution_count": 12,
     "metadata": {},
     "output_type": "execute_result"
    }
   ],
   "source": [
    "df.head()"
   ]
  },
  {
   "cell_type": "markdown",
   "id": "d080c7b6-987a-4735-916a-1ba67d940fa8",
   "metadata": {},
   "source": [
    "#### train-test split"
   ]
  },
  {
   "cell_type": "code",
   "execution_count": 13,
   "id": "956c6596-5c67-451f-a2f0-22317e00a9db",
   "metadata": {},
   "outputs": [],
   "source": [
    "# Shuffle the dataset\n",
    "df = df.sample(frac=1, random_state=42).reset_index(drop=True)\n",
    "\n",
    "# Split into train, validation, and test sets (e.g., 80% train, 20% test)\n",
    "train_frac = 0.7\n",
    "valid_frac = 0.15\n",
    "test_frac = 0.15\n",
    "\n",
    "# define train and validation size\n",
    "train_size = int(train_frac * len(df))\n",
    "valid_size = int(valid_frac * len(df))\n",
    "\n",
    "# create train, validation, and test datasets\n",
    "df_train = df[:train_size]\n",
    "df_valid = df[train_size:train_size + valid_size]\n",
    "df_test = df[train_size + valid_size:]"
   ]
  },
  {
   "cell_type": "markdown",
   "id": "6c436bb3-75a0-44c8-b31b-2f154990bfb1",
   "metadata": {},
   "source": [
    "### Load"
   ]
  },
  {
   "cell_type": "code",
   "execution_count": 14,
   "id": "3210357e-b0cf-48fa-8a9e-3106ab817ab5",
   "metadata": {},
   "outputs": [],
   "source": [
    "# Convert the pandas DataFrames back to Hugging Face Datasets\n",
    "train_ds = Dataset.from_pandas(df_train)\n",
    "valid_ds = Dataset.from_pandas(df_valid)\n",
    "test_ds = Dataset.from_pandas(df_test)\n",
    "\n",
    "# Combine into a DatasetDict\n",
    "dataset_dict = DatasetDict({\n",
    "    'train': train_ds,\n",
    "    'valid': valid_ds,\n",
    "    'test': test_ds\n",
    "})"
   ]
  },
  {
   "cell_type": "code",
   "execution_count": 15,
   "id": "d5d1b868-930c-428a-8a08-31710af2ce29",
   "metadata": {},
   "outputs": [
    {
     "data": {
      "text/plain": [
       "DatasetDict({\n",
       "    train: Dataset({\n",
       "        features: ['video_id', 'title', 'thumbnail_url', 'title_neg'],\n",
       "        num_rows: 53\n",
       "    })\n",
       "    valid: Dataset({\n",
       "        features: ['video_id', 'title', 'thumbnail_url', 'title_neg'],\n",
       "        num_rows: 11\n",
       "    })\n",
       "    test: Dataset({\n",
       "        features: ['video_id', 'title', 'thumbnail_url', 'title_neg'],\n",
       "        num_rows: 12\n",
       "    })\n",
       "})"
      ]
     },
     "execution_count": 15,
     "metadata": {},
     "output_type": "execute_result"
    }
   ],
   "source": [
    "dataset_dict"
   ]
  },
  {
   "cell_type": "code",
   "execution_count": 16,
   "id": "ab034731-772d-46f4-8338-0158b28a03ea",
   "metadata": {},
   "outputs": [
    {
     "data": {
      "application/vnd.jupyter.widget-view+json": {
       "model_id": "4a3c312256bc46e791b81361ded78771",
       "version_major": 2,
       "version_minor": 0
      },
      "text/plain": [
       "Uploading the dataset shards:   0%|          | 0/1 [00:00<?, ?it/s]"
      ]
     },
     "metadata": {},
     "output_type": "display_data"
    },
    {
     "data": {
      "application/vnd.jupyter.widget-view+json": {
       "model_id": "02c80eea5fec41008fd6d80514ed3793",
       "version_major": 2,
       "version_minor": 0
      },
      "text/plain": [
       "Creating parquet from Arrow format:   0%|          | 0/1 [00:00<?, ?ba/s]"
      ]
     },
     "metadata": {},
     "output_type": "display_data"
    },
    {
     "data": {
      "application/vnd.jupyter.widget-view+json": {
       "model_id": "9d362869a78b4fd9be1dac7f4abec679",
       "version_major": 2,
       "version_minor": 0
      },
      "text/plain": [
       "Uploading the dataset shards:   0%|          | 0/1 [00:00<?, ?it/s]"
      ]
     },
     "metadata": {},
     "output_type": "display_data"
    },
    {
     "data": {
      "application/vnd.jupyter.widget-view+json": {
       "model_id": "02e9b281e516428b94502e4326d1b078",
       "version_major": 2,
       "version_minor": 0
      },
      "text/plain": [
       "Creating parquet from Arrow format:   0%|          | 0/1 [00:00<?, ?ba/s]"
      ]
     },
     "metadata": {},
     "output_type": "display_data"
    },
    {
     "data": {
      "application/vnd.jupyter.widget-view+json": {
       "model_id": "b64b9315d2624c65adc9c241428f6926",
       "version_major": 2,
       "version_minor": 0
      },
      "text/plain": [
       "Uploading the dataset shards:   0%|          | 0/1 [00:00<?, ?it/s]"
      ]
     },
     "metadata": {},
     "output_type": "display_data"
    },
    {
     "data": {
      "application/vnd.jupyter.widget-view+json": {
       "model_id": "01697b9575da4f569686e4bd668e1c38",
       "version_major": 2,
       "version_minor": 0
      },
      "text/plain": [
       "Creating parquet from Arrow format:   0%|          | 0/1 [00:00<?, ?ba/s]"
      ]
     },
     "metadata": {},
     "output_type": "display_data"
    },
    {
     "data": {
      "text/plain": [
       "CommitInfo(commit_url='https://huggingface.co/datasets/shawhin/yt-title-thumbnail-pairs/commit/f97327c11b7ddca68b7cfa4c9a225ac8fd987866', commit_message='Upload dataset', commit_description='', oid='f97327c11b7ddca68b7cfa4c9a225ac8fd987866', pr_url=None, repo_url=RepoUrl('https://huggingface.co/datasets/shawhin/yt-title-thumbnail-pairs', endpoint='https://huggingface.co', repo_type='dataset', repo_id='shawhin/yt-title-thumbnail-pairs'), pr_revision=None, pr_num=None)"
      ]
     },
     "execution_count": 16,
     "metadata": {},
     "output_type": "execute_result"
    }
   ],
   "source": [
    "# push data to hub\n",
    "dataset_dict.push_to_hub(\"shawhin/yt-title-thumbnail-pairs\")"
   ]
  },
  {
   "cell_type": "code",
   "execution_count": null,
   "id": "b640497c-7534-45db-b308-29ec7fc286c4",
   "metadata": {},
   "outputs": [],
   "source": []
  }
 ],
 "metadata": {
  "kernelspec": {
   "display_name": "Python 3 (ipykernel)",
   "language": "python",
   "name": "python3"
  },
  "language_info": {
   "codemirror_mode": {
    "name": "ipython",
    "version": 3
   },
   "file_extension": ".py",
   "mimetype": "text/x-python",
   "name": "python",
   "nbconvert_exporter": "python",
   "pygments_lexer": "ipython3",
   "version": "3.12.8"
  }
 },
 "nbformat": 4,
 "nbformat_minor": 5
}

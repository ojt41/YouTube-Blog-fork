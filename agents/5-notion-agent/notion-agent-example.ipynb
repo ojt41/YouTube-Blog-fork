{
 "cells": [
  {
   "cell_type": "markdown",
   "id": "8c2d949d-266f-411e-875e-b2af2828b019",
   "metadata": {},
   "source": [
    "# Notion AI Agent\n",
    "\n",
    "Code authored by: Shaw Talebi"
   ]
  },
  {
   "cell_type": "markdown",
   "id": "89caf2ed-7601-4f32-8570-8a019648805d",
   "metadata": {},
   "source": [
    "### imports"
   ]
  },
  {
   "cell_type": "code",
   "execution_count": 1,
   "id": "f6636f2b-6e1c-4a74-b8d6-bf58e0f19774",
   "metadata": {},
   "outputs": [],
   "source": [
    "from agents.mcp.server import MCPServerStdio, MCPServer\n",
    "from agents import Agent, Runner, gen_trace_id, trace, ModelSettings\n",
    "from openai.types.responses import ResponseTextDeltaEvent\n",
    "import os\n",
    "import asyncio"
   ]
  },
  {
   "cell_type": "code",
   "execution_count": 2,
   "id": "4225661e-e24d-4374-9c12-c7da2c3c6955",
   "metadata": {},
   "outputs": [],
   "source": [
    "from dotenv import load_dotenv\n",
    "load_dotenv()\n",
    "\n",
    "# import notion api key\n",
    "notion_key = os.getenv(\"NOTION_API_KEY\")"
   ]
  },
  {
   "cell_type": "markdown",
   "id": "1f1994b3-97dd-4e7d-8626-1ff752d9a005",
   "metadata": {},
   "source": [
    "### explore MCP server tools"
   ]
  },
  {
   "cell_type": "code",
   "execution_count": 3,
   "id": "c8ee489b-0e6a-41cf-ba45-e7d7eb57daae",
   "metadata": {},
   "outputs": [],
   "source": [
    "async with MCPServerStdio(\n",
    "    params={\n",
    "        \"command\": \"npx\",\n",
    "        \"args\": [\"-y\", \"@notionhq/notion-mcp-server\"],\n",
    "        \"env\": {\n",
    "        \"OPENAPI_MCP_HEADERS\": \"{\\\"Authorization\\\": \\\"Bearer \" + notion_key + \"\\\", \\\"Notion-Version\\\": \\\"2022-06-28\\\" }\"\n",
    "        }\n",
    "    }\n",
    ") as server:\n",
    "    tool_list = await server.list_tools()"
   ]
  },
  {
   "cell_type": "code",
   "execution_count": 4,
   "id": "5b69e98b-7fe4-4f5d-aad2-eaca1265d53a",
   "metadata": {},
   "outputs": [
    {
     "name": "stdout",
     "output_type": "stream",
     "text": [
      "['API-get-user', 'API-get-users', 'API-get-self', 'API-post-database-query', 'API-post-search', 'API-get-block-children', 'API-patch-block-children', 'API-retrieve-a-block', 'API-update-a-block', 'API-delete-a-block', 'API-retrieve-a-page', 'API-patch-page', 'API-post-page', 'API-create-a-database', 'API-update-a-database', 'API-retrieve-a-database', 'API-retrieve-a-page-property', 'API-retrieve-a-comment', 'API-create-a-comment']\n"
     ]
    }
   ],
   "source": [
    "toolname_list = [tool.name for tool in tool_list]\n",
    "print(toolname_list)"
   ]
  },
  {
   "cell_type": "code",
   "execution_count": 5,
   "id": "b271371d-7fc6-4883-811e-721e1a428cc3",
   "metadata": {},
   "outputs": [
    {
     "data": {
      "text/plain": [
       "['Retrieve a user\\nError Responses:\\n400: 400',\n",
       " 'List all users\\nError Responses:\\n400: 400',\n",
       " \"Retrieve your token's bot user\",\n",
       " 'Query a database',\n",
       " 'Search by title',\n",
       " 'Retrieve block children',\n",
       " 'Append block children',\n",
       " 'Retrieve a block',\n",
       " 'Update a block',\n",
       " 'Delete a block',\n",
       " 'Retrieve a page',\n",
       " 'Update page properties',\n",
       " 'Create a page',\n",
       " 'Create a database',\n",
       " 'Update a database',\n",
       " 'Retrieve a database',\n",
       " 'Retrieve a page property item',\n",
       " 'Retrieve comments',\n",
       " 'Create comment']"
      ]
     },
     "execution_count": 5,
     "metadata": {},
     "output_type": "execute_result"
    }
   ],
   "source": [
    "[tool.description for tool in tool_list]"
   ]
  },
  {
   "cell_type": "markdown",
   "id": "6e846f00-5d9b-4718-824c-092db58b8168",
   "metadata": {},
   "source": [
    "### creat main with MCP server"
   ]
  },
  {
   "cell_type": "code",
   "execution_count": 6,
   "id": "2fe26cef-2f48-4d36-af5f-57814fa2969e",
   "metadata": {},
   "outputs": [],
   "source": [
    "async def main():\n",
    "    \n",
    "    async with MCPServerStdio(\n",
    "        params={\n",
    "            \"command\": \"npx\",\n",
    "            \"args\": [\"-y\", \"@notionhq/notion-mcp-server\"],\n",
    "            \"env\": {\n",
    "            \"OPENAPI_MCP_HEADERS\": \"{\\\"Authorization\\\": \\\"Bearer \" + notion_key + \"\\\", \\\"Notion-Version\\\": \\\"2022-06-28\\\" }\"\n",
    "            }\n",
    "        }\n",
    "    ) as server:\n",
    "        trace_id = gen_trace_id()\n",
    "        with trace(workflow_name=\"Notion Agent Example\", trace_id=trace_id):\n",
    "            print(f\"View trace: https://platform.openai.com/traces/trace?trace_id={trace_id}\\n\")\n",
    "            await run(server)\n",
    "        \n",
    "        tools = await server.list_tools()"
   ]
  },
  {
   "cell_type": "markdown",
   "id": "cabd3aee-59bd-424c-9fa9-1f97d8abd6da",
   "metadata": {
    "scrolled": true
   },
   "source": [
    "### create run() with agent"
   ]
  },
  {
   "cell_type": "code",
   "execution_count": 7,
   "id": "7c866d92-2da4-44d0-a669-c5d2578ff2d5",
   "metadata": {},
   "outputs": [],
   "source": [
    "with open('instructions.md', 'r', encoding='utf-8') as file:\n",
    "    instructions = file.read()"
   ]
  },
  {
   "cell_type": "code",
   "execution_count": 8,
   "id": "e98d15d5-3279-4c2c-b027-2615bd11ced9",
   "metadata": {
    "jupyter": {
     "source_hidden": true
    }
   },
   "outputs": [],
   "source": [
    "# async def run(mcp_server: MCPServer):\n",
    "#     agent = Agent(\n",
    "#         name=\"Notion Agent\",\n",
    "#         model=\"gpt-4.1-2025-04-14\",\n",
    "#         instructions=instructions,\n",
    "#         mcp_servers=[mcp_server],\n",
    "#     )\n",
    "#     ModelSettings.tool_choice = \"required\"\n",
    "\n",
    "#     # get user input\n",
    "#     message = input(\"\\nUser: \").strip()\n",
    "    \n",
    "#     # run agent\n",
    "#     result = await Runner.run(starting_agent=agent, input=message)\n",
    "#     print(result.final_output)"
   ]
  },
  {
   "cell_type": "code",
   "execution_count": 9,
   "id": "f250f29f",
   "metadata": {},
   "outputs": [],
   "source": [
    "async def run(mcp_server: MCPServer):\n",
    "    agent = Agent(\n",
    "        name=\"Notion Agent\",\n",
    "        model=\"gpt-4.1-2025-04-14\",\n",
    "        instructions=instructions,\n",
    "        mcp_servers=[mcp_server],\n",
    "    )\n",
    "    ModelSettings.tool_choice = \"required\"\n",
    "    \n",
    "    input_items = []\n",
    "\n",
    "    print(\"=== Notion AI Agent ===\")\n",
    "    print(\"Type 'exit' to end the conversation\")\n",
    "\n",
    "    while True:\n",
    "        # Get user input\n",
    "        user_input = input(\"\\nUser: \").strip()\n",
    "        input_items.append({\"content\": user_input, \"role\": \"user\"})\n",
    "        \n",
    "        # Check for exit command\n",
    "        if user_input.lower() in ['exit', 'quit', 'bye']:\n",
    "            print(\"\\nGoodbye!\")\n",
    "            break\n",
    "            \n",
    "        if not user_input:\n",
    "            continue\n",
    "\n",
    "        print(\"\\nAgent: \", end=\"\", flush=True)\n",
    "        result = Runner.run_streamed(\n",
    "            agent,\n",
    "            input=input_items,\n",
    "        )\n",
    "        \n",
    "        async for event in result.stream_events():\n",
    "            # We'll ignore the raw responses event deltas for text\n",
    "            if event.type == \"raw_response_event\" and isinstance(event.data, ResponseTextDeltaEvent):\n",
    "                print(event.data.delta, end=\"\", flush=True)\n",
    "            elif event.type == \"run_item_stream_event\":\n",
    "                if event.item.type == \"tool_call_item\":\n",
    "                    print(f\"\\n-- Calling Tool: {event.item.raw_item.name}...\")\n",
    "                elif event.item.type == \"tool_call_output_item\":\n",
    "                    print(\"-- Tool call completed.\")\n",
    "                elif event.item.type == \"message_output_item\":\n",
    "                    input_items.append({\"content\": f\"{event.item.raw_item.content[0].text}\", \"role\": \"assistant\"})\n",
    "                else:\n",
    "                    pass  # Ignore other event types\n",
    "\n",
    "        print(\"\\n\")  # Add a newline after each response\n",
    "\n",
    "# ... existing code ..."
   ]
  },
  {
   "cell_type": "markdown",
   "id": "878a207c-44de-4397-923a-e6a932004a2f",
   "metadata": {},
   "source": [
    "### run agent"
   ]
  },
  {
   "cell_type": "code",
   "execution_count": 10,
   "id": "6c708192-577b-4432-934a-e49d99b07e4b",
   "metadata": {
    "jupyter": {
     "source_hidden": true
    }
   },
   "outputs": [],
   "source": [
    "# # to run in a .py script use\n",
    "# if __name__ == \"__main__\":\n",
    "#     asyncio.run(main())"
   ]
  },
  {
   "cell_type": "code",
   "execution_count": 11,
   "id": "e4eee149-6f97-4a9a-88d7-652819156c69",
   "metadata": {},
   "outputs": [
    {
     "name": "stdout",
     "output_type": "stream",
     "text": [
      "View trace: https://platform.openai.com/traces/trace?trace_id=trace_e03e30253fa04e88953316353b538a92\n",
      "\n",
      "=== Notion AI Agent ===\n",
      "Type 'exit' to end the conversation\n"
     ]
    },
    {
     "name": "stdin",
     "output_type": "stream",
     "text": [
      "\n",
      "User:  Search for post ideas on AI consulting\n"
     ]
    },
    {
     "name": "stdout",
     "output_type": "stream",
     "text": [
      "\n",
      "Agent: \n",
      "-- Calling Tool: API-post-search...\n",
      "-- Tool call completed.\n",
      "Here are some recent post ideas on AI consulting found in the Notion workspace:\n",
      "\n",
      "1. **AI won’t make you rich (solving problems will)**\n",
      "   - Theme: Focusing on problems over hype in AI consulting.\n",
      "   - URL: (Internal Notion link)\n",
      "\n",
      "2. **Quitting Consulting**\n",
      "   - Theme: Why Shaw is quitting AI consulting to focus on YouTube (focus, results from YouTube, and the benefits of deep specialization).\n",
      "   - URL: (Internal Notion link)\n",
      "\n",
      "3. **How to find (in-demand) AI freelancing service using ChatGPT**\n",
      "   - Theme: Using ChatGPT to research and validate AI consulting and freelancing service ideas.\n",
      "   - URL: (Internal Notion link)\n",
      "\n",
      "4. **My 2025 AI Product Development Tech Stack**\n",
      "   - Theme: Tools and technologies for AI consulting/product development in 2025.\n",
      "   - URL: (Internal Notion link)\n",
      "\n",
      "5. **5 AI projects…**\n",
      "   - Theme: Project ideas for building portfolio as an AI consultant/freelancer.\n",
      "   - URL: (Internal Notion link)\n",
      "\n",
      "If you want a full LinkedIn post written on any of these ideas—or want notes or copy from within any page—let me know which title or topic to focus on.\n",
      "\n"
     ]
    },
    {
     "name": "stdin",
     "output_type": "stream",
     "text": [
      "\n",
      "User:  Let's flesh out idea 3 based on the content\n"
     ]
    },
    {
     "name": "stdout",
     "output_type": "stream",
     "text": [
      "\n",
      "Agent: \n",
      "-- Calling Tool: API-post-search...\n",
      "-- Tool call completed.\n",
      "\n",
      "-- Calling Tool: API-get-block-children...\n",
      "-- Tool call completed.\n",
      "Step 1: Purpose & Audience\n",
      "- Purpose: Educate and provide a practical, clearly outlined method for finding in-demand AI freelancing/consulting service ideas using ChatGPT.\n",
      "- Audience: Aspiring and early-stage AI freelancers, consultants, and technical professionals considering a freelance path.\n",
      "\n",
      "Step 2: Post Wireframe\n",
      "\n",
      "[Hook: Direct, practical, curiosity-driven—maybe focus on \"the fastest way to validate what AI services are actually getting paid for\"]\n",
      "\n",
      "[Meat/Body]\n",
      "- Stepwise guide showing how to use actual job postings, plus ChatGPT, to identify in-demand, well-paying services/niches.\n",
      "- Brief explanation for each step (not just a list).\n",
      "- Framing: This is the actual process, not just theory.\n",
      "\n",
      "[CTA]\n",
      "- Ask for additional methods, or for readers to share their own favorite tools for service validation.\n",
      "\n",
      "Step 3: Body (“meat”)\n",
      "\n",
      "The fastest way I know to validate which AI freelancing services are actually in demand is using a mix of Upwork and ChatGPT.\n",
      "\n",
      "Here’s a basic framework:\n",
      "\n",
      "1. Search and scrape jobs from Upwork (or your favorite platform). Export them to a .csv file.\n",
      "2. Clean up the .csv—remove duplicates, normalize column names, etc.\n",
      "3. Upload your .csv to ChatGPT and ask it to categorize gigs by type of service, then sort by frequency and average budget. This shows what clients are actually paying for.\n",
      "4. If you want to go deeper, brainstorm with ChatGPT about your own niche based on your past work or skills. This helps you map your experience to what’s actually getting hired.\n",
      "\n",
      "You end up with a data-driven shortlist of consulting offers—validated by what companies are already buying.\n",
      "\n",
      "Step 4: CTA\n",
      "\n",
      "What other tools or tactics would you add to this service validation process?\n",
      "\n",
      "Step 5: Hook Brainstorm/Direction\n",
      "\n",
      "a) [Problem/Solution] “Stop guessing what clients want. Here’s how to validate in-demand AI services (with ChatGPT and a spreadsheet).”\n",
      "b) [Beginner-to-expert clarity] “Most new freelancers guess at their offers. Here’s how to base yours on real job data.”\n",
      "c) [Direct/Numbers] “4 steps to find profitable AI gigs (using ChatGPT + Upwork job data).”\n",
      "d) [Personal shortcut/Process] “How I shortcut months of guessing and found my AI consulting niche with just OpenAI and a simple CSV.”\n",
      "e) [User’s own phrasing] “How to find (in-demand) AI freelancing service using ChatGPT.” (factual, but could be punchier)\n",
      "\n",
      "Step 6: Draft of Full Post\n",
      "\n",
      "4 steps to find profitable AI gigs (using ChatGPT + real job data)\n",
      "\n",
      "The fastest way I know to figure out what companies are actually paying for is to combine job scraping with a bit of LLM analysis.\n",
      "\n",
      "Here’s the process:\n",
      "\n",
      "1. Search and scrape jobs from Upwork. Export the listings to a .csv file.\n",
      "2. Clean up your .csv in Excel or Google Sheets.\n",
      "3. Upload the cleaned .csv to ChatGPT. Ask it to categorize gigs by service type, then sort by frequency and average budget—now you can see what’s hot and what pays.\n",
      "4. Brainstorm with ChatGPT based on your own experience. What’s your unique angle? Map your skills to real, validated needs.\n",
      "\n",
      "Doing this leaves you with a data-driven shortlist of AI consulting offers that are proven to get hired.\n",
      "\n",
      "What other tools or tactics would you add to this service validation process?\n",
      "\n",
      "Step 7: Review for Style, Voice, and Flow\n",
      "\n",
      "- ✅ Em dash audit: Only one em dash (“now you can see what’s hot and what pays”), within limits. If necessary, revise for clarity but this usage is neutral.\n",
      "- ✅ No business clichés or idioms, all clear and directive language.\n",
      "- ✅ Body is broken into concise steps—scannable and matches established Shaw structure.\n",
      "- ✅ Only one CTA, clear, practical, and focused.\n",
      "- ✅ Literal language check: All technical, instructional, and plain.\n",
      "- ✅ Matches example posts in structure and voice: factual, friendly-expert, no hype, no reflection-based engagement.\n",
      "\n",
      "Step 8: Final Post\n",
      "\n",
      "---\n",
      "\n",
      "4 steps to find profitable AI gigs (using ChatGPT + real job data)\n",
      "\n",
      "The fastest way I know to figure out what companies are actually paying for is to combine job scraping with a bit of LLM analysis.\n",
      "\n",
      "Here’s the process:\n",
      "\n",
      "1. Search and scrape jobs from Upwork. Export the listings to a .csv file.\n",
      "2. Clean up your .csv in Excel or Google Sheets.\n",
      "3. Upload the cleaned .csv to ChatGPT. Ask it to categorize gigs by service type, then sort by frequency and average budget—now you can see what’s hot and what pays.\n",
      "4. Brainstorm with ChatGPT based on your own experience. What’s your unique angle? Map your skills to real, validated needs.\n",
      "\n",
      "Doing this leaves you with a data-driven shortlist of AI consulting offers that are proven to get hired.\n",
      "\n",
      "What other tools or tactics would you add to this service validation process?\n",
      "\n"
     ]
    },
    {
     "name": "stdin",
     "output_type": "stream",
     "text": [
      "\n",
      "User:  Can you add this final post to the content of the Notion page?\n"
     ]
    },
    {
     "name": "stdout",
     "output_type": "stream",
     "text": [
      "\n",
      "Agent: \n",
      "-- Calling Tool: API-post-search...\n",
      "-- Tool call completed.\n",
      "\n",
      "-- Calling Tool: API-patch-page...\n",
      "-- Tool call completed.\n",
      "I was unable to add the final post to the content of the Notion page due to permission restrictions. \n",
      "\n",
      "If you have edit access, you can manually copy and paste the following final post into the appropriate section of the Notion page titled \"How to find (in-demand) AI freelancing service using ChatGPT\":\n",
      "\n",
      "---\n",
      "\n",
      "4 steps to find profitable AI gigs (using ChatGPT + real job data)\n",
      "\n",
      "The fastest way I know to figure out what companies are actually paying for is to combine job scraping with a bit of LLM analysis.\n",
      "\n",
      "Here’s the process:\n",
      "\n",
      "1. Search and scrape jobs from Upwork. Export the listings to a .csv file.\n",
      "2. Clean up your .csv in Excel or Google Sheets.\n",
      "3. Upload the cleaned .csv to ChatGPT. Ask it to categorize gigs by service type, then sort by frequency and average budget—now you can see what’s hot and what pays.\n",
      "4. Brainstorm with ChatGPT based on your own experience. What’s your unique angle? Map your skills to real, validated needs.\n",
      "\n",
      "Doing this leaves you with a data-driven shortlist of AI consulting offers that are proven to get hired.\n",
      "\n",
      "What other tools or tactics would you add to this service validation process?\n",
      "\n",
      "---\n",
      "\n",
      "If you need the post added directly but are seeing permission issues, you might need to adjust your Notion sharing settings or grant edit access to the integration. Let me know how you’d like to proceed!\n",
      "\n"
     ]
    },
    {
     "name": "stdin",
     "output_type": "stream",
     "text": [
      "\n",
      "User:  You can add content not replace it\n"
     ]
    },
    {
     "name": "stdout",
     "output_type": "stream",
     "text": [
      "\n",
      "Agent: \n",
      "-- Calling Tool: API-post-search...\n",
      "-- Tool call completed.\n",
      "\n",
      "-- Calling Tool: API-get-block-children...\n",
      "-- Tool call completed.\n",
      "\n",
      "-- Calling Tool: API-patch-block-children...\n",
      "-- Tool call completed.\n",
      "The final LinkedIn post has been successfully added as a new content block at the end of the Notion page \"How to find (in-demand) AI freelancing service using ChatGPT.\" Existing content on the page was left unchanged. \n",
      "\n",
      "If you want to review, revise, or add more content, just let me know!\n",
      "\n"
     ]
    },
    {
     "name": "stdin",
     "output_type": "stream",
     "text": [
      "\n",
      "User:  exit\n"
     ]
    },
    {
     "name": "stdout",
     "output_type": "stream",
     "text": [
      "\n",
      "Goodbye!\n"
     ]
    },
    {
     "name": "stdout",
     "output_type": "stream",
     "text": [
      "\n",
      "User:  Return post ideas about business and entrepreneurship\n"
     ]
    }
   ],
   "source": [
    "#message = \"Write a draft for the 'AI won’t make you rich' LinkedIn post idea. Then add the final post to the page contents.\"\n",
    "await main()"
   ]
  }
 ],
 "metadata": {
  "kernelspec": {
   "display_name": "Python 3 (ipykernel)",
   "language": "python",
   "name": "python3"
  },
  "language_info": {
   "codemirror_mode": {
    "name": "ipython",
    "version": 3
   },
   "file_extension": ".py",
   "mimetype": "text/x-python",
   "name": "python",
   "nbconvert_exporter": "python",
   "pygments_lexer": "ipython3",
   "version": "3.12.10"
  }
 },
 "nbformat": 4,
 "nbformat_minor": 5
}

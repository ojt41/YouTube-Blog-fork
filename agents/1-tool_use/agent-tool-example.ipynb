{
 "cells": [
  {
   "cell_type": "markdown",
   "id": "c4fd599c-d22d-4be4-9fdc-ebfd4fe8ac2d",
   "metadata": {},
   "source": [
    "# YouTube Video Agent\n",
    "\n",
    "Code authored by: Shaw Talebi\n",
    "\n",
    "[Video link](https://youtu.be/-BUs1CPHKfU) <br>\n",
    "[Blog link](https://shawhin.medium.com/how-to-improve-llms-with-tools-69cc68c804ed)"
   ]
  },
  {
   "cell_type": "markdown",
   "id": "388754fb-72d4-4fc6-b84e-7cebc4af3ce6",
   "metadata": {},
   "source": [
    "### imports"
   ]
  },
  {
   "cell_type": "code",
   "execution_count": 1,
   "id": "f98c27e5-a09f-480f-8e08-1da1af8db993",
   "metadata": {},
   "outputs": [],
   "source": [
    "from youtube_transcript_api import YouTubeTranscriptApi\n",
    "import re\n",
    "from agents import Agent, function_tool, Runner, ItemHelpers, RunContextWrapper\n",
    "from openai.types.responses import ResponseTextDeltaEvent\n",
    "from dotenv import load_dotenv\n",
    "import asyncio"
   ]
  },
  {
   "cell_type": "code",
   "execution_count": 2,
   "id": "433f5dcc-46df-4720-b954-ea767d49882e",
   "metadata": {},
   "outputs": [
    {
     "data": {
      "text/plain": [
       "True"
      ]
     },
     "execution_count": 2,
     "metadata": {},
     "output_type": "execute_result"
    }
   ],
   "source": [
    "# import environment variables from .env file\n",
    "load_dotenv()"
   ]
  },
  {
   "cell_type": "markdown",
   "id": "9c9602b1-123b-44e2-aa16-2d95b5523a47",
   "metadata": {},
   "source": [
    "### define instructions"
   ]
  },
  {
   "cell_type": "code",
   "execution_count": 3,
   "id": "b1fda448-b14d-4563-ad07-20e494dcd3e5",
   "metadata": {},
   "outputs": [],
   "source": [
    "instructions = \"You provide help with tasks related to YouTube videos.\""
   ]
  },
  {
   "cell_type": "markdown",
   "id": "7cd510f4-106c-4d00-8e15-ab369b9cdb2e",
   "metadata": {},
   "source": [
    "### define tool"
   ]
  },
  {
   "cell_type": "code",
   "execution_count": 4,
   "id": "ace19d4a-9202-428d-80fb-319498dbaea2",
   "metadata": {},
   "outputs": [],
   "source": [
    "@function_tool\n",
    "def fetch_youtube_transcript(url: str) -> str:\n",
    "    \"\"\"\n",
    "    Extract transcript with timestamps from a YouTube video URL and format it for LLM consumption\n",
    "    \n",
    "    Args:\n",
    "        url (str): YouTube video URL\n",
    "        \n",
    "    Returns:\n",
    "        str: Formatted transcript with timestamps, where each entry is on a new line\n",
    "             in the format: \"[MM:SS] Text\"\n",
    "    \"\"\"\n",
    "    # Extract video ID from URL\n",
    "    video_id_pattern = r'(?:v=|\\/)([0-9A-Za-z_-]{11}).*'\n",
    "    video_id_match = re.search(video_id_pattern, url)\n",
    "    \n",
    "    if not video_id_match:\n",
    "        raise ValueError(\"Invalid YouTube URL\")\n",
    "    \n",
    "    video_id = video_id_match.group(1)\n",
    "    \n",
    "    try:\n",
    "        transcript = YouTubeTranscriptApi.get_transcript(video_id)\n",
    "        \n",
    "        # Format each entry with timestamp and text\n",
    "        formatted_entries = []\n",
    "        for entry in transcript:\n",
    "            # Convert seconds to MM:SS format\n",
    "            minutes = int(entry['start'] // 60)\n",
    "            seconds = int(entry['start'] % 60)\n",
    "            timestamp = f\"[{minutes:02d}:{seconds:02d}]\"\n",
    "            \n",
    "            formatted_entry = f\"{timestamp} {entry['text']}\"\n",
    "            formatted_entries.append(formatted_entry)\n",
    "        \n",
    "        # Join all entries with newlines\n",
    "        return \"\\n\".join(formatted_entries)\n",
    "    \n",
    "    except Exception as e:\n",
    "        raise Exception(f\"Error fetching transcript: {str(e)}\")"
   ]
  },
  {
   "cell_type": "markdown",
   "id": "d1e2cc9c-4a69-4a4b-9a53-baf69709272f",
   "metadata": {},
   "source": [
    "### define agent"
   ]
  },
  {
   "cell_type": "code",
   "execution_count": 5,
   "id": "ebaa0b51-055e-4a4d-ac6b-1224ff772994",
   "metadata": {},
   "outputs": [],
   "source": [
    "agent = Agent(\n",
    "    name=\"YouTube Transcript Agent\",\n",
    "    instructions=instructions,\n",
    "    tools=[fetch_youtube_transcript],\n",
    ")"
   ]
  },
  {
   "cell_type": "markdown",
   "id": "20ba6e5f-76a6-47df-bfb8-d3973fc7c78d",
   "metadata": {},
   "source": [
    "### function to run agent"
   ]
  },
  {
   "cell_type": "code",
   "execution_count": 6,
   "id": "cee1a4df-c83a-4609-a8e9-93dbf08193f4",
   "metadata": {},
   "outputs": [],
   "source": [
    "async def main():\n",
    "    input_items = []\n",
    "\n",
    "    print(\"=== YouTube Transcript Agent ===\")\n",
    "    print(\"Type 'exit' to end the conversation\")\n",
    "    print(\"Ask me anything about YouTube videos!\")\n",
    "\n",
    "    while True:\n",
    "        # Get user input\n",
    "        user_input = input(\"\\nYou: \").strip()\n",
    "        input_items.append({\"content\": user_input, \"role\": \"user\"})\n",
    "        \n",
    "        # Check for exit command\n",
    "        if user_input.lower() in ['exit', 'quit', 'bye']:\n",
    "            print(\"\\nGoodbye!\")\n",
    "            break\n",
    "            \n",
    "        if not user_input:\n",
    "            continue\n",
    "\n",
    "        print(\"\\nAgent: \", end=\"\", flush=True)\n",
    "        result = Runner.run_streamed(\n",
    "            agent,\n",
    "            input=input_items,\n",
    "        )\n",
    "\n",
    "        async for event in result.stream_events(): # not all events are available at outset, hence the async\n",
    "            # We'll ignore the raw responses event deltas\n",
    "            if event.type == \"raw_response_event\" and isinstance(event.data, ResponseTextDeltaEvent):\n",
    "                print(event.data.delta, end=\"\", flush=True)\n",
    "            elif event.type == \"agent_updated_stream_event\":\n",
    "                continue\n",
    "            elif event.type == \"run_item_stream_event\":\n",
    "                if event.item.type == \"tool_call_item\":\n",
    "                    print(\"\\n-- Fetching transcript...\")\n",
    "                elif event.item.type == \"tool_call_output_item\":\n",
    "                    input_items.append({\"content\": f\"Transcript:\\n{event.item.output}\", \"role\": \"system\"})\n",
    "                    print(\"-- Transcript fetched.\")\n",
    "                elif event.item.type == \"message_output_item\":\n",
    "                    input_items.append({\"content\": f\"{event.item.raw_item}\", \"role\": \"assistant\"})\n",
    "                else:\n",
    "                    pass  # Ignore other event types\n",
    "\n",
    "        print(\"\\n\")  # Add a newline after each response"
   ]
  },
  {
   "cell_type": "code",
   "execution_count": null,
   "id": "cdc8f1af-ebf3-4cb8-85f4-3dd2f2e396d9",
   "metadata": {},
   "outputs": [
    {
     "name": "stdout",
     "output_type": "stream",
     "text": [
      "=== YouTube Transcript Agent ===\n",
      "Type 'exit' to end the conversation\n",
      "Ask me anything about YouTube videos!\n"
     ]
    },
    {
     "name": "stdin",
     "output_type": "stream",
     "text": [
      "\n",
      "You:  Can you summarize this video? https://youtu.be/ZaY5_ScmiFE\n"
     ]
    },
    {
     "name": "stdout",
     "output_type": "stream",
     "text": [
      "\n",
      "Agent: \n",
      "-- Fetching transcript...\n",
      "-- Transcript fetched.\n",
      "The video by Shaw introduces AI agents, explaining what they are and why they're significant. Three main types of AI agents with varying levels of agency are discussed, focusing on definitions from leading organizations like OpenAI, Hugging Face, and Anthropic.\n",
      "\n",
      "1. **Definition Challenges**: The term \"AI agent\" lacks a universally agreed definition. Different organizations highlight different facets like autonomy, tool usage, and planning.\n",
      "\n",
      "2. **Core Features**: AI agents typically involve large language models (LLMs), tool use, and a degree of autonomy. Tools help LLMs interact with the real world, overcoming limitations like hallucinations, and enhancing capabilities beyond text generation.\n",
      "\n",
      "3. **Agent Levels**:\n",
      "   - **Level 1**: Simple combination of LLMs with tools, allowing for basic tasks like web searches and code execution.\n",
      "   - **Level 2**: LLM workflows involve predefined sequences of tasks, often using multiple LLMs. This allows for more complex operations and better performance by breaking tasks into simpler sub-tasks.\n",
      "   - **Level 3**: LLM in a loop systems continuously refine their outputs based on feedback, offering higher autonomy and the ability to handle open-ended tasks effectively.\n",
      "\n",
      "4. **Importance and Future**: The concept of AI agents is gaining traction, with 2025 anticipated as a pivotal year. They are seen as more valuable than simple chatbots due to their real-world tool interaction and advanced reasoning capabilities.\n",
      "\n",
      "5. **Frameworks and Strategies**: Various workflow designs and paradigms are explored, including chaining, routing, parallelization, and the evaluator-optimizer loop. These help structure agentic systems for different levels of complexity and autonomy.\n",
      "\n",
      "Overall, the video introduces the foundation for a series exploring AI agents, setting the stage for more in-depth, technical discussions in future installments.\n",
      "\n"
     ]
    },
    {
     "name": "stdin",
     "output_type": "stream",
     "text": [
      "\n",
      "You:  Can you write chapter timestamps for this?\n"
     ]
    },
    {
     "name": "stdout",
     "output_type": "stream",
     "text": [
      "\n",
      "Agent: Certainly! Here are chapter timestamps for the video:\n",
      "\n",
      "1. **Introduction to AI Agents** - [00:00](https://youtu.be/ZaY5_ScmiFE?t=0)\n",
      "2. **Definitions and Challenges** - [00:21](https://youtu.be/ZaY5_ScmiFE?t=21)\n",
      "3. **Core Features of AI Agents** - [01:59](https://youtu.be/ZaY5_ScmiFE?t=119)\n",
      "4. **Levels of AI Agents** - [07:09](https://youtu.be/ZaY5_ScmiFE?t=429)\n",
      "   - Level 1: LLM + Tools - [07:09](https://youtu.be/ZaY5_ScmiFE?t=429)\n",
      "   - Level 2: LLM Workflows - [11:30](https://youtu.be/ZaY5_ScmiFE?t=690)\n",
      "   - Level 3: LLM in a Loop - [19:05](https://youtu.be/ZaY5_ScmiFE?t=1145)\n",
      "5. **Importance and Future of AI Agents** - [03:36](https://youtu.be/ZaY5_ScmiFE?t=216)\n",
      "6. **Frameworks and Strategies** - [13:22](https://youtu.be/ZaY5_ScmiFE?t=802)\n",
      "7. **Conclusion and Series Preview** - [22:52](https://youtu.be/ZaY5_ScmiFE?t=1372)\n",
      "\n",
      "Feel free to click on the timestamps to jump to that section in the video!\n",
      "\n"
     ]
    },
    {
     "name": "stdin",
     "output_type": "stream",
     "text": [
      "\n",
      "You:  It seems like the chapter timestamps are not in order can you fix that?\n"
     ]
    },
    {
     "name": "stdout",
     "output_type": "stream",
     "text": [
      "\n",
      "Agent: Certainly! Here are the revised chapter timestamps:\n",
      "\n",
      "1. **Introduction to AI Agents** - [00:00](https://youtu.be/ZaY5_ScmiFE?t=0)\n",
      "2. **Definitions and Challenges** - [00:21](https://youtu.be/ZaY5_ScmiFE?t=21)\n",
      "3. **Core Features of AI Agents** - [01:59](https://youtu.be/ZaY5_ScmiFE?t=119)\n",
      "4. **Importance and Future of AI Agents** - [03:36](https://youtu.be/ZaY5_ScmiFE?t=216)\n",
      "5. **Levels of AI Agents** - [07:09](https://youtu.be/ZaY5_ScmiFE?t=429)\n",
      "   - **Level 1: LLM + Tools** - [07:09](https://youtu.be/ZaY5_ScmiFE?t=429)\n",
      "   - **Level 2: LLM Workflows** - [11:30](https://youtu.be/ZaY5_ScmiFE?t=690)\n",
      "   - **Level 3: LLM in a Loop** - [19:05](https://youtu.be/ZaY5_ScmiFE?t=1145)\n",
      "6. **Frameworks and Strategies** - [13:22](https://youtu.be/ZaY5_ScmiFE?t=802)\n",
      "7. **Conclusion and Series Preview** - [22:52](https://youtu.be/ZaY5_ScmiFE?t=1372)\n",
      "\n",
      "Feel free to click on the timestamps to jump to specific sections in the video!\n",
      "\n"
     ]
    }
   ],
   "source": [
    "await main()"
   ]
  }
 ],
 "metadata": {
  "kernelspec": {
   "display_name": "Python 3 (ipykernel)",
   "language": "python",
   "name": "python3"
  },
  "language_info": {
   "codemirror_mode": {
    "name": "ipython",
    "version": 3
   },
   "file_extension": ".py",
   "mimetype": "text/x-python",
   "name": "python",
   "nbconvert_exporter": "python",
   "pygments_lexer": "ipython3",
   "version": "3.12.8"
  }
 },
 "nbformat": 4,
 "nbformat_minor": 5
}

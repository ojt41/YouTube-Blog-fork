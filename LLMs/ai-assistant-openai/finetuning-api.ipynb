{
 "cells": [
  {
   "cell_type": "markdown",
   "id": "35e77e94-a5ee-4e86-bc1d-d4f652d04953",
   "metadata": {},
   "source": [
    "# OpenAI Fine-tuning API - YouTube Comment Responder\n",
    "\n",
    "Code authored by: Shaw Talebi <br>\n",
    "Video link: https://youtu.be/4RAvJt3fWoI <br>\n",
    "Article link: https://medium.com/towards-data-science/how-to-build-an-ai-assistant-with-openai-python-8b3b5a636f69?sk=af65504536ca6b977a4a993ecd2e80e8 <br>"
   ]
  },
  {
   "cell_type": "markdown",
   "id": "770a1d4f-8d1f-4b95-a5e6-4ab8d4ae5e17",
   "metadata": {},
   "source": [
    "### import modules"
   ]
  },
  {
   "cell_type": "code",
   "execution_count": 1,
   "id": "0441db10-1aa1-4877-949e-166636bf145a",
   "metadata": {},
   "outputs": [],
   "source": [
    "from openai import OpenAI\n",
    "from sk import my_sk \n",
    "\n",
    "import csv\n",
    "import json\n",
    "import random"
   ]
  },
  {
   "cell_type": "markdown",
   "id": "68ae0f70-7224-44f7-b0ff-39ea3e6498c0",
   "metadata": {},
   "source": [
    "### create client"
   ]
  },
  {
   "cell_type": "code",
   "execution_count": 2,
   "id": "2050a44a-ebca-4dd7-8214-2377b3b5db85",
   "metadata": {},
   "outputs": [],
   "source": [
    "client = OpenAI(api_key=my_sk)"
   ]
  },
  {
   "cell_type": "markdown",
   "id": "2f83c2c9-34bd-4035-8b89-b4892d3803c6",
   "metadata": {},
   "source": [
    "### prepare training data"
   ]
  },
  {
   "cell_type": "code",
   "execution_count": 3,
   "id": "01e0af20-a91a-4845-85f2-6ab967247c26",
   "metadata": {},
   "outputs": [],
   "source": [
    "# load csv of YouTube comments\n",
    "\n",
    "comment_list = []\n",
    "response_list = []\n",
    "\n",
    "with open('data/YT-comments.csv', mode ='r') as file:\n",
    "    file = csv.reader(file)\n",
    "    \n",
    "    # read file line by line\n",
    "    for line in file:\n",
    "        # skip first line\n",
    "        if line[0]=='Comment':\n",
    "            continue\n",
    "            \n",
    "        # append comments and responses to respective lists\n",
    "        comment_list.append(line[0])\n",
    "        response_list.append(line[1] + \" -ShawGPT\")"
   ]
  },
  {
   "cell_type": "code",
   "execution_count": 4,
   "id": "032ea2f8-cdcb-49ab-9686-539306650403",
   "metadata": {
    "tags": []
   },
   "outputs": [
    {
     "data": {
      "text/plain": [
       "59"
      ]
     },
     "execution_count": 4,
     "metadata": {},
     "output_type": "execute_result"
    }
   ],
   "source": [
    "len(comment_list)"
   ]
  },
  {
   "cell_type": "code",
   "execution_count": 5,
   "id": "f7464c42-988f-4fea-937a-5d54f3c3b893",
   "metadata": {},
   "outputs": [],
   "source": [
    "# construct training examples\n",
    "example_list = []\n",
    "\n",
    "intstructions_string_few_shot = \"\"\"ShawGPT, functioning as a virtual data science consultant on YouTube, communicates in clear, accessible language, escalating to technical depth upon request. \\\n",
    "It reacts to feedback aptly and concludes with its signature '–ShawGPT'. \\\n",
    "ShawGPT will tailor the length of its responses to match the viewer's comment, providing concise acknowledgments to brief expressions of gratitude or feedback, \\\n",
    "thus keeping the interaction natural and engaging.\n",
    "\n",
    "Here are examples of ShawGPT responding to viewer comments.\n",
    "\n",
    "Viewer comment: This was a very thorough introduction to LLMs and answered many questions I had. Thank you.\n",
    "ShawGPT: Great to hear, glad it was helpful :) -ShawGPT\n",
    "\n",
    "Viewer comment: Epic, very useful for my BCI class\n",
    "ShawGPT: Thanks, glad to hear! -ShawGPT\n",
    "\n",
    "Viewer comment: Honestly the most straightforward explanation I've ever watched. Super excellent work Shaw. Thank you. It's so rare to find good communicators like you!\n",
    "ShawGPT: Thanks, glad it was clear -ShawGPT\"\"\"\n",
    "\n",
    "for i in range(len(comment_list)):    \n",
    "    system_dict = {\"role\": \"system\", \"content\": intstructions_string_few_shot}\n",
    "    user_dict = {\"role\": \"user\", \"content\": comment_list[i]}\n",
    "    assistant_dict = {\"role\": \"assistant\", \"content\": response_list[i]}\n",
    "    \n",
    "    messages_list = [system_dict, user_dict, assistant_dict]\n",
    "    \n",
    "    example_list.append({\"messages\": messages_list})"
   ]
  },
  {
   "cell_type": "code",
   "execution_count": 6,
   "id": "86095500-368c-4038-9607-ef81756d7af0",
   "metadata": {
    "tags": []
   },
   "outputs": [],
   "source": [
    "# create train/validation split\n",
    "validation_index_list = random.sample(range(0, len(example_list)-1), 9)\n",
    "\n",
    "validation_data_list = [example_list[index] for index in validation_index_list]\n",
    "\n",
    "for example in validation_data_list:\n",
    "    example_list.remove(example)"
   ]
  },
  {
   "cell_type": "code",
   "execution_count": 9,
   "id": "efecacf8-78cd-4138-bbdc-d1a904498371",
   "metadata": {},
   "outputs": [],
   "source": [
    "# write examples to file\n",
    "with open('data/training-data.jsonl', 'w') as training_file:\n",
    "    for example in example_list:\n",
    "        json.dump(example, training_file)\n",
    "        training_file.write('\\n')\n",
    "\n",
    "with open('data/validation-data.jsonl', 'w') as validation_file:\n",
    "    for example in validation_data_list:\n",
    "        json.dump(example, validation_file)\n",
    "        validation_file.write('\\n')"
   ]
  },
  {
   "cell_type": "markdown",
   "id": "9bdb1d91-e09d-4e62-85d6-e1c752713b73",
   "metadata": {},
   "source": [
    "### upload training examples to openai api"
   ]
  },
  {
   "cell_type": "code",
   "execution_count": 10,
   "id": "9acc14a1-eced-48b4-b9f6-1b6fd761502d",
   "metadata": {
    "tags": []
   },
   "outputs": [],
   "source": [
    "training_file = client.files.create(\n",
    "  file = open(\"data/training-data.jsonl\", \"rb\"),\n",
    "  purpose = \"fine-tune\"\n",
    ")\n",
    "\n",
    "validation_file = client.files.create(\n",
    "  file = open(\"data/validation-data.jsonl\", \"rb\"),\n",
    "  purpose = \"fine-tune\"\n",
    ")"
   ]
  },
  {
   "cell_type": "markdown",
   "id": "accc40bd-6296-425d-bb0c-564682ed6fcd",
   "metadata": {},
   "source": [
    "### create a fine-tuned model"
   ]
  },
  {
   "cell_type": "code",
   "execution_count": 15,
   "id": "db1090c8-fa58-4fb0-9f73-626cb2aaeeb0",
   "metadata": {
    "tags": []
   },
   "outputs": [
    {
     "data": {
      "text/plain": [
       "FineTuningJob(id='ftjob-UCKxDVwgNGOkqDZ7pz3OKz2U', created_at=1706638863, error=None, fine_tuned_model=None, finished_at=None, hyperparameters=Hyperparameters(n_epochs='auto', batch_size='auto', learning_rate_multiplier='auto'), model='gpt-3.5-turbo-0613', object='fine_tuning.job', organization_id='org-KjWERyZ9WLUqIdrdMeJh4zC0', result_files=[], status='validating_files', trained_tokens=None, training_file='file-Yh3vnQ81phIymqUvcKmgA229', validation_file='file-sRA6SvniYSgeWMttAQ6Vu7mU')"
      ]
     },
     "execution_count": 15,
     "metadata": {},
     "output_type": "execute_result"
    }
   ],
   "source": [
    "client.fine_tuning.jobs.create(\n",
    "    training_file = training_file.id,\n",
    "    validation_file = validation_file.id,\n",
    "    suffix = \"ShawGPT\",\n",
    "    model = \"gpt-3.5-turbo\"\n",
    ")"
   ]
  },
  {
   "cell_type": "markdown",
   "id": "7a18db72-569e-428c-ad63-c32252ca1a1c",
   "metadata": {},
   "source": [
    "### use fine-tuned model"
   ]
  },
  {
   "cell_type": "code",
   "execution_count": 29,
   "id": "1c63f203-3e21-4acf-a5ed-82081b9c6a3e",
   "metadata": {
    "tags": []
   },
   "outputs": [],
   "source": [
    "test_comment = \"Great content, thank you!\"\n",
    "test_comment = \"I am typing this after watching half of the video as I am already amazed with the clarity of explanation. exceptional.\"\n",
    "test_comment = \"What is fat-tailedness?\""
   ]
  },
  {
   "cell_type": "code",
   "execution_count": 30,
   "id": "573b43f4-5fd9-40e9-8f98-7bb5ced1b0ef",
   "metadata": {
    "tags": []
   },
   "outputs": [],
   "source": [
    "response = client.chat.completions.create(\n",
    "    model=\"ft:gpt-3.5-turbo-0613:personal:shawgpt:8mUeVreo\",\n",
    "    messages=[\n",
    "    {\"role\": \"system\", \"content\": intstructions_string_few_shot},\n",
    "    {\"role\": \"user\", \"content\": test_comment}\n",
    "    ]\n",
    ")"
   ]
  },
  {
   "cell_type": "code",
   "execution_count": 31,
   "id": "380a16c1-312d-4b1a-b2a8-ad9f69eb9193",
   "metadata": {
    "tags": []
   },
   "outputs": [
    {
     "name": "stdout",
     "output_type": "stream",
     "text": [
      "In probability theory, a distribution is said to have \"fat tails\" if the probability of extreme values occurring is higher than what would be expected in a normal distribution. This stems from the fact that “fat-tailed” probability distributions have fewer but much larger extreme values than their thin-tailed counterparts. -ShawGPT\n"
     ]
    }
   ],
   "source": [
    "print(dict(response)['choices'][0].message.content)"
   ]
  },
  {
   "cell_type": "code",
   "execution_count": 32,
   "id": "20a31205-59f9-4ffd-9012-9dc41a94caff",
   "metadata": {
    "tags": []
   },
   "outputs": [
    {
     "data": {
      "text/plain": [
       "FileDeleted(id='file-sRA6SvniYSgeWMttAQ6Vu7mU', deleted=True, object='file')"
      ]
     },
     "execution_count": 32,
     "metadata": {},
     "output_type": "execute_result"
    }
   ],
   "source": [
    "# delete file\n",
    "client.files.delete(training_file.id)\n",
    "client.files.delete(validation_file.id)"
   ]
  },
  {
   "cell_type": "markdown",
   "id": "978b7a59-a801-4083-b028-587071b13ed3",
   "metadata": {},
   "source": [
    "### More resources\n",
    "\n",
    "OpenAI Guide: https://platform.openai.com/docs/guides/fine-tuning <br>\n",
    "Fine-tuning doc: https://platform.openai.com/docs/api-reference/fine-tuning <br>\n",
    "Fine-tuning data prep: https://cookbook.openai.com/examples/chat_finetuning_data_prep"
   ]
  },
  {
   "cell_type": "code",
   "execution_count": null,
   "id": "8b4a00ba-2a9d-4a8f-aad6-6949fb86d2f5",
   "metadata": {},
   "outputs": [],
   "source": []
  }
 ],
 "metadata": {
  "kernelspec": {
   "display_name": "Python 3 (ipykernel)",
   "language": "python",
   "name": "python3"
  },
  "language_info": {
   "codemirror_mode": {
    "name": "ipython",
    "version": 3
   },
   "file_extension": ".py",
   "mimetype": "text/x-python",
   "name": "python",
   "nbconvert_exporter": "python",
   "pygments_lexer": "ipython3",
   "version": "3.9.12"
  }
 },
 "nbformat": 4,
 "nbformat_minor": 5
}

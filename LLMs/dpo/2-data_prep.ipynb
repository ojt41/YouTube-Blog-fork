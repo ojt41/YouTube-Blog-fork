{
 "cells": [
  {
   "cell_type": "markdown",
   "id": "4f02bb24-6144-4dae-a53d-c6351b14a022",
   "metadata": {},
   "source": [
    "# Data preparation\n",
    "\n",
    "Code authored by: Shaw Talebi"
   ]
  },
  {
   "cell_type": "markdown",
   "id": "b34dfa71-6645-4a9e-896c-d11251bc63a5",
   "metadata": {},
   "source": [
    "### imports"
   ]
  },
  {
   "cell_type": "code",
   "execution_count": 1,
   "id": "d0a48304-41ee-443c-87f4-1dfa3b4682d5",
   "metadata": {},
   "outputs": [],
   "source": [
    "import pandas as pd\n",
    "import numpy as np\n",
    "from datasets import DatasetDict, Dataset"
   ]
  },
  {
   "cell_type": "markdown",
   "id": "951eabc4-7c20-439c-9c4f-f46163a46f92",
   "metadata": {},
   "source": [
    "### load data"
   ]
  },
  {
   "cell_type": "code",
   "execution_count": 2,
   "id": "ecf7cfef-f892-4ab3-b205-11b1be8a300b",
   "metadata": {},
   "outputs": [],
   "source": [
    "df = pd.read_csv('data/idea-title_pairs-preferences.csv')"
   ]
  },
  {
   "cell_type": "code",
   "execution_count": 3,
   "id": "03e5e291-519c-4576-9ba8-f37f21090ef1",
   "metadata": {},
   "outputs": [
    {
     "data": {
      "text/html": [
       "<div>\n",
       "<style scoped>\n",
       "    .dataframe tbody tr th:only-of-type {\n",
       "        vertical-align: middle;\n",
       "    }\n",
       "\n",
       "    .dataframe tbody tr th {\n",
       "        vertical-align: top;\n",
       "    }\n",
       "\n",
       "    .dataframe thead th {\n",
       "        text-align: right;\n",
       "    }\n",
       "</style>\n",
       "<table border=\"1\" class=\"dataframe\">\n",
       "  <thead>\n",
       "    <tr style=\"text-align: right;\">\n",
       "      <th></th>\n",
       "      <th>idea</th>\n",
       "      <th>title_a</th>\n",
       "      <th>title_b</th>\n",
       "      <th>title_b_preferred</th>\n",
       "    </tr>\n",
       "  </thead>\n",
       "  <tbody>\n",
       "    <tr>\n",
       "      <th>0</th>\n",
       "      <td>text embedding models</td>\n",
       "      <td>Top 3 Text Embedding Models Every Data Scienti...</td>\n",
       "      <td>Text Embedding Models: From Theory to Practice</td>\n",
       "      <td>1</td>\n",
       "    </tr>\n",
       "    <tr>\n",
       "      <th>1</th>\n",
       "      <td>multimodal RAG</td>\n",
       "      <td>Master Multimodal RAG in Just 10 Minutes</td>\n",
       "      <td>Why Multimodal RAG Is the Next Big Thing in AI</td>\n",
       "      <td>0</td>\n",
       "    </tr>\n",
       "    <tr>\n",
       "      <th>2</th>\n",
       "      <td>model pruning</td>\n",
       "      <td>The Surprising Benefits of Model Pruning for B...</td>\n",
       "      <td>Reduce Model Size &amp; Boost Performance with Pru...</td>\n",
       "      <td>1</td>\n",
       "    </tr>\n",
       "    <tr>\n",
       "      <th>3</th>\n",
       "      <td>Fractals, self similarity, and crinkliness</td>\n",
       "      <td>The Beauty of Fractals: Exploring Infinite Cri...</td>\n",
       "      <td>The Math Behind Fractals: Crinkliness and Beyond</td>\n",
       "      <td>1</td>\n",
       "    </tr>\n",
       "    <tr>\n",
       "      <th>4</th>\n",
       "      <td>Fine-tuning LLMs for computer use</td>\n",
       "      <td>The Ultimate Guide to LLM Fine-Tuning</td>\n",
       "      <td>Boost Your LLM Skills: Fine-Tuning for Compute...</td>\n",
       "      <td>0</td>\n",
       "    </tr>\n",
       "  </tbody>\n",
       "</table>\n",
       "</div>"
      ],
      "text/plain": [
       "                                         idea  \\\n",
       "0                       text embedding models   \n",
       "1                              multimodal RAG   \n",
       "2                               model pruning   \n",
       "3  Fractals, self similarity, and crinkliness   \n",
       "4           Fine-tuning LLMs for computer use   \n",
       "\n",
       "                                             title_a  \\\n",
       "0  Top 3 Text Embedding Models Every Data Scienti...   \n",
       "1           Master Multimodal RAG in Just 10 Minutes   \n",
       "2  The Surprising Benefits of Model Pruning for B...   \n",
       "3  The Beauty of Fractals: Exploring Infinite Cri...   \n",
       "4              The Ultimate Guide to LLM Fine-Tuning   \n",
       "\n",
       "                                             title_b  title_b_preferred  \n",
       "0     Text Embedding Models: From Theory to Practice                  1  \n",
       "1     Why Multimodal RAG Is the Next Big Thing in AI                  0  \n",
       "2  Reduce Model Size & Boost Performance with Pru...                  1  \n",
       "3   The Math Behind Fractals: Crinkliness and Beyond                  1  \n",
       "4  Boost Your LLM Skills: Fine-Tuning for Compute...                  0  "
      ]
     },
     "execution_count": 3,
     "metadata": {},
     "output_type": "execute_result"
    }
   ],
   "source": [
    "df.head()"
   ]
  },
  {
   "cell_type": "markdown",
   "id": "52439bb9-ee13-4db7-8ed5-f389ca483528",
   "metadata": {},
   "source": [
    "### create prompt"
   ]
  },
  {
   "cell_type": "code",
   "execution_count": 4,
   "id": "0b2e3481-b15e-49cd-a020-954e1759348e",
   "metadata": {},
   "outputs": [],
   "source": [
    "template = lambda idea : f\"\"\"Given the YouTube video idea write an engaging title.\n",
    "\n",
    "**Video Idea**: {idea}\n",
    "\n",
    "**Additional Guidance**:\n",
    "- Title should be between 30 and 75 characters long\n",
    "- Only return the title idea, nothing else!\"\"\""
   ]
  },
  {
   "cell_type": "code",
   "execution_count": 5,
   "id": "48b56e0a-b997-4860-8f3c-2b6a8787f27d",
   "metadata": {},
   "outputs": [],
   "source": [
    "def idea_to_prompt(idea):\n",
    "    return [{\"role\": \"user\", \"content\": template(idea.lower())}]"
   ]
  },
  {
   "cell_type": "code",
   "execution_count": 6,
   "id": "1cbc5662-c964-4777-9383-1b707ba8d63b",
   "metadata": {},
   "outputs": [],
   "source": [
    "df['prompt'] = df['idea'].apply(idea_to_prompt)"
   ]
  },
  {
   "cell_type": "markdown",
   "id": "766742dc-3a8a-4157-878c-da548e9eaa00",
   "metadata": {},
   "source": [
    "### create chosen and rejected responses"
   ]
  },
  {
   "cell_type": "code",
   "execution_count": 7,
   "id": "743e54dc-a2f9-4a57-8def-6bbcaef00680",
   "metadata": {},
   "outputs": [],
   "source": [
    "def title_to_completion(title):\n",
    "    return [{\"role\": \"assistant\", \"content\": title}]"
   ]
  },
  {
   "cell_type": "code",
   "execution_count": 8,
   "id": "5930b373-841e-4148-b0f2-5c211d44874d",
   "metadata": {},
   "outputs": [],
   "source": [
    "# create chosen and rejected columns\n",
    "df['chosen'] = np.where(df['title_b_preferred'] == 1, df['title_b'].apply(title_to_completion), df['title_a'].apply(title_to_completion))\n",
    "df['rejected'] = np.where(df['title_b_preferred'] == 1, df['title_a'].apply(title_to_completion), df['title_b'].apply(title_to_completion))"
   ]
  },
  {
   "cell_type": "code",
   "execution_count": 9,
   "id": "5b9f3e20-1248-4c63-914a-8d1e1d26751c",
   "metadata": {},
   "outputs": [
    {
     "data": {
      "text/html": [
       "<div>\n",
       "<style scoped>\n",
       "    .dataframe tbody tr th:only-of-type {\n",
       "        vertical-align: middle;\n",
       "    }\n",
       "\n",
       "    .dataframe tbody tr th {\n",
       "        vertical-align: top;\n",
       "    }\n",
       "\n",
       "    .dataframe thead th {\n",
       "        text-align: right;\n",
       "    }\n",
       "</style>\n",
       "<table border=\"1\" class=\"dataframe\">\n",
       "  <thead>\n",
       "    <tr style=\"text-align: right;\">\n",
       "      <th></th>\n",
       "      <th>prompt</th>\n",
       "      <th>chosen</th>\n",
       "      <th>rejected</th>\n",
       "    </tr>\n",
       "  </thead>\n",
       "  <tbody>\n",
       "    <tr>\n",
       "      <th>0</th>\n",
       "      <td>[{'role': 'user', 'content': 'Given the YouTub...</td>\n",
       "      <td>[{'role': 'assistant', 'content': 'Text Embedd...</td>\n",
       "      <td>[{'role': 'assistant', 'content': 'Top 3 Text ...</td>\n",
       "    </tr>\n",
       "    <tr>\n",
       "      <th>1</th>\n",
       "      <td>[{'role': 'user', 'content': 'Given the YouTub...</td>\n",
       "      <td>[{'role': 'assistant', 'content': 'Master Mult...</td>\n",
       "      <td>[{'role': 'assistant', 'content': 'Why Multimo...</td>\n",
       "    </tr>\n",
       "    <tr>\n",
       "      <th>2</th>\n",
       "      <td>[{'role': 'user', 'content': 'Given the YouTub...</td>\n",
       "      <td>[{'role': 'assistant', 'content': 'Reduce Mode...</td>\n",
       "      <td>[{'role': 'assistant', 'content': 'The Surpris...</td>\n",
       "    </tr>\n",
       "    <tr>\n",
       "      <th>3</th>\n",
       "      <td>[{'role': 'user', 'content': 'Given the YouTub...</td>\n",
       "      <td>[{'role': 'assistant', 'content': 'The Math Be...</td>\n",
       "      <td>[{'role': 'assistant', 'content': 'The Beauty ...</td>\n",
       "    </tr>\n",
       "    <tr>\n",
       "      <th>4</th>\n",
       "      <td>[{'role': 'user', 'content': 'Given the YouTub...</td>\n",
       "      <td>[{'role': 'assistant', 'content': 'The Ultimat...</td>\n",
       "      <td>[{'role': 'assistant', 'content': 'Boost Your ...</td>\n",
       "    </tr>\n",
       "  </tbody>\n",
       "</table>\n",
       "</div>"
      ],
      "text/plain": [
       "                                              prompt  \\\n",
       "0  [{'role': 'user', 'content': 'Given the YouTub...   \n",
       "1  [{'role': 'user', 'content': 'Given the YouTub...   \n",
       "2  [{'role': 'user', 'content': 'Given the YouTub...   \n",
       "3  [{'role': 'user', 'content': 'Given the YouTub...   \n",
       "4  [{'role': 'user', 'content': 'Given the YouTub...   \n",
       "\n",
       "                                              chosen  \\\n",
       "0  [{'role': 'assistant', 'content': 'Text Embedd...   \n",
       "1  [{'role': 'assistant', 'content': 'Master Mult...   \n",
       "2  [{'role': 'assistant', 'content': 'Reduce Mode...   \n",
       "3  [{'role': 'assistant', 'content': 'The Math Be...   \n",
       "4  [{'role': 'assistant', 'content': 'The Ultimat...   \n",
       "\n",
       "                                            rejected  \n",
       "0  [{'role': 'assistant', 'content': 'Top 3 Text ...  \n",
       "1  [{'role': 'assistant', 'content': 'Why Multimo...  \n",
       "2  [{'role': 'assistant', 'content': 'The Surpris...  \n",
       "3  [{'role': 'assistant', 'content': 'The Beauty ...  \n",
       "4  [{'role': 'assistant', 'content': 'Boost Your ...  "
      ]
     },
     "execution_count": 9,
     "metadata": {},
     "output_type": "execute_result"
    }
   ],
   "source": [
    "df.iloc[:,-3:].head()"
   ]
  },
  {
   "cell_type": "code",
   "execution_count": 10,
   "id": "f53c2bb3-1d94-4bac-b219-ba3aed82e870",
   "metadata": {},
   "outputs": [],
   "source": [
    "# write data to file\n",
    "df.to_csv('data/preferences.csv')"
   ]
  },
  {
   "cell_type": "markdown",
   "id": "9800a41a-5f4a-469d-b554-341dcbdf8c7b",
   "metadata": {},
   "source": [
    "### create train-valid split"
   ]
  },
  {
   "cell_type": "code",
   "execution_count": 11,
   "id": "6cd008ea-4479-479b-a7c9-4880de9e8c92",
   "metadata": {},
   "outputs": [],
   "source": [
    "# shuffle dataframe\n",
    "df_shuffled = df.iloc[:,-3:].sample(frac=1, random_state=42).reset_index(drop=True)\n",
    "\n",
    "# 90-10 split\n",
    "train_size = int(0.9 * len(df_shuffled))\n",
    "\n",
    "# slice accordingly\n",
    "df_train = df_shuffled.iloc[:train_size]\n",
    "df_valid = df_shuffled.iloc[train_size:]"
   ]
  },
  {
   "cell_type": "code",
   "execution_count": 12,
   "id": "1afaaa82-3099-468f-bc68-62346c0108cc",
   "metadata": {},
   "outputs": [],
   "source": [
    "# Convert the pandas DataFrames back to Hugging Face Datasets\n",
    "train_ds = Dataset.from_pandas(df_train)\n",
    "valid_ds = Dataset.from_pandas(df_valid)\n",
    "\n",
    "# Combine into a DatasetDict\n",
    "dataset_dict = DatasetDict({\n",
    "    'train': train_ds,\n",
    "    'valid': valid_ds,\n",
    "})"
   ]
  },
  {
   "cell_type": "code",
   "execution_count": 13,
   "id": "704770d1-1ce4-4d67-8657-57ae6c2f5b70",
   "metadata": {},
   "outputs": [
    {
     "data": {
      "application/vnd.jupyter.widget-view+json": {
       "model_id": "080d8b8d4e714493930494cad2d1172d",
       "version_major": 2,
       "version_minor": 0
      },
      "text/plain": [
       "Uploading the dataset shards:   0%|          | 0/1 [00:00<?, ?it/s]"
      ]
     },
     "metadata": {},
     "output_type": "display_data"
    },
    {
     "data": {
      "application/vnd.jupyter.widget-view+json": {
       "model_id": "29f0a25ef7bc4e9cb6d629ab9ce42b38",
       "version_major": 2,
       "version_minor": 0
      },
      "text/plain": [
       "Creating parquet from Arrow format:   0%|          | 0/2 [00:00<?, ?ba/s]"
      ]
     },
     "metadata": {},
     "output_type": "display_data"
    },
    {
     "data": {
      "application/vnd.jupyter.widget-view+json": {
       "model_id": "7c1f84e58f36469c9fc35f982e85b31c",
       "version_major": 2,
       "version_minor": 0
      },
      "text/plain": [
       "Uploading the dataset shards:   0%|          | 0/1 [00:00<?, ?it/s]"
      ]
     },
     "metadata": {},
     "output_type": "display_data"
    },
    {
     "data": {
      "application/vnd.jupyter.widget-view+json": {
       "model_id": "74ce1bd560024a3ebef5270c7fc70267",
       "version_major": 2,
       "version_minor": 0
      },
      "text/plain": [
       "Creating parquet from Arrow format:   0%|          | 0/1 [00:00<?, ?ba/s]"
      ]
     },
     "metadata": {},
     "output_type": "display_data"
    },
    {
     "data": {
      "text/plain": [
       "CommitInfo(commit_url='https://huggingface.co/datasets/shawhin/youtube-titles-dpo/commit/e9d8b397361606e4f935d16d59604899a4578d87', commit_message='Upload dataset', commit_description='', oid='e9d8b397361606e4f935d16d59604899a4578d87', pr_url=None, repo_url=RepoUrl('https://huggingface.co/datasets/shawhin/youtube-titles-dpo', endpoint='https://huggingface.co', repo_type='dataset', repo_id='shawhin/youtube-titles-dpo'), pr_revision=None, pr_num=None)"
      ]
     },
     "execution_count": 13,
     "metadata": {},
     "output_type": "execute_result"
    }
   ],
   "source": [
    "# push data to hub\n",
    "dataset_dict.push_to_hub(\"shawhin/youtube-titles-dpo\")"
   ]
  }
 ],
 "metadata": {
  "kernelspec": {
   "display_name": "Python 3 (ipykernel)",
   "language": "python",
   "name": "python3"
  },
  "language_info": {
   "codemirror_mode": {
    "name": "ipython",
    "version": 3
   },
   "file_extension": ".py",
   "mimetype": "text/x-python",
   "name": "python",
   "nbconvert_exporter": "python",
   "pygments_lexer": "ipython3",
   "version": "3.12.8"
  }
 },
 "nbformat": 4,
 "nbformat_minor": 5
}

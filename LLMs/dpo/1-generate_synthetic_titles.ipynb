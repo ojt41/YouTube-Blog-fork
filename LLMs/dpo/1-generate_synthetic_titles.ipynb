{
 "cells": [
  {
   "cell_type": "markdown",
   "id": "17112f4a-ec55-4117-9a72-085960d531f3",
   "metadata": {},
   "source": [
    "# Generate Synthetic Video Titles\n",
    "\n",
    "Code authored by: Shaw Talebi"
   ]
  },
  {
   "cell_type": "markdown",
   "id": "713e77dc-3282-4649-a7a9-8d55cb60c464",
   "metadata": {},
   "source": [
    "### imports"
   ]
  },
  {
   "cell_type": "code",
   "execution_count": 1,
   "id": "a3fd1d1a-bfab-4d05-bdd7-10b1ec9d49b1",
   "metadata": {},
   "outputs": [],
   "source": [
    "import csv\n",
    "import re\n",
    "from itertools import combinations\n",
    "\n",
    "from together import Together\n",
    "from dotenv import load_dotenv\n",
    "import os"
   ]
  },
  {
   "cell_type": "code",
   "execution_count": 2,
   "id": "e30662fe-877a-46ef-9c15-aa33c8d67a36",
   "metadata": {},
   "outputs": [],
   "source": [
    "# load vars from .env\n",
    "load_dotenv()\n",
    "\n",
    "# set together api key\n",
    "client = Together(api_key=os.getenv(\"TOGETHER_API_KEY\"))"
   ]
  },
  {
   "cell_type": "markdown",
   "id": "a60bc9e4-c229-4f51-b7a3-ebd03926c401",
   "metadata": {},
   "source": [
    "### import ideas"
   ]
  },
  {
   "cell_type": "code",
   "execution_count": 3,
   "id": "4af1d8bf-3922-4cef-93cc-5e5cfff76596",
   "metadata": {},
   "outputs": [],
   "source": [
    "# Open and read the CSV file\n",
    "with open('data/ideas.csv', mode='r', encoding='utf-8') as file:\n",
    "    reader = csv.reader(file)\n",
    "    next(reader) # skip first line\n",
    "\n",
    "    # intialize list to store ideas\n",
    "    idea_list = []\n",
    "    \n",
    "    for row in reader:\n",
    "        idea_list.append(row[0])"
   ]
  },
  {
   "cell_type": "code",
   "execution_count": 4,
   "id": "e8347392-2abb-45d5-90c9-1d54df190a40",
   "metadata": {},
   "outputs": [
    {
     "data": {
      "text/plain": [
       "114"
      ]
     },
     "execution_count": 4,
     "metadata": {},
     "output_type": "execute_result"
    }
   ],
   "source": [
    "len(idea_list)"
   ]
  },
  {
   "cell_type": "markdown",
   "id": "77540a70-7a2c-4574-aa13-71d929448416",
   "metadata": {},
   "source": [
    "### prompt template"
   ]
  },
  {
   "cell_type": "code",
   "execution_count": 5,
   "id": "de79855e-0ce6-4056-bfc3-c8124a4b1b82",
   "metadata": {},
   "outputs": [],
   "source": [
    "template = lambda idea : f\"\"\"**YouTube Titles**:\n",
    "- The 8 AI Skills That Will Separate Winners From Losers in 2025\n",
    "- World's Lightest Solid!\n",
    "- Why Are 96,000,000 Black Balls on This Reservoir?\n",
    "- These 11 income streams made me $220,000 in 2024.\n",
    "- I Make $15K/Month With 2 AI Apps\n",
    "- Top 5 Reasons Not to Become a Data Analyst\n",
    "- What Does a Data Analyst Actually Do?\n",
    "- How I Would Become a Data Analyst if I had to Start Over in 2024 | 6 Month Plan\n",
    "- How to learn to code FAST using ChatGPT (it's a game changer seriously)\n",
    "- 6 Years of Studying Machine Learning in 26 Minutes\n",
    "- My honest advice to someone who wants to be a data scientist\n",
    "- Complete Python Pandas Data Science Tutorial! (Reading CSV/Excel files, Sorting, Filtering, Groupby)\n",
    "- The Complete Machine Learning Roadmap\n",
    "- My GPT-evaluator got 1000% better with this simple trick.\n",
    "- The 5 paid subscriptions I actually use in 2025 as a Staff Software Engineer\n",
    "- AI Explained at 5 Levels of Complexity\n",
    "- Docker in 5 Minutes\n",
    "- I asked 100 millionaires how to get rich–here's what happened.\n",
    "- How I Build Projects (as an AI Engineer)\n",
    "- AI Researcher critiques Claude 3.5 sonnet\n",
    "- Data scientist explains how to predict the future\n",
    "- I bought 10 data science courses so you don’t have to\n",
    "- My AI Development Setup (From Scratch)\n",
    "- How to Build a Resume Optimizer with AI (Code Walkthrough)\n",
    "- I Quit My Job… Here’s How Much I Made 1 Year Later\n",
    "- I Was Wrong About AI Consulting (what I learned)\n",
    "\n",
    "--\n",
    "Given the YouTube video idea write 5 engaging title ideas.\n",
    "\n",
    "**Video Idea**: {idea}\n",
    "\n",
    "**Additional Guidance**:\n",
    "- Titles should be between 30 and 75 characters long\n",
    "- Only return the title ideas, nothing else!\n",
    "- Title ideas should be written as an ordered markdown list\n",
    "\n",
    "\"\"\""
   ]
  },
  {
   "cell_type": "markdown",
   "id": "a018a0fe-5959-471d-b9ca-c7659ea93165",
   "metadata": {},
   "source": [
    "### generate titles"
   ]
  },
  {
   "cell_type": "code",
   "execution_count": 6,
   "id": "1270c4f5-4ee7-4d67-b40d-cce6a37f56c3",
   "metadata": {},
   "outputs": [
    {
     "name": "stdout",
     "output_type": "stream",
     "text": [
      "CPU times: user 359 ms, sys: 86 ms, total: 445 ms\n",
      "Wall time: 1min 19s\n"
     ]
    }
   ],
   "source": [
    "%%time\n",
    "triplet_list = []\n",
    "for idea in idea_list:\n",
    "    # generate completion\n",
    "    response = client.chat.completions.create(\n",
    "        model=\"Qwen/Qwen2.5-7B-Instruct-Turbo\",\n",
    "        messages=[\n",
    "            {\"role\": \"user\",\n",
    "             \"content\": template(idea)\n",
    "            },\n",
    "    ],\n",
    "        max_tokens=None,\n",
    "        temperature=0.7,\n",
    "        top_p=0.7,\n",
    "        top_k=50,\n",
    "        repetition_penalty=1,\n",
    "        stop=[\"<|im_end|>\"],\n",
    "    )\n",
    "\n",
    "    # parse completion (5 titles)\n",
    "    response_raw = response.choices[0].message.content\n",
    "    pattern = r\"^\\s*(?:[-*]|\\d+\\.)\\s+(.+)$\"\n",
    "    title_list = re.findall(pattern, response_raw, re.MULTILINE)\n",
    "\n",
    "    # generate all possible unique pairs\n",
    "    title_pair_list = list(combinations(title_list, 2))\n",
    "    \n",
    "    # store all unique idea-title pairs in a list of dicts\n",
    "    for a,b in title_pair_list:\n",
    "        triplet_list.append({\"idea\":idea, \"title_a\": a, \"title_b\": b})"
   ]
  },
  {
   "cell_type": "code",
   "execution_count": 7,
   "id": "f12f506f-34da-49e3-b64f-0ac8653eb4a1",
   "metadata": {},
   "outputs": [
    {
     "data": {
      "text/plain": [
       "1140"
      ]
     },
     "execution_count": 7,
     "metadata": {},
     "output_type": "execute_result"
    }
   ],
   "source": [
    "len(triplet_list)"
   ]
  },
  {
   "cell_type": "markdown",
   "id": "c4d83f70-d154-436e-a587-4d9bae07bd0b",
   "metadata": {},
   "source": [
    "### write list of dicts as .csv file"
   ]
  },
  {
   "cell_type": "code",
   "execution_count": 8,
   "id": "c7300cc9-3b79-45fb-9bfc-6b8a40d70ed2",
   "metadata": {},
   "outputs": [],
   "source": [
    "# Write to CSV\n",
    "with open(\"data/idea-title_pairs.csv\", mode=\"w\", newline=\"\", encoding=\"utf-8\") as file:\n",
    "    \n",
    "    # Extract field names from the first dictionary\n",
    "    fieldnames = triplet_list[0].keys()\n",
    "    \n",
    "    # Create DictWriter object\n",
    "    writer = csv.DictWriter(file, fieldnames=fieldnames)\n",
    "    \n",
    "    # Write the header row\n",
    "    writer.writeheader()\n",
    "    \n",
    "    # Write data rows\n",
    "    writer.writerows(triplet_list)\n"
   ]
  },
  {
   "cell_type": "code",
   "execution_count": null,
   "id": "f80225fc-6171-4e9a-8b4e-72f693d2dcba",
   "metadata": {},
   "outputs": [],
   "source": []
  }
 ],
 "metadata": {
  "kernelspec": {
   "display_name": "Python 3 (ipykernel)",
   "language": "python",
   "name": "python3"
  },
  "language_info": {
   "codemirror_mode": {
    "name": "ipython",
    "version": 3
   },
   "file_extension": ".py",
   "mimetype": "text/x-python",
   "name": "python",
   "nbconvert_exporter": "python",
   "pygments_lexer": "ipython3",
   "version": "3.12.8"
  }
 },
 "nbformat": 4,
 "nbformat_minor": 5
}

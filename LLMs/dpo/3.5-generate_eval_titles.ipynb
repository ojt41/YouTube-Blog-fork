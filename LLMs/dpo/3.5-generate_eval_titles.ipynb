{
 "cells": [
  {
   "cell_type": "markdown",
   "id": "675d0650-6f93-4e99-95e6-38da57df264d",
   "metadata": {},
   "source": [
    "# Evaluate fine-tuned model\n",
    "\n",
    "Code authored by: Shaw Talebi"
   ]
  },
  {
   "cell_type": "markdown",
   "id": "d4456878-362f-4d44-ac83-c647088a0e60",
   "metadata": {},
   "source": [
    "### imports"
   ]
  },
  {
   "cell_type": "code",
   "execution_count": 1,
   "id": "90bf719d-1475-4e0f-9809-a32c8f9be6cf",
   "metadata": {},
   "outputs": [],
   "source": [
    "import csv\n",
    "import random\n",
    "from functions import generate_title\n",
    "from transformers import AutoModelForCausalLM, AutoTokenizer\n",
    "import pandas as pd\n",
    "\n",
    "from openai import OpenAI\n",
    "from dotenv import load_dotenv\n",
    "import os"
   ]
  },
  {
   "cell_type": "code",
   "execution_count": 2,
   "id": "db29e1ae-f6fc-4a82-b3c6-1406555adc77",
   "metadata": {},
   "outputs": [],
   "source": [
    "# load vars from .env\n",
    "load_dotenv()\n",
    "\n",
    "# connect to openai API\n",
    "client = OpenAI(api_key=os.getenv(\"OPENAI_API_KEY\"))"
   ]
  },
  {
   "cell_type": "markdown",
   "id": "335de52f-c7be-4655-b73d-e9dd202c50e2",
   "metadata": {},
   "source": [
    "### load ideas"
   ]
  },
  {
   "cell_type": "code",
   "execution_count": 3,
   "id": "a933e37d-6380-4d88-889b-58d01e90d9e2",
   "metadata": {},
   "outputs": [],
   "source": [
    "# Open and read the CSV file\n",
    "with open('data/ideas.csv', mode='r', encoding='utf-8') as file:\n",
    "    reader = csv.reader(file)\n",
    "    next(reader) # skip first line\n",
    "\n",
    "    # intialize list to store ideas\n",
    "    idea_list = []\n",
    "    \n",
    "    for row in reader:\n",
    "        idea_list.append(row[0])"
   ]
  },
  {
   "cell_type": "code",
   "execution_count": 4,
   "id": "280bc475-3ec5-4a10-9e3a-09c5df6696ee",
   "metadata": {},
   "outputs": [
    {
     "name": "stdout",
     "output_type": "stream",
     "text": [
      "['How I become a data scientist (my journey to data science from Physics)', 'topological data analysis', 'Generative adversarial networks (GANs)', 'stable diffusion models', 'Fine-tuning LLMs on human feedback', 'fat tailed distribtions', 'What is entropy?', 'Mechanistic interpretability', 'persistent homology', 'Distribution differences: KS-test (D statistic), KL divergence, Wasserstein. Jensen-Shannon divergence', 'decision trees', 'AI risk, safety, and alignment', 'Fourier transform', 'Regularization (ML)', 'RAG', 'Interviewing 10 upwork millionaires', 'Python tutorial for AI beginners', 'Why I quit my 6F data science job', 'What is an AI project manager?', 'multimodal RAG', 'Gaussian process regression', 'How to detect fat tailed distributions', 'Power law scaling on Youtube', 'Silhouette plots', 'How to handle imbalanced data in ML', 'model distillation', 'decision tree ensembles', 'Genetic algorithm', 'Fine-tuning multimodal embedding models', 'causal inference', 'LLM post-training', 'GitHub for data science', 'KMeans', 'ROC, AUC. Generalizing to decision trees and other classifiers', 'LLM alignment', 'Practical use case with decision trees', 'text embedding models', 'RL with AI feedback', 'Gini value vs gini coefficient vs Gini impurity', 'AI agents', '5 AI automation use cases', '5 biases every data scientist should know (and how to avoid them)', 'Fine-tuning LLMs for tool use', 'Habituation in causal inference', 'Fine-tuning FLUX.1 on images of me', 'Building a resume optimizer with AI', 'Sensitivity analysis overview. What is sensitivity analysis and when you need it in your data science project.', 'fine-tuning LLMs', 'Statistics for data scientists', 'Evaluating binary classification models']\n"
     ]
    }
   ],
   "source": [
    "# Randomly select 10 ideas\n",
    "random.seed(0)\n",
    "random_ideas = random.sample(idea_list, 50)\n",
    "print(random_ideas)"
   ]
  },
  {
   "cell_type": "markdown",
   "id": "e21956bc-7552-434d-9836-63e04ebecbdb",
   "metadata": {},
   "source": [
    "### generate titles from base and fine-tuned models"
   ]
  },
  {
   "cell_type": "code",
   "execution_count": 5,
   "id": "ad759994-b489-4ce7-83c0-4a8fd3411766",
   "metadata": {},
   "outputs": [],
   "source": [
    "model = AutoModelForCausalLM.from_pretrained(\"Qwen/Qwen2-0.5B-Instruct\")\n",
    "tokenizer = AutoTokenizer.from_pretrained(\"Qwen/Qwen2-0.5B-Instruct\")\n",
    "\n",
    "checkpoint = 258\n",
    "ft_model = AutoModelForCausalLM.from_pretrained(f\"./Qwen2-0.5B-DPO/checkpoint-{checkpoint}\")"
   ]
  },
  {
   "cell_type": "code",
   "execution_count": 6,
   "id": "4bd432c8-b5a5-4a23-9064-c6e9a07128da",
   "metadata": {
    "scrolled": true
   },
   "outputs": [
    {
     "name": "stderr",
     "output_type": "stream",
     "text": [
      "Device set to use mps:0\n",
      "Device set to use mps:0\n",
      "Device set to use mps:0\n",
      "Device set to use mps:0\n",
      "Device set to use mps:0\n",
      "Device set to use mps:0\n",
      "Device set to use mps:0\n",
      "Device set to use mps:0\n",
      "Device set to use mps:0\n",
      "Device set to use mps:0\n",
      "Device set to use mps:0\n",
      "Device set to use mps:0\n",
      "Device set to use mps:0\n",
      "Device set to use mps:0\n",
      "Device set to use mps:0\n",
      "Device set to use mps:0\n",
      "Device set to use mps:0\n",
      "Device set to use mps:0\n",
      "Device set to use mps:0\n",
      "Device set to use mps:0\n",
      "Device set to use mps:0\n",
      "Device set to use mps:0\n",
      "Device set to use mps:0\n",
      "Device set to use mps:0\n",
      "Device set to use mps:0\n",
      "Device set to use mps:0\n",
      "Device set to use mps:0\n",
      "Device set to use mps:0\n",
      "Device set to use mps:0\n",
      "Device set to use mps:0\n",
      "Device set to use mps:0\n",
      "Device set to use mps:0\n",
      "Device set to use mps:0\n",
      "Device set to use mps:0\n",
      "Device set to use mps:0\n",
      "Device set to use mps:0\n",
      "Device set to use mps:0\n",
      "Device set to use mps:0\n",
      "Device set to use mps:0\n",
      "Device set to use mps:0\n",
      "Device set to use mps:0\n",
      "Device set to use mps:0\n",
      "Device set to use mps:0\n",
      "Device set to use mps:0\n",
      "Device set to use mps:0\n",
      "Device set to use mps:0\n",
      "Device set to use mps:0\n",
      "Device set to use mps:0\n",
      "Device set to use mps:0\n",
      "Device set to use mps:0\n",
      "Device set to use mps:0\n",
      "Device set to use mps:0\n",
      "Device set to use mps:0\n",
      "Device set to use mps:0\n",
      "Device set to use mps:0\n",
      "Device set to use mps:0\n",
      "Device set to use mps:0\n",
      "Device set to use mps:0\n",
      "Device set to use mps:0\n",
      "Device set to use mps:0\n",
      "Device set to use mps:0\n",
      "Device set to use mps:0\n",
      "Device set to use mps:0\n",
      "Device set to use mps:0\n",
      "Device set to use mps:0\n",
      "Device set to use mps:0\n",
      "Device set to use mps:0\n",
      "Device set to use mps:0\n",
      "Device set to use mps:0\n",
      "Device set to use mps:0\n",
      "Device set to use mps:0\n",
      "Device set to use mps:0\n",
      "Device set to use mps:0\n",
      "Device set to use mps:0\n",
      "Device set to use mps:0\n",
      "Device set to use mps:0\n",
      "Device set to use mps:0\n",
      "Device set to use mps:0\n",
      "Device set to use mps:0\n",
      "Device set to use mps:0\n",
      "Device set to use mps:0\n",
      "Device set to use mps:0\n",
      "Device set to use mps:0\n",
      "Device set to use mps:0\n",
      "Device set to use mps:0\n",
      "Device set to use mps:0\n",
      "Device set to use mps:0\n",
      "Device set to use mps:0\n",
      "Device set to use mps:0\n",
      "Device set to use mps:0\n",
      "Device set to use mps:0\n",
      "Device set to use mps:0\n",
      "Device set to use mps:0\n",
      "Device set to use mps:0\n",
      "Device set to use mps:0\n",
      "Device set to use mps:0\n",
      "Device set to use mps:0\n",
      "Device set to use mps:0\n",
      "Device set to use mps:0\n",
      "Device set to use mps:0\n"
     ]
    }
   ],
   "source": [
    "base_title_list = []\n",
    "ft_title_list = []\n",
    "\n",
    "for idea in random_ideas:\n",
    "    base_title_list.extend(generate_title(idea, model, tokenizer, num_titles=1))\n",
    "    ft_title_list.extend(generate_title(idea, ft_model, tokenizer, num_titles=1))"
   ]
  },
  {
   "cell_type": "code",
   "execution_count": 7,
   "id": "dde9411c-da5a-44dd-8f08-d9bb3d91d73d",
   "metadata": {},
   "outputs": [],
   "source": [
    "df = pd.DataFrame({\"base_title\":base_title_list, \"ft_title\":ft_title_list})"
   ]
  },
  {
   "cell_type": "code",
   "execution_count": 8,
   "id": "f4093a53-0b4b-48f9-8644-e70ab2c796d8",
   "metadata": {},
   "outputs": [
    {
     "data": {
      "text/html": [
       "<div>\n",
       "<style scoped>\n",
       "    .dataframe tbody tr th:only-of-type {\n",
       "        vertical-align: middle;\n",
       "    }\n",
       "\n",
       "    .dataframe tbody tr th {\n",
       "        vertical-align: top;\n",
       "    }\n",
       "\n",
       "    .dataframe thead th {\n",
       "        text-align: right;\n",
       "    }\n",
       "</style>\n",
       "<table border=\"1\" class=\"dataframe\">\n",
       "  <thead>\n",
       "    <tr style=\"text-align: right;\">\n",
       "      <th></th>\n",
       "      <th>base_title</th>\n",
       "      <th>ft_title</th>\n",
       "    </tr>\n",
       "  </thead>\n",
       "  <tbody>\n",
       "    <tr>\n",
       "      <th>0</th>\n",
       "      <td>From Physics to Data Scientist: My Journey Thr...</td>\n",
       "      <td>How I Began My Journey as a Data Scientist: Fr...</td>\n",
       "    </tr>\n",
       "    <tr>\n",
       "      <th>1</th>\n",
       "      <td>Revolutionizing Data Analysis with Topological...</td>\n",
       "      <td>Topological Data Analysis: Exploring Networks ...</td>\n",
       "    </tr>\n",
       "    <tr>\n",
       "      <th>2</th>\n",
       "      <td>Bringing Creativity to Digital Worlds: GANs Un...</td>\n",
       "      <td>Generative Adversarial Networks: Exploring the...</td>\n",
       "    </tr>\n",
       "    <tr>\n",
       "      <th>3</th>\n",
       "      <td>Revolutionizing Stable Diffusion: Exploring th...</td>\n",
       "      <td>Stable Diffusion Models: Exploring the Future ...</td>\n",
       "    </tr>\n",
       "    <tr>\n",
       "      <th>4</th>\n",
       "      <td>Revolutionizing Language Learning with Human F...</td>\n",
       "      <td>Revolutionizing Natural Language Processing: F...</td>\n",
       "    </tr>\n",
       "  </tbody>\n",
       "</table>\n",
       "</div>"
      ],
      "text/plain": [
       "                                          base_title  \\\n",
       "0  From Physics to Data Scientist: My Journey Thr...   \n",
       "1  Revolutionizing Data Analysis with Topological...   \n",
       "2  Bringing Creativity to Digital Worlds: GANs Un...   \n",
       "3  Revolutionizing Stable Diffusion: Exploring th...   \n",
       "4  Revolutionizing Language Learning with Human F...   \n",
       "\n",
       "                                            ft_title  \n",
       "0  How I Began My Journey as a Data Scientist: Fr...  \n",
       "1  Topological Data Analysis: Exploring Networks ...  \n",
       "2  Generative Adversarial Networks: Exploring the...  \n",
       "3  Stable Diffusion Models: Exploring the Future ...  \n",
       "4  Revolutionizing Natural Language Processing: F...  "
      ]
     },
     "execution_count": 8,
     "metadata": {},
     "output_type": "execute_result"
    }
   ],
   "source": [
    "df.head()"
   ]
  },
  {
   "cell_type": "code",
   "execution_count": 9,
   "id": "87193c71-fb4c-4391-942b-74630a993d90",
   "metadata": {},
   "outputs": [],
   "source": [
    "df.to_csv(f\"data/title_eval-checkpoint_{checkpoint}.csv\", index=False)"
   ]
  },
  {
   "cell_type": "code",
   "execution_count": null,
   "id": "72d1a3f6-23d3-4353-8502-1e51669fd1a2",
   "metadata": {},
   "outputs": [],
   "source": []
  }
 ],
 "metadata": {
  "kernelspec": {
   "display_name": "Python 3 (ipykernel)",
   "language": "python",
   "name": "python3"
  },
  "language_info": {
   "codemirror_mode": {
    "name": "ipython",
    "version": 3
   },
   "file_extension": ".py",
   "mimetype": "text/x-python",
   "name": "python",
   "nbconvert_exporter": "python",
   "pygments_lexer": "ipython3",
   "version": "3.12.8"
  }
 },
 "nbformat": 4,
 "nbformat_minor": 5
}

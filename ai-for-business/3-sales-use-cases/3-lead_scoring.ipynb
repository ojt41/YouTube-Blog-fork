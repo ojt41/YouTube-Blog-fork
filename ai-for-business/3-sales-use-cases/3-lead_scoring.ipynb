{
 "cells": [
  {
   "cell_type": "markdown",
   "id": "312a79dc-9270-405a-a26a-d5e2d8a76cb4",
   "metadata": {},
   "source": [
    "# Use Case 3: Lead Scoring and Segmentation\n",
    "\n",
    "Code authored by: Shaw Talebi\n",
    "\n",
    "Video link: https://youtu.be/3JsgtpX_rpU <br>\n",
    "Blog link: https://towardsdatascience.com/3-ai-use-cases-that-are-not-a-chatbot-f4f328a2707a"
   ]
  },
  {
   "cell_type": "markdown",
   "id": "af006da6-3886-46bd-b269-47ea1bef43e6",
   "metadata": {},
   "source": [
    "### import"
   ]
  },
  {
   "cell_type": "code",
   "execution_count": 1,
   "id": "3554af57-e3a0-45a0-bce1-22ec55c6ae4a",
   "metadata": {},
   "outputs": [],
   "source": [
    "import polars as pl\n",
    "import numpy as np\n",
    "import matplotlib.pyplot as plt\n",
    "\n",
    "from sklearn.ensemble import RandomForestClassifier\n",
    "\n",
    "from sklearn.linear_model import LogisticRegression\n",
    "from sklearn.metrics import roc_auc_score\n",
    "from sklearn.model_selection import train_test_split"
   ]
  },
  {
   "cell_type": "markdown",
   "id": "0df051a1-61f0-4f33-8a25-a368c5809ee9",
   "metadata": {},
   "source": [
    "### load data"
   ]
  },
  {
   "cell_type": "code",
   "execution_count": 2,
   "id": "e11279d9-32a2-4b21-9c45-2d05eddc32de",
   "metadata": {},
   "outputs": [],
   "source": [
    "# import resumes with embeddings\n",
    "df = pl.read_csv('data/resumes_augemented_structured.csv')"
   ]
  },
  {
   "cell_type": "code",
   "execution_count": 3,
   "id": "ac2d38bf-abaa-4428-9b98-f1208cd7e5b5",
   "metadata": {},
   "outputs": [],
   "source": [
    "# import outreach data\n",
    "df_outreach = pl.read_csv('data/outreach.csv')"
   ]
  },
  {
   "cell_type": "code",
   "execution_count": 4,
   "id": "5d3fc21d-9cd3-4c17-bf55-6eac1ae2a674",
   "metadata": {},
   "outputs": [],
   "source": [
    "# join data\n",
    "df = df.join(df_outreach, on=\"Name\")\n",
    "\n",
    "# drop duplicates\n",
    "df = df.unique(\"Name\")"
   ]
  },
  {
   "cell_type": "code",
   "execution_count": 5,
   "id": "a594c825-642c-42ac-9c34-ae5edd7c1679",
   "metadata": {},
   "outputs": [],
   "source": [
    "# replace name with number for privacy\n",
    "df = df.with_columns(pl.Series(name=\"Name\", values=list(range(len(df)))))"
   ]
  },
  {
   "cell_type": "markdown",
   "id": "df699b63-7466-40aa-9d7a-ac05e2441e67",
   "metadata": {},
   "source": [
    "### data prep"
   ]
  },
  {
   "cell_type": "code",
   "execution_count": 6,
   "id": "3be1606c-b934-4af1-b091-2550e4154990",
   "metadata": {},
   "outputs": [],
   "source": [
    "# define predictor and target variable names\n",
    "X_names = [varname for varname in df.columns if \"Embedding\" in varname] + [\"exp_level\"]\n",
    "y_name = \"Responded\"\n",
    "\n",
    "# create predictor and target dfs\n",
    "X = df[X_names]\n",
    "y = df[y_name]"
   ]
  },
  {
   "cell_type": "markdown",
   "id": "fef5656a-e4e9-4a36-ae00-2e12491275b6",
   "metadata": {},
   "source": [
    "### Dimensionality Reduction"
   ]
  },
  {
   "cell_type": "code",
   "execution_count": 7,
   "id": "a1cde787-b01f-45cc-ab23-05fddbc6788e",
   "metadata": {},
   "outputs": [],
   "source": [
    "clf = RandomForestClassifier(random_state=0, n_estimators=2500, max_depth=4)\n",
    "clf = clf.fit(X, y)"
   ]
  },
  {
   "cell_type": "code",
   "execution_count": 8,
   "id": "853c4442-1178-44cf-8f42-d193d187796f",
   "metadata": {},
   "outputs": [
    {
     "data": {
      "text/plain": [
       "1.0"
      ]
     },
     "execution_count": 8,
     "metadata": {},
     "output_type": "execute_result"
    }
   ],
   "source": [
    "rf_auc_val = roc_auc_score(y, clf.predict_proba(X)[:,1])\n",
    "rf_auc_val"
   ]
  },
  {
   "cell_type": "code",
   "execution_count": 9,
   "id": "df4121e5-c7d5-46aa-a6e5-a4f4970baf46",
   "metadata": {},
   "outputs": [
    {
     "data": {
      "text/html": [
       "<div><style>\n",
       ".dataframe > thead > tr,\n",
       ".dataframe > tbody > tr {\n",
       "  text-align: right;\n",
       "  white-space: pre-wrap;\n",
       "}\n",
       "</style>\n",
       "<small>shape: (769, 2)</small><table border=\"1\" class=\"dataframe\"><thead><tr><th>Varname</th><th>Importance</th></tr><tr><td>str</td><td>f64</td></tr></thead><tbody><tr><td>&quot;Embedding-522&quot;</td><td>0.007673</td></tr><tr><td>&quot;Embedding-6&quot;</td><td>0.007626</td></tr><tr><td>&quot;Embedding-590&quot;</td><td>0.006787</td></tr><tr><td>&quot;Embedding-343&quot;</td><td>0.006409</td></tr><tr><td>&quot;Embedding-513&quot;</td><td>0.006321</td></tr><tr><td>&hellip;</td><td>&hellip;</td></tr><tr><td>&quot;Embedding-368&quot;</td><td>0.00028</td></tr><tr><td>&quot;Embedding-114&quot;</td><td>0.000271</td></tr><tr><td>&quot;Embedding-187&quot;</td><td>0.000266</td></tr><tr><td>&quot;exp_level&quot;</td><td>0.000235</td></tr><tr><td>&quot;Embedding-77&quot;</td><td>0.000212</td></tr></tbody></table></div>"
      ],
      "text/plain": [
       "shape: (769, 2)\n",
       "┌───────────────┬────────────┐\n",
       "│ Varname       ┆ Importance │\n",
       "│ ---           ┆ ---        │\n",
       "│ str           ┆ f64        │\n",
       "╞═══════════════╪════════════╡\n",
       "│ Embedding-522 ┆ 0.007673   │\n",
       "│ Embedding-6   ┆ 0.007626   │\n",
       "│ Embedding-590 ┆ 0.006787   │\n",
       "│ Embedding-343 ┆ 0.006409   │\n",
       "│ Embedding-513 ┆ 0.006321   │\n",
       "│ …             ┆ …          │\n",
       "│ Embedding-368 ┆ 0.00028    │\n",
       "│ Embedding-114 ┆ 0.000271   │\n",
       "│ Embedding-187 ┆ 0.000266   │\n",
       "│ exp_level     ┆ 0.000235   │\n",
       "│ Embedding-77  ┆ 0.000212   │\n",
       "└───────────────┴────────────┘"
      ]
     },
     "execution_count": 9,
     "metadata": {},
     "output_type": "execute_result"
    }
   ],
   "source": [
    "feature_importances = pl.DataFrame({\"Varname\": X_names, \"Importance\":clf.feature_importances_})\n",
    "feature_importances_sorted = feature_importances.sort(by=\"Importance\", descending=True)\n",
    "feature_importances_sorted"
   ]
  },
  {
   "cell_type": "markdown",
   "id": "1b4f704c-afbb-4fb3-a37e-8eaa372cba20",
   "metadata": {},
   "source": [
    "### Train Yes and No Models"
   ]
  },
  {
   "cell_type": "code",
   "execution_count": 10,
   "id": "09241834-6ccc-45c1-a0e5-e1d08f60ccb7",
   "metadata": {},
   "outputs": [],
   "source": [
    "# create df consisting of leads that responded\n",
    "df_responded = df.filter(pl.col(\"Responded\"))\n",
    "df_responded = df_responded.with_columns((pl.col(\"Yes/No\") == \"Yes\").alias(\"Yes\")).fill_null(False)\n",
    "df_responded = df_responded.with_columns((pl.col(\"Yes/No\") == \"No\").alias(\"No\")).fill_null(False)"
   ]
  },
  {
   "cell_type": "code",
   "execution_count": 11,
   "id": "d6887228-b970-4677-8a9c-a4c6dbe4d0fd",
   "metadata": {},
   "outputs": [],
   "source": [
    "# train models to predict \"yes\" and \"no\" responses\n",
    "clf_list = []\n",
    "y_name_list = [\"Yes\", \"No\"]\n",
    "num_vars = 75\n",
    "\n",
    "train_auc_list = []\n",
    "test_auc_list = []\n",
    "\n",
    "feature_names = list(feature_importances_sorted[\"Varname\"][:num_vars])\n",
    "\n",
    "for y_name in y_name_list:\n",
    "    \n",
    "    # create predictor and target dfs\n",
    "    X = df_responded[X_names]\n",
    "    y = df_responded[y_name]\n",
    "    \n",
    "    # # create train and test datasets\n",
    "    X_train, X_test, y_train, y_test = train_test_split(X, y, test_size=0.2, random_state=0)\n",
    "\n",
    "    # train LR model with top n most important features\n",
    "    clf = LogisticRegression(random_state=0, solver='newton-cg',class_weight='balanced').fit(X_train[feature_names], y_train)\n",
    "\n",
    "    # store LR model and performance in list\n",
    "    clf_list.append(clf)\n",
    "    train_auc_list.append(roc_auc_score(y_train, clf.predict_proba(X_train[feature_names])[:,1]))\n",
    "    test_auc_list.append(roc_auc_score(y_test, clf.predict_proba(X_test[feature_names])[:,1]))"
   ]
  },
  {
   "cell_type": "code",
   "execution_count": 12,
   "id": "0e46589b-dc1f-42ce-a819-8103f579448a",
   "metadata": {},
   "outputs": [
    {
     "name": "stdout",
     "output_type": "stream",
     "text": [
      "Train AUC: [0.8722109533468559, 0.9362745098039216]\n",
      "Test AUC: [0.5454545454545454, 0.7428571428571429]\n"
     ]
    }
   ],
   "source": [
    "print(\"Train AUC:\", train_auc_list)\n",
    "print(\"Test AUC:\", test_auc_list)"
   ]
  },
  {
   "cell_type": "markdown",
   "id": "3892b9b5-4aeb-44a0-8742-b9165fb6a743",
   "metadata": {},
   "source": [
    "### Apply model to entire dataset"
   ]
  },
  {
   "cell_type": "code",
   "execution_count": 13,
   "id": "7f073f5e-f672-4b7c-a424-b8b5587db9e4",
   "metadata": {},
   "outputs": [],
   "source": [
    "yes_score = clf_list[0].predict_proba(df[feature_names])[:,1]\n",
    "no_score = clf_list[1].predict_proba(df[feature_names])[:,1]"
   ]
  },
  {
   "cell_type": "code",
   "execution_count": 14,
   "id": "118f127a-b1b7-4046-98c2-93d98e7ae0f5",
   "metadata": {},
   "outputs": [],
   "source": [
    "# add scores to original df\n",
    "df = df.with_columns(pl.Series(name=\"Yes_score\", values=yes_score))\n",
    "df = df.with_columns(pl.Series(name=\"No_score\", values=no_score))\n",
    "df = df.with_columns(pl.Series(name=\"Score\", values=yes_score-no_score))\n",
    "\n",
    "# add yes and no columns to original df\n",
    "df = df.with_columns((pl.col(\"Yes/No\") == \"Yes\").alias(\"Yes\"))\n",
    "df = df.with_columns((pl.col(\"Yes/No\") == \"No\").alias(\"No\"))"
   ]
  },
  {
   "cell_type": "markdown",
   "id": "90932003-e397-4b03-8fbb-f4de2d6f9059",
   "metadata": {},
   "source": [
    "### Score Analysis"
   ]
  },
  {
   "cell_type": "code",
   "execution_count": 15,
   "id": "f14a2f33-f0e7-47b9-ae38-acbac64c423a",
   "metadata": {},
   "outputs": [
    {
     "data": {
      "image/png": "[encoded data removed]",
      "text/plain": [
       "<Figure size 640x480 with 1 Axes>"
      ]
     },
     "metadata": {},
     "output_type": "display_data"
    }
   ],
   "source": [
    "plt.hist(df[\"Score\"])\n",
    "plt.title(\"Score Histogram\")\n",
    "plt.show()"
   ]
  },
  {
   "cell_type": "code",
   "execution_count": 16,
   "id": "7321e461-ee76-4535-b269-cc35876d79c7",
   "metadata": {},
   "outputs": [
    {
     "data": {
      "text/html": [
       "<div><style>\n",
       ".dataframe > thead > tr,\n",
       ".dataframe > tbody > tr {\n",
       "  text-align: right;\n",
       "  white-space: pre-wrap;\n",
       "}\n",
       "</style>\n",
       "<small>shape: (12, 5)</small><table border=\"1\" class=\"dataframe\"><thead><tr><th>Role</th><th>len</th><th>Score</th><th>Yes_score</th><th>No_score</th></tr><tr><td>str</td><td>u32</td><td>f64</td><td>f64</td><td>f64</td></tr></thead><tbody><tr><td>&quot;IT Professional&quot;</td><td>10</td><td>0.09905</td><td>0.520006</td><td>0.420956</td></tr><tr><td>&quot;Data Architect&quot;</td><td>1</td><td>0.080062</td><td>0.506225</td><td>0.426162</td></tr><tr><td>&quot;Consultant&quot;</td><td>10</td><td>0.071975</td><td>0.524281</td><td>0.452306</td></tr><tr><td>&quot;Data Manager&quot;</td><td>2</td><td>0.021647</td><td>0.4643</td><td>0.442652</td></tr><tr><td>&quot;Data Analyst&quot;</td><td>18</td><td>0.019786</td><td>0.484933</td><td>0.465146</td></tr><tr><td>&quot;Data Leader&quot;</td><td>2</td><td>0.010137</td><td>0.467334</td><td>0.457198</td></tr><tr><td>&quot;SWE&quot;</td><td>5</td><td>0.007902</td><td>0.48179</td><td>0.473888</td></tr><tr><td>&quot;Data Engineer&quot;</td><td>6</td><td>-0.005887</td><td>0.466307</td><td>0.472194</td></tr><tr><td>&quot;Web Dev&quot;</td><td>5</td><td>-0.034504</td><td>0.467486</td><td>0.50199</td></tr><tr><td>&quot;Data Entrepreneur&quot;</td><td>2</td><td>-0.043548</td><td>0.490585</td><td>0.534133</td></tr><tr><td>&quot;Data Scientist&quot;</td><td>34</td><td>-0.05446</td><td>0.458149</td><td>0.512609</td></tr><tr><td>&quot;Data Student&quot;</td><td>4</td><td>-0.104165</td><td>0.421786</td><td>0.525951</td></tr></tbody></table></div>"
      ],
      "text/plain": [
       "shape: (12, 5)\n",
       "┌───────────────────┬─────┬───────────┬───────────┬──────────┐\n",
       "│ Role              ┆ len ┆ Score     ┆ Yes_score ┆ No_score │\n",
       "│ ---               ┆ --- ┆ ---       ┆ ---       ┆ ---      │\n",
       "│ str               ┆ u32 ┆ f64       ┆ f64       ┆ f64      │\n",
       "╞═══════════════════╪═════╪═══════════╪═══════════╪══════════╡\n",
       "│ IT Professional   ┆ 10  ┆ 0.09905   ┆ 0.520006  ┆ 0.420956 │\n",
       "│ Data Architect    ┆ 1   ┆ 0.080062  ┆ 0.506225  ┆ 0.426162 │\n",
       "│ Consultant        ┆ 10  ┆ 0.071975  ┆ 0.524281  ┆ 0.452306 │\n",
       "│ Data Manager      ┆ 2   ┆ 0.021647  ┆ 0.4643    ┆ 0.442652 │\n",
       "│ Data Analyst      ┆ 18  ┆ 0.019786  ┆ 0.484933  ┆ 0.465146 │\n",
       "│ Data Leader       ┆ 2   ┆ 0.010137  ┆ 0.467334  ┆ 0.457198 │\n",
       "│ SWE               ┆ 5   ┆ 0.007902  ┆ 0.48179   ┆ 0.473888 │\n",
       "│ Data Engineer     ┆ 6   ┆ -0.005887 ┆ 0.466307  ┆ 0.472194 │\n",
       "│ Web Dev           ┆ 5   ┆ -0.034504 ┆ 0.467486  ┆ 0.50199  │\n",
       "│ Data Entrepreneur ┆ 2   ┆ -0.043548 ┆ 0.490585  ┆ 0.534133 │\n",
       "│ Data Scientist    ┆ 34  ┆ -0.05446  ┆ 0.458149  ┆ 0.512609 │\n",
       "│ Data Student      ┆ 4   ┆ -0.104165 ┆ 0.421786  ┆ 0.525951 │\n",
       "└───────────────────┴─────┴───────────┴───────────┴──────────┘"
      ]
     },
     "execution_count": 16,
     "metadata": {},
     "output_type": "execute_result"
    }
   ],
   "source": [
    "pl.Config(tbl_rows=15)\n",
    "df.group_by(\"Role\").agg([pl.len(), pl.col(\"Score\").mean(), pl.col(\"Yes_score\").mean(), pl.col(\"No_score\").mean()]).sort(by=\"Score\", descending=True)"
   ]
  },
  {
   "cell_type": "code",
   "execution_count": 33,
   "id": "81f28452-2100-4863-96c1-380f47884672",
   "metadata": {},
   "outputs": [
    {
     "data": {
      "text/html": [
       "<div><style>\n",
       ".dataframe > thead > tr,\n",
       ".dataframe > tbody > tr {\n",
       "  text-align: right;\n",
       "  white-space: pre-wrap;\n",
       "}\n",
       "</style>\n",
       "<small>shape: (5, 5)</small><table border=\"1\" class=\"dataframe\"><thead><tr><th>exp_level</th><th>len</th><th>Score</th><th>Yes_score</th><th>No_score</th></tr><tr><td>i64</td><td>u32</td><td>f64</td><td>f64</td><td>f64</td></tr></thead><tbody><tr><td>1</td><td>4</td><td>0.034944</td><td>0.492176</td><td>0.457231</td></tr><tr><td>3</td><td>50</td><td>0.002042</td><td>0.479409</td><td>0.477367</td></tr><tr><td>4</td><td>13</td><td>-0.004542</td><td>0.481412</td><td>0.485954</td></tr><tr><td>5</td><td>18</td><td>-0.004927</td><td>0.478864</td><td>0.483791</td></tr><tr><td>2</td><td>14</td><td>-0.02913</td><td>0.465266</td><td>0.494396</td></tr></tbody></table></div>"
      ],
      "text/plain": [
       "shape: (5, 5)\n",
       "┌───────────┬─────┬───────────┬───────────┬──────────┐\n",
       "│ exp_level ┆ len ┆ Score     ┆ Yes_score ┆ No_score │\n",
       "│ ---       ┆ --- ┆ ---       ┆ ---       ┆ ---      │\n",
       "│ i64       ┆ u32 ┆ f64       ┆ f64       ┆ f64      │\n",
       "╞═══════════╪═════╪═══════════╪═══════════╪══════════╡\n",
       "│ 1         ┆ 4   ┆ 0.034944  ┆ 0.492176  ┆ 0.457231 │\n",
       "│ 3         ┆ 50  ┆ 0.002042  ┆ 0.479409  ┆ 0.477367 │\n",
       "│ 4         ┆ 13  ┆ -0.004542 ┆ 0.481412  ┆ 0.485954 │\n",
       "│ 5         ┆ 18  ┆ -0.004927 ┆ 0.478864  ┆ 0.483791 │\n",
       "│ 2         ┆ 14  ┆ -0.02913  ┆ 0.465266  ┆ 0.494396 │\n",
       "└───────────┴─────┴───────────┴───────────┴──────────┘"
      ]
     },
     "execution_count": 33,
     "metadata": {},
     "output_type": "execute_result"
    }
   ],
   "source": [
    "df.group_by(\"exp_level\").agg([pl.len(), pl.col(\"Score\").mean(), pl.col(\"Yes_score\").mean(), pl.col(\"No_score\").mean()]).sort(by=\"Score\", descending=True)"
   ]
  },
  {
   "cell_type": "markdown",
   "id": "77f7e1d6-d301-40c0-9a2a-0fd296386a69",
   "metadata": {},
   "source": [
    "### Customer Segments"
   ]
  },
  {
   "cell_type": "code",
   "execution_count": 17,
   "id": "394718b6-820b-4a44-aa85-227954774021",
   "metadata": {},
   "outputs": [],
   "source": [
    "# add customer segments to df\n",
    "df = df.with_columns((pl.col(\"Score\").qcut([0.2, 0.9], labels=[\"C\", \"B\", \"A\"])).alias(\"Score_segment\"))"
   ]
  },
  {
   "cell_type": "code",
   "execution_count": 18,
   "id": "ba530066-567a-4ac3-b78b-e2c55937a6f3",
   "metadata": {},
   "outputs": [
    {
     "data": {
      "text/html": [
       "<div><style>\n",
       ".dataframe > thead > tr,\n",
       ".dataframe > tbody > tr {\n",
       "  text-align: right;\n",
       "  white-space: pre-wrap;\n",
       "}\n",
       "</style>\n",
       "<small>shape: (3, 5)</small><table border=\"1\" class=\"dataframe\"><thead><tr><th>Score_segment</th><th>len</th><th>Score</th><th>Yes_score</th><th>No_score</th></tr><tr><td>cat</td><td>u32</td><td>f64</td><td>f64</td><td>f64</td></tr></thead><tbody><tr><td>&quot;A&quot;</td><td>10</td><td>0.163941</td><td>0.554968</td><td>0.391026</td></tr><tr><td>&quot;B&quot;</td><td>69</td><td>0.007075</td><td>0.4826</td><td>0.475525</td></tr><tr><td>&quot;C&quot;</td><td>20</td><td>-0.122064</td><td>0.424084</td><td>0.546148</td></tr></tbody></table></div>"
      ],
      "text/plain": [
       "shape: (3, 5)\n",
       "┌───────────────┬─────┬───────────┬───────────┬──────────┐\n",
       "│ Score_segment ┆ len ┆ Score     ┆ Yes_score ┆ No_score │\n",
       "│ ---           ┆ --- ┆ ---       ┆ ---       ┆ ---      │\n",
       "│ cat           ┆ u32 ┆ f64       ┆ f64       ┆ f64      │\n",
       "╞═══════════════╪═════╪═══════════╪═══════════╪══════════╡\n",
       "│ A             ┆ 10  ┆ 0.163941  ┆ 0.554968  ┆ 0.391026 │\n",
       "│ B             ┆ 69  ┆ 0.007075  ┆ 0.4826    ┆ 0.475525 │\n",
       "│ C             ┆ 20  ┆ -0.122064 ┆ 0.424084  ┆ 0.546148 │\n",
       "└───────────────┴─────┴───────────┴───────────┴──────────┘"
      ]
     },
     "execution_count": 18,
     "metadata": {},
     "output_type": "execute_result"
    }
   ],
   "source": [
    "df.group_by(\"Score_segment\").agg([pl.len(), pl.col(\"Score\").mean(), pl.col(\"Yes_score\").mean(), pl.col(\"No_score\").mean()]).sort(by=\"Score\", descending=True)"
   ]
  },
  {
   "cell_type": "code",
   "execution_count": 19,
   "id": "8de421df-641d-4c18-9114-67688a37d588",
   "metadata": {},
   "outputs": [
    {
     "data": {
      "text/html": [
       "<div><style>\n",
       ".dataframe > thead > tr,\n",
       ".dataframe > tbody > tr {\n",
       "  text-align: right;\n",
       "  white-space: pre-wrap;\n",
       "}\n",
       "</style>\n",
       "<small>shape: (99, 9)</small><table border=\"1\" class=\"dataframe\"><thead><tr><th>Name</th><th>Role</th><th>Score</th><th>Score_segment</th><th>Yes_score</th><th>No_score</th><th>Responded</th><th>Yes</th><th>No</th></tr><tr><td>i64</td><td>str</td><td>f64</td><td>cat</td><td>f64</td><td>f64</td><td>bool</td><td>bool</td><td>bool</td></tr></thead><tbody><tr><td>6</td><td>&quot;Consultant&quot;</td><td>0.244367</td><td>&quot;A&quot;</td><td>0.58384</td><td>0.339473</td><td>true</td><td>true</td><td>false</td></tr><tr><td>1</td><td>&quot;Data Analyst&quot;</td><td>0.207496</td><td>&quot;A&quot;</td><td>0.622144</td><td>0.414648</td><td>true</td><td>true</td><td>false</td></tr><tr><td>77</td><td>&quot;Consultant&quot;</td><td>0.191983</td><td>&quot;A&quot;</td><td>0.597789</td><td>0.405806</td><td>true</td><td>null</td><td>null</td></tr><tr><td>49</td><td>&quot;IT Professional&quot;</td><td>0.157816</td><td>&quot;A&quot;</td><td>0.570199</td><td>0.412384</td><td>true</td><td>true</td><td>false</td></tr><tr><td>85</td><td>&quot;IT Professional&quot;</td><td>0.153249</td><td>&quot;A&quot;</td><td>0.558596</td><td>0.405347</td><td>true</td><td>true</td><td>false</td></tr><tr><td>64</td><td>&quot;Data Scientist&quot;</td><td>0.149413</td><td>&quot;A&quot;</td><td>0.551859</td><td>0.402446</td><td>false</td><td>null</td><td>null</td></tr><tr><td>23</td><td>&quot;IT Professional&quot;</td><td>0.144596</td><td>&quot;A&quot;</td><td>0.560381</td><td>0.415786</td><td>true</td><td>true</td><td>false</td></tr><tr><td>55</td><td>&quot;IT Professional&quot;</td><td>0.136802</td><td>&quot;A&quot;</td><td>0.508633</td><td>0.371831</td><td>false</td><td>null</td><td>null</td></tr><tr><td>&hellip;</td><td>&hellip;</td><td>&hellip;</td><td>&hellip;</td><td>&hellip;</td><td>&hellip;</td><td>&hellip;</td><td>&hellip;</td><td>&hellip;</td></tr><tr><td>13</td><td>&quot;Web Dev&quot;</td><td>-0.132911</td><td>&quot;C&quot;</td><td>0.400981</td><td>0.533892</td><td>false</td><td>null</td><td>null</td></tr><tr><td>36</td><td>&quot;Data Scientist&quot;</td><td>-0.145632</td><td>&quot;C&quot;</td><td>0.406906</td><td>0.552538</td><td>true</td><td>false</td><td>true</td></tr><tr><td>79</td><td>&quot;Data Student&quot;</td><td>-0.14783</td><td>&quot;C&quot;</td><td>0.38342</td><td>0.53125</td><td>false</td><td>null</td><td>null</td></tr><tr><td>19</td><td>&quot;Data Analyst&quot;</td><td>-0.150319</td><td>&quot;C&quot;</td><td>0.418436</td><td>0.568755</td><td>true</td><td>false</td><td>true</td></tr><tr><td>35</td><td>&quot;Data Scientist&quot;</td><td>-0.15772</td><td>&quot;C&quot;</td><td>0.405277</td><td>0.562997</td><td>false</td><td>null</td><td>null</td></tr><tr><td>69</td><td>&quot;Data Scientist&quot;</td><td>-0.159074</td><td>&quot;C&quot;</td><td>0.427392</td><td>0.586466</td><td>false</td><td>null</td><td>null</td></tr><tr><td>92</td><td>&quot;Data Scientist&quot;</td><td>-0.183283</td><td>&quot;C&quot;</td><td>0.428444</td><td>0.611727</td><td>true</td><td>false</td><td>true</td></tr></tbody></table></div>"
      ],
      "text/plain": [
       "shape: (99, 9)\n",
       "┌──────┬─────────────────┬───────────┬───────────────┬───┬──────────┬───────────┬───────┬───────┐\n",
       "│ Name ┆ Role            ┆ Score     ┆ Score_segment ┆ … ┆ No_score ┆ Responded ┆ Yes   ┆ No    │\n",
       "│ ---  ┆ ---             ┆ ---       ┆ ---           ┆   ┆ ---      ┆ ---       ┆ ---   ┆ ---   │\n",
       "│ i64  ┆ str             ┆ f64       ┆ cat           ┆   ┆ f64      ┆ bool      ┆ bool  ┆ bool  │\n",
       "╞══════╪═════════════════╪═══════════╪═══════════════╪═══╪══════════╪═══════════╪═══════╪═══════╡\n",
       "│ 6    ┆ Consultant      ┆ 0.244367  ┆ A             ┆ … ┆ 0.339473 ┆ true      ┆ true  ┆ false │\n",
       "│ 1    ┆ Data Analyst    ┆ 0.207496  ┆ A             ┆ … ┆ 0.414648 ┆ true      ┆ true  ┆ false │\n",
       "│ 77   ┆ Consultant      ┆ 0.191983  ┆ A             ┆ … ┆ 0.405806 ┆ true      ┆ null  ┆ null  │\n",
       "│ 49   ┆ IT Professional ┆ 0.157816  ┆ A             ┆ … ┆ 0.412384 ┆ true      ┆ true  ┆ false │\n",
       "│ 85   ┆ IT Professional ┆ 0.153249  ┆ A             ┆ … ┆ 0.405347 ┆ true      ┆ true  ┆ false │\n",
       "│ 64   ┆ Data Scientist  ┆ 0.149413  ┆ A             ┆ … ┆ 0.402446 ┆ false     ┆ null  ┆ null  │\n",
       "│ 23   ┆ IT Professional ┆ 0.144596  ┆ A             ┆ … ┆ 0.415786 ┆ true      ┆ true  ┆ false │\n",
       "│ 55   ┆ IT Professional ┆ 0.136802  ┆ A             ┆ … ┆ 0.371831 ┆ false     ┆ null  ┆ null  │\n",
       "│ …    ┆ …               ┆ …         ┆ …             ┆ … ┆ …        ┆ …         ┆ …     ┆ …     │\n",
       "│ 13   ┆ Web Dev         ┆ -0.132911 ┆ C             ┆ … ┆ 0.533892 ┆ false     ┆ null  ┆ null  │\n",
       "│ 36   ┆ Data Scientist  ┆ -0.145632 ┆ C             ┆ … ┆ 0.552538 ┆ true      ┆ false ┆ true  │\n",
       "│ 79   ┆ Data Student    ┆ -0.14783  ┆ C             ┆ … ┆ 0.53125  ┆ false     ┆ null  ┆ null  │\n",
       "│ 19   ┆ Data Analyst    ┆ -0.150319 ┆ C             ┆ … ┆ 0.568755 ┆ true      ┆ false ┆ true  │\n",
       "│ 35   ┆ Data Scientist  ┆ -0.15772  ┆ C             ┆ … ┆ 0.562997 ┆ false     ┆ null  ┆ null  │\n",
       "│ 69   ┆ Data Scientist  ┆ -0.159074 ┆ C             ┆ … ┆ 0.586466 ┆ false     ┆ null  ┆ null  │\n",
       "│ 92   ┆ Data Scientist  ┆ -0.183283 ┆ C             ┆ … ┆ 0.611727 ┆ true      ┆ false ┆ true  │\n",
       "└──────┴─────────────────┴───────────┴───────────────┴───┴──────────┴───────────┴───────┴───────┘"
      ]
     },
     "execution_count": 19,
     "metadata": {},
     "output_type": "execute_result"
    }
   ],
   "source": [
    "df_scores = df[[\"Name\", \"Role\", \"Score\", \"Score_segment\", \"Yes_score\", \"No_score\", \"Responded\", \"Yes\", \"No\"]].sort(by=\"Score\", descending=True)\n",
    "df_scores"
   ]
  },
  {
   "cell_type": "code",
   "execution_count": 20,
   "id": "fbba9106-2111-4d60-aa6d-ac3db7517e8d",
   "metadata": {},
   "outputs": [],
   "source": [
    "# write data to file\n",
    "df_scores.write_csv('data/lead_scores.csv')"
   ]
  },
  {
   "cell_type": "code",
   "execution_count": null,
   "id": "29bc4d1f-6ae9-480d-aa29-b1b362d25aef",
   "metadata": {},
   "outputs": [],
   "source": []
  }
 ],
 "metadata": {
  "kernelspec": {
   "display_name": "Python 3 (ipykernel)",
   "language": "python",
   "name": "python3"
  },
  "language_info": {
   "codemirror_mode": {
    "name": "ipython",
    "version": 3
   },
   "file_extension": ".py",
   "mimetype": "text/x-python",
   "name": "python",
   "nbconvert_exporter": "python",
   "pygments_lexer": "ipython3",
   "version": "3.10.14"
  }
 },
 "nbformat": 4,
 "nbformat_minor": 5
}

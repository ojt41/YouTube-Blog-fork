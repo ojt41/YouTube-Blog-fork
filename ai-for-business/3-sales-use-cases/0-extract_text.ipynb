{
 "cells": [
  {
   "cell_type": "markdown",
   "id": "c135c674",
   "metadata": {},
   "source": [
    "# Extracting Text from Resumes\n",
    "\n",
    "Code authored by: Shaw Talebi\n",
    "\n",
    "Video link: https://youtu.be/3JsgtpX_rpU <br>\n",
    "Blog link: https://towardsdatascience.com/3-ai-use-cases-that-are-not-a-chatbot-f4f328a2707a"
   ]
  },
  {
   "cell_type": "markdown",
   "id": "905fdd8a",
   "metadata": {},
   "source": [
    "### imports"
   ]
  },
  {
   "cell_type": "code",
   "execution_count": 1,
   "id": "a693f3cf",
   "metadata": {},
   "outputs": [],
   "source": [
    "import os\n",
    "import fitz  # aka PyMuPDF\n",
    "import polars as pl"
   ]
  },
  {
   "cell_type": "markdown",
   "id": "a7040cde",
   "metadata": {},
   "source": [
    "### functions"
   ]
  },
  {
   "cell_type": "code",
   "execution_count": 2,
   "id": "cc29f111",
   "metadata": {},
   "outputs": [],
   "source": [
    "def extractText(filepath: str) -> str:\n",
    "    \"\"\"\n",
    "        Function to extract text from automatically generated resume from LinkedIn\n",
    "    \"\"\"\n",
    "\n",
    "    doc = fitz.open(filepath)\n",
    "    doc_text = \"\"\n",
    "    for page in doc:\n",
    "        page_text = page.get_text(\"text\", clip=fitz.Rect((200, 0, 612, 792))) # extract text from main part of resume\n",
    "        doc_text = doc_text + page_text\n",
    "\n",
    "    return doc_text"
   ]
  },
  {
   "cell_type": "markdown",
   "id": "cb64f8fb",
   "metadata": {},
   "source": [
    "### Importing Resumes"
   ]
  },
  {
   "cell_type": "code",
   "execution_count": 3,
   "id": "b9ddf8b1",
   "metadata": {},
   "outputs": [],
   "source": [
    "pathname = \"data/resumes/\"\n",
    "filename_list = [filename for filename in os.listdir(pathname)]"
   ]
  },
  {
   "cell_type": "code",
   "execution_count": 4,
   "id": "7000afbf",
   "metadata": {},
   "outputs": [],
   "source": [
    "resume_list = []\n",
    "\n",
    "for filename in filename_list:\n",
    "    \n",
    "    filepath = pathname + filename\n",
    "\n",
    "    doc_text = extractText(filepath)\n",
    "    name = doc_text.split('\\n')[1].split(',')[0] # name is first line and dropping title\n",
    "    if name == \"i\": # edge case: first line is \"i\"\n",
    "        name = doc_text.split('\\n')[1].split(',')[0]\n",
    "    # and this was just 100 records!\n",
    "\n",
    "    # append name and resume to list\n",
    "    resume_dict = {\"Name\":name, \"Resume\":doc_text}\n",
    "    resume_list.append(resume_dict)\n",
    "\n",
    "# create dataframe with names and resumes\n",
    "df_resumes = pl.DataFrame(resume_list)"
   ]
  },
  {
   "cell_type": "code",
   "execution_count": 5,
   "id": "ac8dfcd9",
   "metadata": {},
   "outputs": [],
   "source": [
    "# write data to file\n",
    "df_resumes.write_csv('data/resumes.csv')"
   ]
  },
  {
   "cell_type": "code",
   "execution_count": null,
   "id": "54c47f19",
   "metadata": {},
   "outputs": [],
   "source": []
  }
 ],
 "metadata": {
  "kernelspec": {
   "display_name": "Python 3 (ipykernel)",
   "language": "python",
   "name": "python3"
  },
  "language_info": {
   "codemirror_mode": {
    "name": "ipython",
    "version": 3
   },
   "file_extension": ".py",
   "mimetype": "text/x-python",
   "name": "python",
   "nbconvert_exporter": "python",
   "pygments_lexer": "ipython3",
   "version": "3.10.14"
  }
 },
 "nbformat": 4,
 "nbformat_minor": 5
}

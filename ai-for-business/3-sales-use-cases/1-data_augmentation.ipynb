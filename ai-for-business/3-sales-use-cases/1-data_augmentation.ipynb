{
 "cells": [
  {
   "cell_type": "markdown",
   "id": "c135c674",
   "metadata": {},
   "source": [
    "# Use Case 1: Data Augmentation\n",
    "\n",
    "Code authored by: Shaw Talebi\n",
    "\n",
    "Video link: https://youtu.be/3JsgtpX_rpU <br>\n",
    "Blog link: https://towardsdatascience.com/3-ai-use-cases-that-are-not-a-chatbot-f4f328a2707a"
   ]
  },
  {
   "cell_type": "markdown",
   "id": "905fdd8a",
   "metadata": {},
   "source": [
    "### imports"
   ]
  },
  {
   "cell_type": "code",
   "execution_count": 1,
   "id": "a693f3cf",
   "metadata": {},
   "outputs": [],
   "source": [
    "import polars as pl\n",
    "\n",
    "from openai import OpenAI\n",
    "from sk import my_sk\n",
    "\n",
    "import numpy as np"
   ]
  },
  {
   "cell_type": "markdown",
   "id": "b4d4ceb2-5746-4b91-8539-20cc6ea245fa",
   "metadata": {},
   "source": [
    "### Load data"
   ]
  },
  {
   "cell_type": "code",
   "execution_count": 2,
   "id": "6c4ebe93-f391-4860-aee9-cab40c7a4d6a",
   "metadata": {},
   "outputs": [],
   "source": [
    "# load resume data\n",
    "df = pl.read_csv('data/resumes.csv')"
   ]
  },
  {
   "cell_type": "markdown",
   "id": "672354e7-dbab-45e0-8c7d-16218d448112",
   "metadata": {},
   "source": [
    "### Extracting YoE"
   ]
  },
  {
   "cell_type": "code",
   "execution_count": 3,
   "id": "e8dd9bae-8b03-4295-a91d-b743d97db2b6",
   "metadata": {},
   "outputs": [],
   "source": [
    "# set up connection to OpenAI API\n",
    "client = OpenAI(api_key=my_sk)"
   ]
  },
  {
   "cell_type": "code",
   "execution_count": 4,
   "id": "6df32f47-c57c-464d-b6b6-5322b4aafa82",
   "metadata": {},
   "outputs": [],
   "source": [
    "# create system prompt\n",
    "system_prompt = \"\"\"You are a resume analysis assistant. Your task is to classify resumes into one of five experience level buckets based on the number of years of professional experience listed in the resume.\n",
    "\n",
    "The experience level buckets are:\n",
    "\n",
    "1. Entry Level (0-2 years): Suitable for recent graduates or individuals new to the industry.\n",
    "2. Junior Level (2-5 years): Candidates with some professional experience, often having foundational skills and looking to build their expertise.\n",
    "3. Mid Level (5-10 years): Professionals with substantial experience, capable of handling more complex tasks and possibly taking on leadership roles.\n",
    "4. Senior Level (10-15 years): Highly experienced individuals who are often experts in their field and may hold senior or managerial positions.\n",
    "5. Executive Level (15+ years): Veteran professionals with extensive experience, likely to be in top management or executive roles.\n",
    "\n",
    "When given a resume, analyze the text to determine the total years of professional experience and classify the resume into the appropriate experience level bucket.\"\"\""
   ]
  },
  {
   "cell_type": "code",
   "execution_count": 5,
   "id": "d94bdf6c-60cf-463e-8d49-faf39be27c95",
   "metadata": {},
   "outputs": [],
   "source": [
    "prompt_template = lambda resume: f\"\"\"I have a resume, and I need to identify the candidate's experience level. Here are the experience level buckets:\n",
    "\n",
    "1 = Entry Level (0-2 years)\n",
    "2 = Junior Level (2-5 years)\n",
    "3 = Mid Level (5-10 years)\n",
    "4 = Senior Level (10-15 years)\n",
    "5 = Executive Level (15+ years)\n",
    "\n",
    "Please analyze the following resume text and identify the experience level of the candidate. Ensure your response is a single digit between 1-5 indicating the experience level based on the above rubric.\n",
    "\n",
    "### Resume\n",
    "\n",
    "{resume}\n",
    "\n",
    "### Output: \"\"\""
   ]
  },
  {
   "cell_type": "code",
   "execution_count": 6,
   "id": "985b0f1c-5e68-471f-90f6-65010bcd9634",
   "metadata": {},
   "outputs": [],
   "source": [
    "exp_level_list = []\n",
    "\n",
    "# extract YoE for each resume in df\n",
    "for i in range(len(df)):\n",
    "    \n",
    "    prompt = prompt_template(df[\"Resume\"][i])\n",
    "    \n",
    "    response = client.chat.completions.create(\n",
    "      model=\"gpt-4o\",\n",
    "      messages=[\n",
    "        {\"role\": \"system\", \"content\": system_prompt},\n",
    "        {\"role\": \"user\", \"content\": prompt}\n",
    "      ],\n",
    "      max_tokens=1,\n",
    "      n=1,\n",
    "      temperature = 0.1\n",
    "    )\n",
    "    \n",
    "    exp_level_list.append(response.choices[0].message.content)"
   ]
  },
  {
   "cell_type": "code",
   "execution_count": 8,
   "id": "5d9a5f26-ccde-43fc-81de-b025d4b43155",
   "metadata": {},
   "outputs": [],
   "source": [
    "# convert list to numpy array of integers\n",
    "exp_level_arr = np.array(exp_level_list).astype(int)"
   ]
  },
  {
   "cell_type": "code",
   "execution_count": 10,
   "id": "eb0d35db-1b70-4f7f-adf9-43b38b2acefb",
   "metadata": {},
   "outputs": [
    {
     "data": {
      "text/plain": [
       "array([5, 5, 5, 5, 4, 2, 3, 3, 5, 3, 3, 3, 3, 2, 3, 3, 3, 2, 2, 4, 3, 4,\n",
       "       4, 4, 5, 1, 5, 5, 3, 3, 2, 1, 5, 1, 3, 5, 5, 2, 3, 3, 3, 5, 3, 4,\n",
       "       3, 3, 3, 3, 3, 3, 3, 3, 2, 3, 4, 4, 3, 4, 2, 3, 3, 4, 5, 3, 4, 3,\n",
       "       5, 3, 3, 3, 2, 3, 2, 3, 3, 4, 3, 3, 5, 3, 3, 3, 3, 3, 5, 4, 2, 3,\n",
       "       3, 5, 1, 2, 3, 2, 3, 3, 2, 3, 3, 5, 2])"
      ]
     },
     "execution_count": 10,
     "metadata": {},
     "output_type": "execute_result"
    }
   ],
   "source": [
    "exp_level_arr"
   ]
  },
  {
   "cell_type": "markdown",
   "id": "4bf9c32e-6ccf-4180-a3fd-cda0bd4010f2",
   "metadata": {},
   "source": [
    "### add new data to df"
   ]
  },
  {
   "cell_type": "code",
   "execution_count": null,
   "id": "3c59e4d6",
   "metadata": {},
   "outputs": [],
   "source": [
    "df = df.with_columns(pl.Series(name=\"exp_level\", values=exp_level_arr))"
   ]
  },
  {
   "cell_type": "code",
   "execution_count": 12,
   "id": "1c3d46f1-2f6a-4375-ae9a-7925dbae9dff",
   "metadata": {},
   "outputs": [],
   "source": [
    "# write data to file\n",
    "df.write_csv('data/resumes_augmented.csv')"
   ]
  },
  {
   "cell_type": "code",
   "execution_count": null,
   "id": "befd1079-9070-42d1-8260-5362d414451b",
   "metadata": {},
   "outputs": [],
   "source": []
  }
 ],
 "metadata": {
  "kernelspec": {
   "display_name": "Python 3 (ipykernel)",
   "language": "python",
   "name": "python3"
  },
  "language_info": {
   "codemirror_mode": {
    "name": "ipython",
    "version": 3
   },
   "file_extension": ".py",
   "mimetype": "text/x-python",
   "name": "python",
   "nbconvert_exporter": "python",
   "pygments_lexer": "ipython3",
   "version": "3.10.14"
  }
 },
 "nbformat": 4,
 "nbformat_minor": 5
}

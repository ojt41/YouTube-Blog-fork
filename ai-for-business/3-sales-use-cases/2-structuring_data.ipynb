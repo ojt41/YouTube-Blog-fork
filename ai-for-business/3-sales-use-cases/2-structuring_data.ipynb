{
 "cells": [
  {
   "cell_type": "markdown",
   "id": "c135c674",
   "metadata": {},
   "source": [
    "# Use Case 2: Structuring Unstructured Data\n",
    "\n",
    "Code authored by: Shaw Talebi\n",
    "\n",
    "Video link: https://youtu.be/3JsgtpX_rpU <br>\n",
    "Blog link: https://towardsdatascience.com/3-ai-use-cases-that-are-not-a-chatbot-f4f328a2707a"
   ]
  },
  {
   "cell_type": "markdown",
   "id": "905fdd8a",
   "metadata": {},
   "source": [
    "### imports"
   ]
  },
  {
   "cell_type": "code",
   "execution_count": 1,
   "id": "a693f3cf",
   "metadata": {},
   "outputs": [
    {
     "name": "stderr",
     "output_type": "stream",
     "text": [
      "/Users/shawhin/opt/anaconda3/envs/outreach-analysis/lib/python3.10/site-packages/sentence_transformers/cross_encoder/CrossEncoder.py:11: TqdmExperimentalWarning: Using `tqdm.autonotebook.tqdm` in notebook mode. Use `tqdm.tqdm` instead to force console mode (e.g. in jupyter console)\n",
      "  from tqdm.autonotebook import tqdm, trange\n"
     ]
    }
   ],
   "source": [
    "import polars as pl\n",
    "from sentence_transformers import SentenceTransformer"
   ]
  },
  {
   "cell_type": "markdown",
   "id": "418fcff6-d995-4120-83df-252f01b38e4d",
   "metadata": {},
   "source": [
    "### load data"
   ]
  },
  {
   "cell_type": "code",
   "execution_count": 2,
   "id": "27e24e6b-cfd9-4166-8ff6-2933a2a1eff4",
   "metadata": {},
   "outputs": [],
   "source": [
    "df = pl.read_csv('data/resumes_augmented.csv')"
   ]
  },
  {
   "cell_type": "markdown",
   "id": "7b134082-19df-4153-bc43-429dec679144",
   "metadata": {},
   "source": [
    "### prep data"
   ]
  },
  {
   "cell_type": "code",
   "execution_count": 3,
   "id": "64a2a45f-6de2-46b6-b6eb-ee58a1bda2d4",
   "metadata": {},
   "outputs": [],
   "source": [
    "# remove trailing whitespace\n",
    "df = df.with_columns((pl.col(\"Resume\").str.strip_chars()).alias(\"Resume\"))\n",
    "# remove 1st line with name\n",
    "df = df.with_columns((pl.col(\"Resume\").str.replace(r'^[^\\n]*\\n', '')).alias(\"Resume\"))"
   ]
  },
  {
   "cell_type": "code",
   "execution_count": 4,
   "id": "83ee292c-5e6a-4ffd-9473-d496acea6595",
   "metadata": {},
   "outputs": [],
   "source": [
    "# replace name with number for privacy\n",
    "df = df.with_columns(pl.Series(name=\"Name\", values=list(range(len(df)))))"
   ]
  },
  {
   "cell_type": "markdown",
   "id": "4b5b71b8-23e8-4747-837f-2ad570161f13",
   "metadata": {},
   "source": [
    "### Genereating Embeddings"
   ]
  },
  {
   "cell_type": "code",
   "execution_count": 5,
   "id": "8456f378",
   "metadata": {},
   "outputs": [
    {
     "name": "stderr",
     "output_type": "stream",
     "text": [
      "/Users/shawhin/opt/anaconda3/envs/outreach-analysis/lib/python3.10/site-packages/huggingface_hub/file_download.py:1132: FutureWarning: `resume_download` is deprecated and will be removed in version 1.0.0. Downloads always resume when possible. If you want to force a new download, use `force_download=True`.\n",
      "  warnings.warn(\n"
     ]
    }
   ],
   "source": [
    "# model_name = \"sentence-transformers/all-MiniLM-L6-v2\"\n",
    "model_name = \"sentence-transformers/paraphrase-multilingual-mpnet-base-v2\"\n",
    "model = SentenceTransformer(model_name)"
   ]
  },
  {
   "cell_type": "code",
   "execution_count": 6,
   "id": "82330426",
   "metadata": {},
   "outputs": [],
   "source": [
    "# generate embeddings\n",
    "embedding_arr = model.encode(df[\"Resume\"].to_list())\n",
    "\n",
    "# store embeddings in a dataframe\n",
    "schema_dict = {'Embedding-'+str(i): float for i in range(embedding_arr.shape[1])}\n",
    "df_embeddings = pl.DataFrame(embedding_arr, schema=schema_dict)\n",
    "\n",
    "# append embeddings to resumes df\n",
    "df = pl.concat([df, df_embeddings], how='horizontal')"
   ]
  },
  {
   "cell_type": "code",
   "execution_count": 7,
   "id": "d0b2cb15-c6b7-414c-bd66-1b8e8d991f38",
   "metadata": {},
   "outputs": [
    {
     "data": {
      "text/html": [
       "<div><style>\n",
       ".dataframe > thead > tr,\n",
       ".dataframe > tbody > tr {\n",
       "  text-align: right;\n",
       "  white-space: pre-wrap;\n",
       "}\n",
       "</style>\n",
       "<small>shape: (5, 771)</small><table border=\"1\" class=\"dataframe\"><thead><tr><th>Name</th><th>Resume</th><th>exp_level</th><th>Embedding-0</th><th>Embedding-1</th><th>Embedding-2</th><th>Embedding-3</th><th>Embedding-4</th><th>Embedding-5</th><th>Embedding-6</th><th>Embedding-7</th><th>Embedding-8</th><th>Embedding-9</th><th>Embedding-10</th><th>Embedding-11</th><th>Embedding-12</th><th>Embedding-13</th><th>Embedding-14</th><th>Embedding-15</th><th>Embedding-16</th><th>Embedding-17</th><th>Embedding-18</th><th>Embedding-19</th><th>Embedding-20</th><th>Embedding-21</th><th>Embedding-22</th><th>Embedding-23</th><th>Embedding-24</th><th>Embedding-25</th><th>Embedding-26</th><th>Embedding-27</th><th>Embedding-28</th><th>Embedding-29</th><th>Embedding-30</th><th>Embedding-31</th><th>Embedding-32</th><th>Embedding-33</th><th>&hellip;</th><th>Embedding-731</th><th>Embedding-732</th><th>Embedding-733</th><th>Embedding-734</th><th>Embedding-735</th><th>Embedding-736</th><th>Embedding-737</th><th>Embedding-738</th><th>Embedding-739</th><th>Embedding-740</th><th>Embedding-741</th><th>Embedding-742</th><th>Embedding-743</th><th>Embedding-744</th><th>Embedding-745</th><th>Embedding-746</th><th>Embedding-747</th><th>Embedding-748</th><th>Embedding-749</th><th>Embedding-750</th><th>Embedding-751</th><th>Embedding-752</th><th>Embedding-753</th><th>Embedding-754</th><th>Embedding-755</th><th>Embedding-756</th><th>Embedding-757</th><th>Embedding-758</th><th>Embedding-759</th><th>Embedding-760</th><th>Embedding-761</th><th>Embedding-762</th><th>Embedding-763</th><th>Embedding-764</th><th>Embedding-765</th><th>Embedding-766</th><th>Embedding-767</th></tr><tr><td>i64</td><td>str</td><td>i64</td><td>f64</td><td>f64</td><td>f64</td><td>f64</td><td>f64</td><td>f64</td><td>f64</td><td>f64</td><td>f64</td><td>f64</td><td>f64</td><td>f64</td><td>f64</td><td>f64</td><td>f64</td><td>f64</td><td>f64</td><td>f64</td><td>f64</td><td>f64</td><td>f64</td><td>f64</td><td>f64</td><td>f64</td><td>f64</td><td>f64</td><td>f64</td><td>f64</td><td>f64</td><td>f64</td><td>f64</td><td>f64</td><td>f64</td><td>f64</td><td>&hellip;</td><td>f64</td><td>f64</td><td>f64</td><td>f64</td><td>f64</td><td>f64</td><td>f64</td><td>f64</td><td>f64</td><td>f64</td><td>f64</td><td>f64</td><td>f64</td><td>f64</td><td>f64</td><td>f64</td><td>f64</td><td>f64</td><td>f64</td><td>f64</td><td>f64</td><td>f64</td><td>f64</td><td>f64</td><td>f64</td><td>f64</td><td>f64</td><td>f64</td><td>f64</td><td>f64</td><td>f64</td><td>f64</td><td>f64</td><td>f64</td><td>f64</td><td>f64</td><td>f64</td></tr></thead><tbody><tr><td>0</td><td>&quot;Data &amp; Analytics Leader\n",
       "Lubboc…</td><td>5</td><td>-0.145309</td><td>0.297774</td><td>-0.000305</td><td>0.012916</td><td>0.090752</td><td>-0.015084</td><td>-0.113963</td><td>-0.051909</td><td>0.000356</td><td>0.036491</td><td>0.084914</td><td>-0.024203</td><td>-0.00889</td><td>0.143781</td><td>-0.122697</td><td>-0.050741</td><td>-0.071565</td><td>-0.014304</td><td>0.002142</td><td>0.077232</td><td>0.072558</td><td>-0.084106</td><td>0.068583</td><td>-0.126012</td><td>0.00711</td><td>-0.022222</td><td>-0.093983</td><td>0.078837</td><td>0.078672</td><td>0.025793</td><td>0.028212</td><td>0.058342</td><td>0.004703</td><td>0.045366</td><td>&hellip;</td><td>-0.060133</td><td>0.340738</td><td>0.091177</td><td>-0.085834</td><td>-0.020368</td><td>0.203635</td><td>-0.115464</td><td>-0.053299</td><td>-0.0133</td><td>-0.005066</td><td>0.069525</td><td>0.151514</td><td>-0.068514</td><td>-0.015893</td><td>-0.071308</td><td>0.048105</td><td>0.009991</td><td>0.127171</td><td>0.006124</td><td>-0.027106</td><td>-0.08621</td><td>-0.109924</td><td>0.083972</td><td>-0.075978</td><td>0.039498</td><td>-0.096002</td><td>-0.050898</td><td>0.155162</td><td>0.09774</td><td>-0.004555</td><td>0.078997</td><td>-0.038528</td><td>0.100873</td><td>0.023524</td><td>0.102765</td><td>-0.057972</td><td>-0.032112</td></tr><tr><td>1</td><td>&quot;AI/ML Data Scientist | Passion…</td><td>5</td><td>-0.18058</td><td>0.266733</td><td>0.003029</td><td>-0.019758</td><td>0.139987</td><td>-0.014073</td><td>0.067242</td><td>-0.027488</td><td>0.192167</td><td>0.046374</td><td>0.017618</td><td>0.148419</td><td>0.053368</td><td>0.253952</td><td>-0.074314</td><td>-0.063605</td><td>-0.026669</td><td>0.10324</td><td>0.102313</td><td>0.042091</td><td>0.129558</td><td>-0.079425</td><td>0.072485</td><td>-0.038063</td><td>-0.126314</td><td>-0.104152</td><td>-0.037971</td><td>0.000461</td><td>0.025357</td><td>0.026016</td><td>0.065926</td><td>-0.104646</td><td>0.029816</td><td>0.050765</td><td>&hellip;</td><td>-0.046485</td><td>0.091016</td><td>0.090034</td><td>0.103039</td><td>-0.055804</td><td>-0.126557</td><td>-0.012091</td><td>-0.068539</td><td>-0.031265</td><td>-0.063245</td><td>0.110759</td><td>0.031252</td><td>-0.020652</td><td>-0.04162</td><td>-0.127778</td><td>0.047364</td><td>-0.111438</td><td>-0.070242</td><td>0.003464</td><td>-0.17552</td><td>-0.020314</td><td>-0.092564</td><td>0.13779</td><td>-0.004003</td><td>0.004403</td><td>-0.207595</td><td>-0.166176</td><td>0.032812</td><td>-0.020121</td><td>0.128239</td><td>-0.019487</td><td>-0.09244</td><td>-0.075839</td><td>0.041534</td><td>-0.013134</td><td>0.013094</td><td>-0.127653</td></tr><tr><td>2</td><td>&quot;AI | Machine Learning | Data S…</td><td>5</td><td>-0.134793</td><td>0.190827</td><td>0.003539</td><td>-0.029401</td><td>0.164353</td><td>0.004289</td><td>0.19708</td><td>-0.130383</td><td>0.17565</td><td>0.02623</td><td>0.061826</td><td>-0.061218</td><td>0.023536</td><td>0.354023</td><td>0.052247</td><td>-0.059917</td><td>-0.013633</td><td>-0.040548</td><td>-0.00207</td><td>0.048283</td><td>0.10905</td><td>-0.089975</td><td>0.044013</td><td>0.015057</td><td>-0.085836</td><td>-0.077551</td><td>-0.034109</td><td>-0.008148</td><td>0.061832</td><td>-0.010138</td><td>0.073756</td><td>-0.076712</td><td>0.106451</td><td>-0.058882</td><td>&hellip;</td><td>0.013235</td><td>0.164419</td><td>0.11071</td><td>0.103071</td><td>0.079208</td><td>-0.275036</td><td>-0.023325</td><td>-0.073866</td><td>0.000583</td><td>0.039853</td><td>0.119304</td><td>-0.055936</td><td>-0.029225</td><td>-0.050778</td><td>-0.051295</td><td>0.023356</td><td>-0.018853</td><td>0.136633</td><td>-0.016791</td><td>-0.170485</td><td>-0.006889</td><td>-0.173121</td><td>0.042028</td><td>-0.100252</td><td>-0.025195</td><td>-0.151706</td><td>-0.048992</td><td>0.026046</td><td>0.026691</td><td>0.165579</td><td>0.056522</td><td>-0.089286</td><td>0.004786</td><td>0.064061</td><td>0.031188</td><td>-0.065916</td><td>-0.060417</td></tr><tr><td>3</td><td>&quot;Staff Data Scientist | Gen-AI …</td><td>5</td><td>-0.092479</td><td>0.214494</td><td>0.001039</td><td>-0.074435</td><td>0.135741</td><td>0.006723</td><td>0.083083</td><td>-0.050211</td><td>0.215038</td><td>-0.008108</td><td>0.020558</td><td>0.087591</td><td>-0.065646</td><td>0.222953</td><td>-0.051499</td><td>0.017689</td><td>-0.093303</td><td>0.073354</td><td>-0.180645</td><td>0.062729</td><td>0.058208</td><td>-0.044257</td><td>0.084877</td><td>-0.030756</td><td>-0.096932</td><td>-0.108332</td><td>-0.012627</td><td>0.091054</td><td>0.099713</td><td>0.052615</td><td>0.010536</td><td>-0.079987</td><td>-0.044301</td><td>0.06629</td><td>&hellip;</td><td>-0.038721</td><td>0.19331</td><td>0.072767</td><td>0.216869</td><td>-0.046042</td><td>-0.146964</td><td>-0.110477</td><td>-0.042867</td><td>-0.041797</td><td>-0.021769</td><td>0.111559</td><td>0.059306</td><td>-0.084834</td><td>-0.020393</td><td>-0.141657</td><td>0.104711</td><td>0.010105</td><td>0.032513</td><td>-0.00887</td><td>-0.105544</td><td>0.039329</td><td>-0.05539</td><td>0.085662</td><td>0.050851</td><td>-0.048142</td><td>-0.166495</td><td>-0.058678</td><td>0.017174</td><td>0.042527</td><td>0.115724</td><td>0.028265</td><td>-0.070562</td><td>0.07337</td><td>0.055735</td><td>0.042163</td><td>0.043192</td><td>-0.071806</td></tr><tr><td>4</td><td>&quot;Principal Data Scientist @ Wal…</td><td>4</td><td>-0.103386</td><td>0.243209</td><td>0.006515</td><td>-0.041919</td><td>0.180505</td><td>0.02335</td><td>0.061281</td><td>-0.046345</td><td>0.181609</td><td>-0.028613</td><td>0.091647</td><td>-0.024719</td><td>-0.01575</td><td>0.274301</td><td>-0.059843</td><td>0.01471</td><td>0.013136</td><td>0.014584</td><td>-0.04748</td><td>0.065718</td><td>0.043272</td><td>-0.041704</td><td>0.067709</td><td>-0.054167</td><td>-0.112671</td><td>-0.115934</td><td>-0.076242</td><td>-0.016606</td><td>0.054981</td><td>0.02602</td><td>0.076148</td><td>-0.089251</td><td>0.07152</td><td>0.056113</td><td>&hellip;</td><td>-0.012516</td><td>0.060239</td><td>0.08834</td><td>-0.097451</td><td>-0.070028</td><td>-0.006287</td><td>0.014427</td><td>-0.055792</td><td>0.025938</td><td>-0.015007</td><td>0.122045</td><td>0.121847</td><td>-0.06916</td><td>-0.052547</td><td>-0.014747</td><td>0.147139</td><td>-0.072065</td><td>-0.110122</td><td>0.023633</td><td>-0.183421</td><td>0.026936</td><td>-0.124461</td><td>-0.005087</td><td>0.004262</td><td>0.040126</td><td>-0.171985</td><td>-0.032532</td><td>0.148718</td><td>0.155715</td><td>0.002663</td><td>-0.053827</td><td>-0.04091</td><td>0.009788</td><td>0.033336</td><td>0.068966</td><td>-0.017775</td><td>-0.111932</td></tr></tbody></table></div>"
      ],
      "text/plain": [
       "shape: (5, 771)\n",
       "┌──────┬────────────┬───────────┬────────────┬───┬────────────┬────────────┬───────────┬───────────┐\n",
       "│ Name ┆ Resume     ┆ exp_level ┆ Embedding- ┆ … ┆ Embedding- ┆ Embedding- ┆ Embedding ┆ Embedding │\n",
       "│ ---  ┆ ---        ┆ ---       ┆ 0          ┆   ┆ 764        ┆ 765        ┆ -766      ┆ -767      │\n",
       "│ i64  ┆ str        ┆ i64       ┆ ---        ┆   ┆ ---        ┆ ---        ┆ ---       ┆ ---       │\n",
       "│      ┆            ┆           ┆ f64        ┆   ┆ f64        ┆ f64        ┆ f64       ┆ f64       │\n",
       "╞══════╪════════════╪═══════════╪════════════╪═══╪════════════╪════════════╪═══════════╪═══════════╡\n",
       "│ 0    ┆ Data &     ┆ 5         ┆ -0.145309  ┆ … ┆ 0.023524   ┆ 0.102765   ┆ -0.057972 ┆ -0.032112 │\n",
       "│      ┆ Analytics  ┆           ┆            ┆   ┆            ┆            ┆           ┆           │\n",
       "│      ┆ Leader     ┆           ┆            ┆   ┆            ┆            ┆           ┆           │\n",
       "│      ┆ Lubboc…    ┆           ┆            ┆   ┆            ┆            ┆           ┆           │\n",
       "│ 1    ┆ AI/ML Data ┆ 5         ┆ -0.18058   ┆ … ┆ 0.041534   ┆ -0.013134  ┆ 0.013094  ┆ -0.127653 │\n",
       "│      ┆ Scientist  ┆           ┆            ┆   ┆            ┆            ┆           ┆           │\n",
       "│      ┆ | Passion… ┆           ┆            ┆   ┆            ┆            ┆           ┆           │\n",
       "│ 2    ┆ AI |       ┆ 5         ┆ -0.134793  ┆ … ┆ 0.064061   ┆ 0.031188   ┆ -0.065916 ┆ -0.060417 │\n",
       "│      ┆ Machine    ┆           ┆            ┆   ┆            ┆            ┆           ┆           │\n",
       "│      ┆ Learning | ┆           ┆            ┆   ┆            ┆            ┆           ┆           │\n",
       "│      ┆ Data S…    ┆           ┆            ┆   ┆            ┆            ┆           ┆           │\n",
       "│ 3    ┆ Staff Data ┆ 5         ┆ -0.092479  ┆ … ┆ 0.055735   ┆ 0.042163   ┆ 0.043192  ┆ -0.071806 │\n",
       "│      ┆ Scientist  ┆           ┆            ┆   ┆            ┆            ┆           ┆           │\n",
       "│      ┆ | Gen-AI … ┆           ┆            ┆   ┆            ┆            ┆           ┆           │\n",
       "│ 4    ┆ Principal  ┆ 4         ┆ -0.103386  ┆ … ┆ 0.033336   ┆ 0.068966   ┆ -0.017775 ┆ -0.111932 │\n",
       "│      ┆ Data       ┆           ┆            ┆   ┆            ┆            ┆           ┆           │\n",
       "│      ┆ Scientist  ┆           ┆            ┆   ┆            ┆            ┆           ┆           │\n",
       "│      ┆ @ Wal…     ┆           ┆            ┆   ┆            ┆            ┆           ┆           │\n",
       "└──────┴────────────┴───────────┴────────────┴───┴────────────┴────────────┴───────────┴───────────┘"
      ]
     },
     "execution_count": 7,
     "metadata": {},
     "output_type": "execute_result"
    }
   ],
   "source": [
    "df.head()"
   ]
  },
  {
   "cell_type": "code",
   "execution_count": 8,
   "id": "54c47f19",
   "metadata": {},
   "outputs": [],
   "source": [
    "# write data to file\n",
    "df.write_csv('data/resumes_augemented_structured.csv')"
   ]
  }
 ],
 "metadata": {
  "kernelspec": {
   "display_name": "Python 3 (ipykernel)",
   "language": "python",
   "name": "python3"
  },
  "language_info": {
   "codemirror_mode": {
    "name": "ipython",
    "version": 3
   },
   "file_extension": ".py",
   "mimetype": "text/x-python",
   "name": "python",
   "nbconvert_exporter": "python",
   "pygments_lexer": "ipython3",
   "version": "3.10.14"
  }
 },
 "nbformat": 4,
 "nbformat_minor": 5
}

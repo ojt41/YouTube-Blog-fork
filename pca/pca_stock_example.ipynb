{
 "cells": [
  {
   "cell_type": "markdown",
   "metadata": {},
   "source": [
    "# PCA Example: Creating an S&P 500 Index Fund"
   ]
  },
  {
   "cell_type": "markdown",
   "metadata": {},
   "source": [
    "#### Code Authored By: Shawhin Talebi"
   ]
  },
  {
   "cell_type": "markdown",
   "metadata": {},
   "source": [
    "## Import Modules"
   ]
  },
  {
   "cell_type": "code",
   "execution_count": 1,
   "metadata": {},
   "outputs": [],
   "source": [
    "# import module to pull stock data from yahoo finance\n",
    "import yfinance as yf\n",
    "\n",
    "# import pandas and numpy\n",
    "import pandas as pd\n",
    "import numpy as np"
   ]
  },
  {
   "cell_type": "markdown",
   "metadata": {},
   "source": [
    "## Import Data"
   ]
  },
  {
   "cell_type": "markdown",
   "metadata": {},
   "source": [
    "#### Get Ticker Names"
   ]
  },
  {
   "cell_type": "markdown",
   "metadata": {},
   "source": [
    "Code adopted from: https://medium.com/wealthy-bytes/5-lines-of-python-to-automate-getting-the-s-p-500-95a632e5e567 by Graham Guthrie"
   ]
  },
  {
   "cell_type": "code",
   "execution_count": 2,
   "metadata": {},
   "outputs": [
    {
     "name": "stdout",
     "output_type": "stream",
     "text": [
      "MMM ABT ABBV ABMD ACN ATVI ADBE AMD AAP AES AFL A APD AKAM ALK ALB ARE ALXN ALGN ALLE LNT ALL GOOGL GOOG MO AMZN AMCR AEE AAL AEP AXP AIG AMT AWK AMP ABC AME AMGN APH ADI ANSS ANTM AON AOS APA AAPL AMAT APTV ADM ANET AJG AIZ T ATO ADSK ADP AZO AVB AVY BKR BLL BAC BK BAX BDX BRK.B BBY BIO BIIB BLK BA BKNG BWA BXP BSX BMY AVGO BR BF.B CHRW COG CDNS CPB COF CAH KMX CCL CARR CTLT CAT CBOE CBRE CDW CE CNC CNP CERN CF SCHW CHTR CVX CMG CB CHD CI CINF CTAS CSCO C CFG CTXS CLX CME CMS KO CTSH CL CMCSA CMA CAG CXO COP ED STZ COO CPRT GLW CTVA COST CCI CSX CMI CVS DHI DHR DRI DVA DE DAL XRAY DVN DXCM FANG DLR DFS DISCA DISCK DISH DG DLTR D DPZ DOV DOW DTE DUK DRE DD DXC EMN ETN EBAY ECL EIX EW EA EMR ENPH ETR EOG EFX EQIX EQR ESS EL ETSY EVRG ES RE EXC EXPE EXPD EXR XOM FFIV FB FAST FRT FDX FIS FITB FE FRC FISV FLT FLIR FLS FMC F FTNT FTV FBHS FOXA FOX BEN FCX GPS GRMN IT GD GE GIS GM GPC GILD GL GPN GS GWW HAL HBI HIG HAS HCA PEAK HSIC HSY HES HPE HLT HFC HOLX HD HON HRL HST HWM HPQ HUM HBAN HII IEX IDXX INFO ITW ILMN INCY IR INTC ICE IBM IP IPG IFF INTU ISRG IVZ IPGP IQV IRM JKHY J JBHT SJM JNJ JCI JPM JNPR KSU K KEY KEYS KMB KIM KMI KLAC KHC KR LB LHX LH LRCX LW LVS LEG LDOS LEN LLY LNC LIN LYV LKQ LMT L LOW LUMN LYB MTB MRO MPC MKTX MAR MMC MLM MAS MA MKC MXIM MCD MCK MDT MRK MET MTD MGM MCHP MU MSFT MAA MHK TAP MDLZ MNST MCO MS MOS MSI MSCI NDAQ NTAP NFLX NWL NEM NWSA NWS NEE NLSN NKE NI NSC NTRS NOC NLOK NCLH NOV NRG NUE NVDA NVR ORLY OXY ODFL OMC OKE ORCL OTIS PCAR PKG PH PAYX PAYC PYPL PNR PBCT PEP PKI PRGO PFE PM PSX PNW PXD PNC POOL PPG PPL PFG PG PGR PLD PRU PEG PSA PHM PVH QRVO PWR QCOM DGX RL RJF RTX O REG REGN RF RSG RMD RHI ROK ROL ROP ROST RCL SPGI CRM SBAC SLB STX SEE SRE NOW SHW SPG SWKS SLG SNA SO LUV SWK SBUX STT STE SYK SIVB SYF SNPS SYY TMUS TROW TTWO TPR TGT TEL FTI TDY TFX TER TSLA TXN TXT TMO TJX TSCO TT TDG TRV TFC TWTR TYL TSN UDR ULTA USB UAA UA UNP UAL UNH UPS URI UHS UNM VLO VAR VTR VRSN VRSK VZ VRTX VFC VIAC VTRS V VNT VNO VMC WRB WAB WMT WBA DIS WM WAT WEC WFC WELL WST WDC WU WRK WY WHR WMB WLTW WYNN XEL XRX XLNX XYL YUM ZBRA ZBH ZION ZTS\n"
     ]
    }
   ],
   "source": [
    "# define function to get list of S&P 500 names\n",
    "def getSP500():\n",
    "    # get table of S&P 500 stocks\n",
    "    table = pd.read_html('https://en.wikipedia.org/wiki/List_of_S%26P_500_companies')\n",
    "\n",
    "    # get dataframe\n",
    "    df_sp500 = table[0]\n",
    "\n",
    "    # get string of ticker names\n",
    "    ticker_names = str(df_sp500['Symbol'].to_list()).replace(\"'\", \"\").replace(\"[\", \"\").replace(\"]\", \"\").replace(\",\", \"\")#.replace(\"BRK.B\", \"\").replace(\"BF.B\", \"\").replace(\"LUMN\", \"\")\n",
    "\n",
    "    return ticker_names\n",
    "\n",
    "ticker_names = getSP500()\n",
    "print(ticker_names)"
   ]
  },
  {
   "cell_type": "markdown",
   "metadata": {},
   "source": [
    "#### Pull S&P 500 for 2020"
   ]
  },
  {
   "cell_type": "code",
   "execution_count": 3,
   "metadata": {},
   "outputs": [
    {
     "name": "stdout",
     "output_type": "stream",
     "text": [
      "[*********************100%***********************]  505 of 505 completed\n",
      "\n",
      "2 Failed downloads:\n",
      "- BRK.B: No data found, symbol may be delisted\n",
      "- BF.B: No data found for this date range, symbol may be delisted\n"
     ]
    }
   ],
   "source": [
    "# pull historical data\n",
    "data = yf.download(ticker_names, start=\"2020-01-01\", end=\"2021-01-01\")"
   ]
  },
  {
   "cell_type": "markdown",
   "metadata": {},
   "source": [
    "#### Drop nans and get final ticker names "
   ]
  },
  {
   "cell_type": "code",
   "execution_count": 4,
   "metadata": {},
   "outputs": [
    {
     "data": {
      "text/html": [
       "<div>\n",
       "<style scoped>\n",
       "    .dataframe tbody tr th:only-of-type {\n",
       "        vertical-align: middle;\n",
       "    }\n",
       "\n",
       "    .dataframe tbody tr th {\n",
       "        vertical-align: top;\n",
       "    }\n",
       "\n",
       "    .dataframe thead th {\n",
       "        text-align: right;\n",
       "    }\n",
       "</style>\n",
       "<table border=\"1\" class=\"dataframe\">\n",
       "  <thead>\n",
       "    <tr style=\"text-align: right;\">\n",
       "      <th></th>\n",
       "      <th>A</th>\n",
       "      <th>AAL</th>\n",
       "      <th>AAP</th>\n",
       "      <th>AAPL</th>\n",
       "      <th>ABBV</th>\n",
       "      <th>ABC</th>\n",
       "      <th>ABMD</th>\n",
       "      <th>ABT</th>\n",
       "      <th>ACN</th>\n",
       "      <th>ADBE</th>\n",
       "      <th>...</th>\n",
       "      <th>XLNX</th>\n",
       "      <th>XOM</th>\n",
       "      <th>XRAY</th>\n",
       "      <th>XRX</th>\n",
       "      <th>XYL</th>\n",
       "      <th>YUM</th>\n",
       "      <th>ZBH</th>\n",
       "      <th>ZBRA</th>\n",
       "      <th>ZION</th>\n",
       "      <th>ZTS</th>\n",
       "    </tr>\n",
       "    <tr>\n",
       "      <th>Date</th>\n",
       "      <th></th>\n",
       "      <th></th>\n",
       "      <th></th>\n",
       "      <th></th>\n",
       "      <th></th>\n",
       "      <th></th>\n",
       "      <th></th>\n",
       "      <th></th>\n",
       "      <th></th>\n",
       "      <th></th>\n",
       "      <th></th>\n",
       "      <th></th>\n",
       "      <th></th>\n",
       "      <th></th>\n",
       "      <th></th>\n",
       "      <th></th>\n",
       "      <th></th>\n",
       "      <th></th>\n",
       "      <th></th>\n",
       "      <th></th>\n",
       "      <th></th>\n",
       "    </tr>\n",
       "  </thead>\n",
       "  <tbody>\n",
       "    <tr>\n",
       "      <th>2020-01-02</th>\n",
       "      <td>85.258377</td>\n",
       "      <td>28.982893</td>\n",
       "      <td>157.909729</td>\n",
       "      <td>74.444603</td>\n",
       "      <td>83.871666</td>\n",
       "      <td>83.590858</td>\n",
       "      <td>168.809998</td>\n",
       "      <td>85.256981</td>\n",
       "      <td>206.125336</td>\n",
       "      <td>334.429993</td>\n",
       "      <td>...</td>\n",
       "      <td>100.115349</td>\n",
       "      <td>65.656494</td>\n",
       "      <td>56.393299</td>\n",
       "      <td>34.986931</td>\n",
       "      <td>78.807625</td>\n",
       "      <td>100.241150</td>\n",
       "      <td>148.020065</td>\n",
       "      <td>259.140015</td>\n",
       "      <td>50.530182</td>\n",
       "      <td>133.169510</td>\n",
       "    </tr>\n",
       "    <tr>\n",
       "      <th>2020-01-03</th>\n",
       "      <td>83.889473</td>\n",
       "      <td>27.548195</td>\n",
       "      <td>157.919632</td>\n",
       "      <td>73.720840</td>\n",
       "      <td>83.075554</td>\n",
       "      <td>82.539597</td>\n",
       "      <td>166.820007</td>\n",
       "      <td>84.217628</td>\n",
       "      <td>205.782028</td>\n",
       "      <td>331.809998</td>\n",
       "      <td>...</td>\n",
       "      <td>97.810677</td>\n",
       "      <td>65.128654</td>\n",
       "      <td>55.769238</td>\n",
       "      <td>34.532185</td>\n",
       "      <td>79.271484</td>\n",
       "      <td>99.927193</td>\n",
       "      <td>147.633148</td>\n",
       "      <td>256.049988</td>\n",
       "      <td>49.817135</td>\n",
       "      <td>133.189362</td>\n",
       "    </tr>\n",
       "    <tr>\n",
       "      <th>2020-01-06</th>\n",
       "      <td>84.137466</td>\n",
       "      <td>27.219410</td>\n",
       "      <td>155.324310</td>\n",
       "      <td>74.308266</td>\n",
       "      <td>83.731171</td>\n",
       "      <td>83.748055</td>\n",
       "      <td>179.039993</td>\n",
       "      <td>84.658859</td>\n",
       "      <td>204.438293</td>\n",
       "      <td>333.709991</td>\n",
       "      <td>...</td>\n",
       "      <td>95.771927</td>\n",
       "      <td>65.628716</td>\n",
       "      <td>56.076317</td>\n",
       "      <td>34.011127</td>\n",
       "      <td>78.758286</td>\n",
       "      <td>99.868332</td>\n",
       "      <td>146.779953</td>\n",
       "      <td>258.010010</td>\n",
       "      <td>49.210079</td>\n",
       "      <td>132.166824</td>\n",
       "    </tr>\n",
       "    <tr>\n",
       "      <th>2020-01-07</th>\n",
       "      <td>84.395378</td>\n",
       "      <td>27.119778</td>\n",
       "      <td>153.481827</td>\n",
       "      <td>73.958794</td>\n",
       "      <td>83.253510</td>\n",
       "      <td>83.148727</td>\n",
       "      <td>180.350006</td>\n",
       "      <td>84.188210</td>\n",
       "      <td>200.024429</td>\n",
       "      <td>333.390015</td>\n",
       "      <td>...</td>\n",
       "      <td>97.958405</td>\n",
       "      <td>65.091606</td>\n",
       "      <td>56.373489</td>\n",
       "      <td>34.058491</td>\n",
       "      <td>78.462196</td>\n",
       "      <td>100.044937</td>\n",
       "      <td>146.650970</td>\n",
       "      <td>256.470001</td>\n",
       "      <td>48.911369</td>\n",
       "      <td>132.613556</td>\n",
       "    </tr>\n",
       "    <tr>\n",
       "      <th>2020-01-08</th>\n",
       "      <td>85.228615</td>\n",
       "      <td>27.737495</td>\n",
       "      <td>151.718567</td>\n",
       "      <td>75.148521</td>\n",
       "      <td>83.843567</td>\n",
       "      <td>83.954369</td>\n",
       "      <td>178.690002</td>\n",
       "      <td>84.531395</td>\n",
       "      <td>200.416824</td>\n",
       "      <td>337.869995</td>\n",
       "      <td>...</td>\n",
       "      <td>97.682640</td>\n",
       "      <td>64.110008</td>\n",
       "      <td>56.967831</td>\n",
       "      <td>34.039543</td>\n",
       "      <td>78.728661</td>\n",
       "      <td>100.221542</td>\n",
       "      <td>148.406982</td>\n",
       "      <td>247.639999</td>\n",
       "      <td>49.393154</td>\n",
       "      <td>132.325638</td>\n",
       "    </tr>\n",
       "    <tr>\n",
       "      <th>...</th>\n",
       "      <td>...</td>\n",
       "      <td>...</td>\n",
       "      <td>...</td>\n",
       "      <td>...</td>\n",
       "      <td>...</td>\n",
       "      <td>...</td>\n",
       "      <td>...</td>\n",
       "      <td>...</td>\n",
       "      <td>...</td>\n",
       "      <td>...</td>\n",
       "      <td>...</td>\n",
       "      <td>...</td>\n",
       "      <td>...</td>\n",
       "      <td>...</td>\n",
       "      <td>...</td>\n",
       "      <td>...</td>\n",
       "      <td>...</td>\n",
       "      <td>...</td>\n",
       "      <td>...</td>\n",
       "      <td>...</td>\n",
       "      <td>...</td>\n",
       "    </tr>\n",
       "    <tr>\n",
       "      <th>2020-12-24</th>\n",
       "      <td>117.117928</td>\n",
       "      <td>15.660000</td>\n",
       "      <td>160.679993</td>\n",
       "      <td>131.970001</td>\n",
       "      <td>102.066246</td>\n",
       "      <td>96.970001</td>\n",
       "      <td>303.410004</td>\n",
       "      <td>107.915245</td>\n",
       "      <td>256.423737</td>\n",
       "      <td>499.859985</td>\n",
       "      <td>...</td>\n",
       "      <td>141.990005</td>\n",
       "      <td>41.599998</td>\n",
       "      <td>51.820000</td>\n",
       "      <td>22.333601</td>\n",
       "      <td>100.250000</td>\n",
       "      <td>107.540001</td>\n",
       "      <td>149.250000</td>\n",
       "      <td>376.890015</td>\n",
       "      <td>43.340000</td>\n",
       "      <td>160.471298</td>\n",
       "    </tr>\n",
       "    <tr>\n",
       "      <th>2020-12-28</th>\n",
       "      <td>117.637077</td>\n",
       "      <td>16.059999</td>\n",
       "      <td>158.800003</td>\n",
       "      <td>136.690002</td>\n",
       "      <td>102.254044</td>\n",
       "      <td>96.800003</td>\n",
       "      <td>312.910004</td>\n",
       "      <td>107.357498</td>\n",
       "      <td>258.795624</td>\n",
       "      <td>498.950012</td>\n",
       "      <td>...</td>\n",
       "      <td>141.520004</td>\n",
       "      <td>41.740002</td>\n",
       "      <td>52.310001</td>\n",
       "      <td>23.025963</td>\n",
       "      <td>100.370003</td>\n",
       "      <td>109.779999</td>\n",
       "      <td>148.889999</td>\n",
       "      <td>382.589996</td>\n",
       "      <td>43.360001</td>\n",
       "      <td>162.138718</td>\n",
       "    </tr>\n",
       "    <tr>\n",
       "      <th>2020-12-29</th>\n",
       "      <td>117.038063</td>\n",
       "      <td>15.860000</td>\n",
       "      <td>156.690002</td>\n",
       "      <td>134.869995</td>\n",
       "      <td>103.489594</td>\n",
       "      <td>97.120003</td>\n",
       "      <td>320.929993</td>\n",
       "      <td>107.895332</td>\n",
       "      <td>256.882202</td>\n",
       "      <td>502.109985</td>\n",
       "      <td>...</td>\n",
       "      <td>139.899994</td>\n",
       "      <td>41.270000</td>\n",
       "      <td>51.250000</td>\n",
       "      <td>22.660000</td>\n",
       "      <td>99.510002</td>\n",
       "      <td>109.449997</td>\n",
       "      <td>152.449997</td>\n",
       "      <td>378.040009</td>\n",
       "      <td>42.770000</td>\n",
       "      <td>162.867584</td>\n",
       "    </tr>\n",
       "    <tr>\n",
       "      <th>2020-12-30</th>\n",
       "      <td>117.197800</td>\n",
       "      <td>16.150000</td>\n",
       "      <td>157.660004</td>\n",
       "      <td>133.720001</td>\n",
       "      <td>104.053001</td>\n",
       "      <td>96.959999</td>\n",
       "      <td>323.920013</td>\n",
       "      <td>108.004890</td>\n",
       "      <td>256.662933</td>\n",
       "      <td>497.450012</td>\n",
       "      <td>...</td>\n",
       "      <td>142.100006</td>\n",
       "      <td>41.599998</td>\n",
       "      <td>51.459999</td>\n",
       "      <td>22.889999</td>\n",
       "      <td>100.779999</td>\n",
       "      <td>109.510002</td>\n",
       "      <td>152.220001</td>\n",
       "      <td>383.750000</td>\n",
       "      <td>43.220001</td>\n",
       "      <td>164.015808</td>\n",
       "    </tr>\n",
       "    <tr>\n",
       "      <th>2020-12-31</th>\n",
       "      <td>118.295998</td>\n",
       "      <td>15.770000</td>\n",
       "      <td>157.509995</td>\n",
       "      <td>132.690002</td>\n",
       "      <td>105.911278</td>\n",
       "      <td>97.760002</td>\n",
       "      <td>324.200012</td>\n",
       "      <td>109.050674</td>\n",
       "      <td>260.320435</td>\n",
       "      <td>500.119995</td>\n",
       "      <td>...</td>\n",
       "      <td>141.770004</td>\n",
       "      <td>41.220001</td>\n",
       "      <td>52.360001</td>\n",
       "      <td>23.190001</td>\n",
       "      <td>101.790001</td>\n",
       "      <td>108.559998</td>\n",
       "      <td>154.089996</td>\n",
       "      <td>384.329987</td>\n",
       "      <td>43.439999</td>\n",
       "      <td>165.243912</td>\n",
       "    </tr>\n",
       "  </tbody>\n",
       "</table>\n",
       "<p>253 rows × 499 columns</p>\n",
       "</div>"
      ],
      "text/plain": [
       "                     A        AAL         AAP        AAPL        ABBV  \\\n",
       "Date                                                                    \n",
       "2020-01-02   85.258377  28.982893  157.909729   74.444603   83.871666   \n",
       "2020-01-03   83.889473  27.548195  157.919632   73.720840   83.075554   \n",
       "2020-01-06   84.137466  27.219410  155.324310   74.308266   83.731171   \n",
       "2020-01-07   84.395378  27.119778  153.481827   73.958794   83.253510   \n",
       "2020-01-08   85.228615  27.737495  151.718567   75.148521   83.843567   \n",
       "...                ...        ...         ...         ...         ...   \n",
       "2020-12-24  117.117928  15.660000  160.679993  131.970001  102.066246   \n",
       "2020-12-28  117.637077  16.059999  158.800003  136.690002  102.254044   \n",
       "2020-12-29  117.038063  15.860000  156.690002  134.869995  103.489594   \n",
       "2020-12-30  117.197800  16.150000  157.660004  133.720001  104.053001   \n",
       "2020-12-31  118.295998  15.770000  157.509995  132.690002  105.911278   \n",
       "\n",
       "                  ABC        ABMD         ABT         ACN        ADBE  ...  \\\n",
       "Date                                                                   ...   \n",
       "2020-01-02  83.590858  168.809998   85.256981  206.125336  334.429993  ...   \n",
       "2020-01-03  82.539597  166.820007   84.217628  205.782028  331.809998  ...   \n",
       "2020-01-06  83.748055  179.039993   84.658859  204.438293  333.709991  ...   \n",
       "2020-01-07  83.148727  180.350006   84.188210  200.024429  333.390015  ...   \n",
       "2020-01-08  83.954369  178.690002   84.531395  200.416824  337.869995  ...   \n",
       "...               ...         ...         ...         ...         ...  ...   \n",
       "2020-12-24  96.970001  303.410004  107.915245  256.423737  499.859985  ...   \n",
       "2020-12-28  96.800003  312.910004  107.357498  258.795624  498.950012  ...   \n",
       "2020-12-29  97.120003  320.929993  107.895332  256.882202  502.109985  ...   \n",
       "2020-12-30  96.959999  323.920013  108.004890  256.662933  497.450012  ...   \n",
       "2020-12-31  97.760002  324.200012  109.050674  260.320435  500.119995  ...   \n",
       "\n",
       "                  XLNX        XOM       XRAY        XRX         XYL  \\\n",
       "Date                                                                  \n",
       "2020-01-02  100.115349  65.656494  56.393299  34.986931   78.807625   \n",
       "2020-01-03   97.810677  65.128654  55.769238  34.532185   79.271484   \n",
       "2020-01-06   95.771927  65.628716  56.076317  34.011127   78.758286   \n",
       "2020-01-07   97.958405  65.091606  56.373489  34.058491   78.462196   \n",
       "2020-01-08   97.682640  64.110008  56.967831  34.039543   78.728661   \n",
       "...                ...        ...        ...        ...         ...   \n",
       "2020-12-24  141.990005  41.599998  51.820000  22.333601  100.250000   \n",
       "2020-12-28  141.520004  41.740002  52.310001  23.025963  100.370003   \n",
       "2020-12-29  139.899994  41.270000  51.250000  22.660000   99.510002   \n",
       "2020-12-30  142.100006  41.599998  51.459999  22.889999  100.779999   \n",
       "2020-12-31  141.770004  41.220001  52.360001  23.190001  101.790001   \n",
       "\n",
       "                   YUM         ZBH        ZBRA       ZION         ZTS  \n",
       "Date                                                                   \n",
       "2020-01-02  100.241150  148.020065  259.140015  50.530182  133.169510  \n",
       "2020-01-03   99.927193  147.633148  256.049988  49.817135  133.189362  \n",
       "2020-01-06   99.868332  146.779953  258.010010  49.210079  132.166824  \n",
       "2020-01-07  100.044937  146.650970  256.470001  48.911369  132.613556  \n",
       "2020-01-08  100.221542  148.406982  247.639999  49.393154  132.325638  \n",
       "...                ...         ...         ...        ...         ...  \n",
       "2020-12-24  107.540001  149.250000  376.890015  43.340000  160.471298  \n",
       "2020-12-28  109.779999  148.889999  382.589996  43.360001  162.138718  \n",
       "2020-12-29  109.449997  152.449997  378.040009  42.770000  162.867584  \n",
       "2020-12-30  109.510002  152.220001  383.750000  43.220001  164.015808  \n",
       "2020-12-31  108.559998  154.089996  384.329987  43.439999  165.243912  \n",
       "\n",
       "[253 rows x 499 columns]"
      ]
     },
     "execution_count": 4,
     "metadata": {},
     "output_type": "execute_result"
    }
   ],
   "source": [
    "# get daily close prices and drop missing columns\n",
    "df_close = data['Adj Close'].dropna(axis='columns')\n",
    "\n",
    "# define list of column names\n",
    "col_names = df_close.columns.to_list()\n",
    "\n",
    "# display pandas dataframe of close prices\n",
    "df_close"
   ]
  },
  {
   "cell_type": "markdown",
   "metadata": {},
   "source": [
    "## PCA"
   ]
  },
  {
   "cell_type": "code",
   "execution_count": 27,
   "metadata": {},
   "outputs": [
    {
     "name": "stdout",
     "output_type": "stream",
     "text": [
      "Explained Variance of Each Component:\n",
      "[0.53754434 0.27810403 0.05623329 0.03195985 0.01913985 0.01204898\n",
      " 0.00877862 0.00817426 0.0054346  0.00429227]\n"
     ]
    }
   ],
   "source": [
    "# import PCA function from sklearn\n",
    "from sklearn.decomposition import PCA\n",
    "from sklearn import preprocessing\n",
    "\n",
    "# convert dataframe to numpy array\n",
    "X = df_close.to_numpy()\n",
    "# substract mean from each column and divide by its standard deviation\n",
    "# NOTE: this is a good thing whenever doing PCA. Transforms 0 from an absence of signal to the average of a signal\n",
    "X = preprocessing.StandardScaler().fit_transform(X)\n",
    "\n",
    "# intitialize pca with 2 components\n",
    "pca = PCA(n_components=10)\n",
    "# perform pca on S&P 500 close prices over the year 2020\n",
    "X_pca = pca.fit_transform(X)\n",
    "\n",
    "# print explained variance\n",
    "print(\"Explained Variance of Each Component:\")\n",
    "print(pca.explained_variance_ratio_)"
   ]
  },
  {
   "cell_type": "markdown",
   "metadata": {},
   "source": [
    "#### Create Index Fund of S&P500 using principle component weights"
   ]
  },
  {
   "cell_type": "code",
   "execution_count": 39,
   "metadata": {},
   "outputs": [],
   "source": [
    "# get sum of weights for first 3 principle components\n",
    "stock_weights_pca = pca.components_[0,:] + pca.components_[1,:] + pca.components_[2,:]\n",
    "# define number of stocks to include in index fund\n",
    "top_n = 61\n",
    "\n",
    "# get boolean array of top n elements \n",
    "bool_top_stocks = abs(stock_weights_pca) > np.sort(abs(stock_weights_pca))[len(stock_weights_pca)-top_n]\n",
    "\n",
    "# create data structures with weights and ticker names that define index fund\n",
    "index_fund_weights = (stock_weights_pca[bool_top_stocks])\n",
    "index_fund_tickers = df_close.columns[bool_top_stocks]"
   ]
  },
  {
   "cell_type": "markdown",
   "metadata": {},
   "source": [
    "#### Bar plot visualizing index fund holdings"
   ]
  },
  {
   "cell_type": "code",
   "execution_count": 40,
   "metadata": {},
   "outputs": [
    {
     "data": {
      "text/plain": [
       "<function matplotlib.pyplot.show(close=None, block=None)>"
      ]
     },
     "execution_count": 40,
     "metadata": {},
     "output_type": "execute_result"
    },
    {
     "data": {
      "image/png": "[encoded data removed]",
      "text/plain": [
       "<Figure size 1728x432 with 1 Axes>"
      ]
     },
     "metadata": {
      "needs_background": "light"
     },
     "output_type": "display_data"
    }
   ],
   "source": [
    "import matplotlib.pyplot as plt\n",
    "\n",
    "# create figure\n",
    "plt.figure(num=None, figsize=(24, 6))\n",
    "\n",
    "plt.bar(np.arange(len(index_fund_weights)), index_fund_weights/np.max((index_fund_weights)), color = 'c', edgecolor = 'k')\n",
    "plt.title(\"Relative Stock Weights in Index Fund\", fontsize=16)\n",
    "plt.xticks(np.arange(len(index_fund_weights)), index_fund_tickers, rotation=90)\n",
    "plt.xlabel('Stock Ticker Names', fontsize=12)\n",
    "plt.ylabel('Relative Weight', fontsize=12)\n",
    "plt.show"
   ]
  },
  {
   "cell_type": "markdown",
   "metadata": {},
   "source": [
    "#### Compare S&P 500 to Index Fund"
   ]
  },
  {
   "cell_type": "code",
   "execution_count": 41,
   "metadata": {},
   "outputs": [
    {
     "data": {
      "image/png": "[encoded data removed]",
      "text/plain": [
       "<Figure size 1728x432 with 2 Axes>"
      ]
     },
     "metadata": {
      "needs_background": "light"
     },
     "output_type": "display_data"
    }
   ],
   "source": [
    "# create figure\n",
    "plt.figure(num=None, figsize=(24, 6))\n",
    "\n",
    "# plot S&P 500 over time\n",
    "plt.subplot(2, 1, 1)\n",
    "plt.plot(np.sum(df_close, axis=1))\n",
    "plt.title(\"S&P 500 (2020)\", fontsize=16)\n",
    "\n",
    "# plot index fund over time\n",
    "plt.subplot(2, 1, 2)\n",
    "plt.plot(-1*np.sum(index_fund_weights * df_close.iloc[:,bool_top_stocks], axis=1))\n",
    "plt.title(\"PCA Derived Index Fund (2020)\", fontsize=16)\n",
    "\n",
    "# add space between plots\n",
    "plt.subplots_adjust(hspace = 0.5 )"
   ]
  },
  {
   "cell_type": "markdown",
   "metadata": {},
   "source": [
    "### Percent Return"
   ]
  },
  {
   "cell_type": "code",
   "execution_count": 42,
   "metadata": {},
   "outputs": [
    {
     "name": "stdout",
     "output_type": "stream",
     "text": [
      "Percent return of S&P 500:\n",
      "0.2021888010540478\n"
     ]
    }
   ],
   "source": [
    "# actual percent return of S&P500 \n",
    "actual_percent_return = np.sum((df_close.iloc[len(df_close)-1,:] - df_close.iloc[0,:]))/np.sum((df_close.iloc[0,:]))\n",
    "\n",
    "print('Percent return of S&P 500:')\n",
    "print(actual_percent_return)"
   ]
  },
  {
   "cell_type": "code",
   "execution_count": 43,
   "metadata": {},
   "outputs": [
    {
     "name": "stdout",
     "output_type": "stream",
     "text": [
      "Percent return of PCA derived index fund:\n",
      "0.25365461295976527\n"
     ]
    }
   ],
   "source": [
    "# percent return of S&P500 index fund defined by principal component 1\n",
    "top_stocks_pc1_percent_return = np.sum(index_fund_weights * (df_close.iloc[len(df_close)-1,bool_top_stocks] - df_close.iloc[0,bool_top_stocks]))/np.sum(index_fund_weights * (df_close.iloc[0,bool_top_stocks]))\n",
    "\n",
    "print('Percent return of PCA derived index fund:')\n",
    "print(top_stocks_pc1_percent_return)"
   ]
  }
 ],
 "metadata": {
  "kernelspec": {
   "display_name": "Python 3",
   "language": "python",
   "name": "python3"
  },
  "language_info": {
   "codemirror_mode": {
    "name": "ipython",
    "version": 3
   },
   "file_extension": ".py",
   "mimetype": "text/x-python",
   "name": "python",
   "nbconvert_exporter": "python",
   "pygments_lexer": "ipython3",
   "version": "3.7.4"
  }
 },
 "nbformat": 4,
 "nbformat_minor": 4
}

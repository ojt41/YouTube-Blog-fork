{
 "cells": [
  {
   "cell_type": "markdown",
   "id": "a85af4e3-3838-4d87-a548-fae794f741ed",
   "metadata": {},
   "source": [
    "# Semantic Search Function\n",
    "\n",
    "Code authored by: Shaw Talebi <br>\n",
    "\n",
    "Video link: https://youtu.be/6qCrvlHRhcM"
   ]
  },
  {
   "cell_type": "markdown",
   "id": "0b637243-4817-4d5a-88dd-8a1d9bc1cfac",
   "metadata": {},
   "source": [
    "### imports"
   ]
  },
  {
   "cell_type": "code",
   "execution_count": 1,
   "id": "8d26fd0b-08bf-4fea-80ab-415d8c9d2e13",
   "metadata": {},
   "outputs": [
    {
     "name": "stdout",
     "output_type": "stream",
     "text": [
      "Intel MKL WARNING: Support of Intel(R) Streaming SIMD Extensions 4.2 (Intel(R) SSE4.2) enabled only processors has been deprecated. Intel oneAPI Math Kernel Library 2025.0 will require Intel(R) Advanced Vector Extensions (Intel(R) AVX) instructions.\n",
      "Intel MKL WARNING: Support of Intel(R) Streaming SIMD Extensions 4.2 (Intel(R) SSE4.2) enabled only processors has been deprecated. Intel oneAPI Math Kernel Library 2025.0 will require Intel(R) Advanced Vector Extensions (Intel(R) AVX) instructions.\n"
     ]
    }
   ],
   "source": [
    "import polars as pl\n",
    "from sentence_transformers import SentenceTransformer\n",
    "from sklearn.metrics import DistanceMetric\n",
    "import numpy as np\n",
    "import gradio as gr"
   ]
  },
  {
   "cell_type": "markdown",
   "id": "02c8ca0e-f22b-4536-9193-cd0956f5b340",
   "metadata": {},
   "source": [
    "### load data, model, and metric"
   ]
  },
  {
   "cell_type": "code",
   "execution_count": 2,
   "id": "c95c5e2a-f8fb-4e6c-90e2-d2cc1b47e989",
   "metadata": {},
   "outputs": [
    {
     "name": "stdout",
     "output_type": "stream",
     "text": [
      "CPU times: user 2.58 ms, sys: 2.3 ms, total: 4.88 ms\n",
      "Wall time: 5.9 ms\n"
     ]
    }
   ],
   "source": [
    "%time df = pl.scan_parquet('data/video-index.parquet')"
   ]
  },
  {
   "cell_type": "code",
   "execution_count": 3,
   "id": "93111b80-9f3c-4964-82ff-a108269cbb8c",
   "metadata": {},
   "outputs": [
    {
     "name": "stdout",
     "output_type": "stream",
     "text": [
      "CPU times: user 658 ms, sys: 505 ms, total: 1.16 s\n",
      "Wall time: 1.71 s\n"
     ]
    }
   ],
   "source": [
    "model_name = 'all-MiniLM-L6-v2'\n",
    "%time model = SentenceTransformer(model_name)"
   ]
  },
  {
   "cell_type": "code",
   "execution_count": 4,
   "id": "3238c069-e03a-4512-9473-549682998103",
   "metadata": {},
   "outputs": [
    {
     "name": "stdout",
     "output_type": "stream",
     "text": [
      "CPU times: user 1.9 ms, sys: 2.11 ms, total: 4.01 ms\n",
      "Wall time: 12.2 ms\n"
     ]
    }
   ],
   "source": [
    "dist_name = 'manhattan'\n",
    "%time dist = DistanceMetric.get_metric(dist_name)"
   ]
  },
  {
   "cell_type": "markdown",
   "id": "5f2067ee-a0f7-448d-a1e2-eccf97df51f6",
   "metadata": {},
   "source": [
    "### search function"
   ]
  },
  {
   "cell_type": "code",
   "execution_count": null,
   "id": "c5d4a449-6b08-4487-b57a-57a5609c34ae",
   "metadata": {},
   "outputs": [],
   "source": [
    "def returnSearchResults(query: str, index: pl.lazyframe.frame.LazyFrame) -> np.ndarray:\n",
    "    \"\"\"\n",
    "        Function to return indexes of top search results\n",
    "    \"\"\"\n",
    "    \n",
    "    # embed query\n",
    "    query_embedding = model.encode(query).reshape(1, -1)\n",
    "\n",
    "    # Get column names without triggering schema resolution warning\n",
    "    column_names = index.collect_schema().names()\n",
    "    \n",
    "    # compute distances between query and titles/transcripts\n",
    "    dist_arr = (\n",
    "        dist.pairwise(index.select(column_names[4:388]).collect(), query_embedding) +\n",
    "        dist.pairwise(index.select(column_names[388:]).collect(), query_embedding)\n",
    "    )\n",
    "\n",
    "    # search paramaters\n",
    "    threshold = 40 # eye balled threshold for manhatten distance\n",
    "    top_k = 5\n",
    "\n",
    "    # evaluate videos close to query based on threshold\n",
    "    idx_below_threshold = np.argwhere(dist_arr.flatten()<threshold).flatten()\n",
    "    # keep top k closest videos\n",
    "    idx_sorted = np.argsort(dist_arr[idx_below_threshold], axis=0).flatten()\n",
    "\n",
    "    # return indexes of search results\n",
    "    return idx_below_threshold[idx_sorted][:top_k]"
   ]
  },
  {
   "cell_type": "code",
   "execution_count": 6,
   "id": "9d793b44-10f3-48c9-9469-3ef0d471cfc2",
   "metadata": {},
   "outputs": [
    {
     "name": "stdout",
     "output_type": "stream",
     "text": [
      "shape: (5, 2)\n",
      "┌─────────────┬───────────────────────────────────┐\n",
      "│ video_id    ┆ title                             │\n",
      "│ ---         ┆ ---                               │\n",
      "│ str         ┆ str                               │\n",
      "╞═════════════╪═══════════════════════════════════╡\n",
      "│ ytmK_ErTWss ┆ LLMs EXPLAINED in 60 seconds #ai  │\n",
      "│ ZLbVdvOoTKM ┆ How to Build an LLM from Scratch… │\n",
      "│ Ylz779Op9Pw ┆ How to Improve LLMs with RAG (Ov… │\n",
      "│ tFHeUSJAYbE ┆ A Practical Introduction to Larg… │\n",
      "│ eC6Hd1hFvos ┆ Fine-tuning Large Language Model… │\n",
      "└─────────────┴───────────────────────────────────┘\n"
     ]
    }
   ],
   "source": [
    "query = \"LLM\"\n",
    "idx_result = returnSearchResults(query, df)\n",
    "\n",
    "print(df.select(['video_id', 'title']).collect()[idx_result])"
   ]
  },
  {
   "cell_type": "code",
   "execution_count": 12,
   "id": "a666a800-406e-40b8-918a-93fd4d166bb4",
   "metadata": {},
   "outputs": [
    {
     "data": {
      "text/plain": [
       "{'title': ['LLMs EXPLAINED in 60 seconds #ai',\n",
       "  'How to Build an LLM from Scratch | An Overview',\n",
       "  'How to Improve LLMs with RAG (Overview + Python Code)',\n",
       "  'A Practical Introduction to Large Language Models (LLMs)',\n",
       "  'Fine-tuning Large Language Models (LLMs) | w/ Example Code'],\n",
       " 'video_id': ['ytmK_ErTWss',\n",
       "  'ZLbVdvOoTKM',\n",
       "  'Ylz779Op9Pw',\n",
       "  'tFHeUSJAYbE',\n",
       "  'eC6Hd1hFvos']}"
      ]
     },
     "execution_count": 12,
     "metadata": {},
     "output_type": "execute_result"
    }
   ],
   "source": [
    "df.select(['title', 'video_id']).collect()[idx_result].to_dict(as_series=False)"
   ]
  },
  {
   "cell_type": "markdown",
   "id": "a29f85d7-4f79-48e9-82e8-214ec563dec9",
   "metadata": {},
   "source": [
    "### interface"
   ]
  },
  {
   "cell_type": "code",
   "execution_count": 7,
   "id": "065e3b14-53b2-41a2-9da2-ae401f7720dd",
   "metadata": {
    "jupyter": {
     "source_hidden": true
    }
   },
   "outputs": [],
   "source": [
    "def pseudoSearchAPI(query: str):\n",
    "    \n",
    "    # return top 5 search results\n",
    "    idx_result = returnSearchResults(query, df)\n",
    "    response = df.select(['title', 'video_id']).collect()[idx_result].to_dict(as_series=False)\n",
    "\n",
    "    return response"
   ]
  },
  {
   "cell_type": "code",
   "execution_count": 8,
   "id": "5118c9b6-8bcc-41da-a074-b3a539d09448",
   "metadata": {
    "jupyter": {
     "source_hidden": true
    }
   },
   "outputs": [],
   "source": [
    "def formatResultText(title: str, video_id: str):\n",
    "    \n",
    "    text = markdown_text = f\"\"\"<br> <br>\n",
    "# {title}<br>\n",
    "\n",
    "🔗 [Video Link](https://youtu.be/{video_id})\"\"\"\n",
    "\n",
    "    return text"
   ]
  },
  {
   "cell_type": "code",
   "execution_count": 9,
   "id": "dd45fec6-4d91-4e98-98f2-d6637dc00442",
   "metadata": {
    "jupyter": {
     "source_hidden": true
    }
   },
   "outputs": [],
   "source": [
    "def formatVideoEmbed(video_id: str):\n",
    "\n",
    "    # other options\n",
    "    # embed = '<iframe width=\"640\" height=\"360\" src=\"https://img.youtube.com/vi/'+ video_id +'/0.jpg\" </iframe>'\n",
    "    # embed = '<a href=\"https://youtu.be/'+ video_id +'\"> <img src=\"https://img.youtube.com/vi/'+ video_id +'/0.jpg\" style=\"width:576;height:324;\"></a>'\n",
    "    # embed = '<a href=\"www.youtube.com/watch?v='+ video_id +'\"> <img src=\"https://img.youtube.com/vi/'+ video_id +'/0.jpg\" style=\"width:576;height:324;\"></a>'\n",
    "    \n",
    "    return '<iframe width=\"576\" height=\"324\" src=\"https://www.youtube.com/embed/'+ video_id +'\"></iframe>'"
   ]
  },
  {
   "cell_type": "code",
   "execution_count": 10,
   "id": "caff69c4-eba1-46b0-a406-f456263399bd",
   "metadata": {},
   "outputs": [],
   "source": [
    "def searchResults(query):\n",
    "    # pseudo API call\n",
    "    response = pseudoSearchAPI(query)\n",
    "\n",
    "    # format search results\n",
    "\n",
    "    # initialize list of outputs\n",
    "    output_list = []\n",
    "\n",
    "    # compute number of null search results (out of 5)\n",
    "    num_empty_results = 5-len(response['title'])\n",
    "\n",
    "    # display search results\n",
    "    for i in range(len(response['title'])):\n",
    "        video_id = response['video_id'][i]\n",
    "        title = response['title'][i]\n",
    "\n",
    "        embed = gr.HTML(value = formatVideoEmbed(video_id), visible=True)\n",
    "        text = gr.Markdown(value = formatResultText(title, video_id), visible=True)\n",
    "\n",
    "        output_list.append(embed)\n",
    "        output_list.append(text)\n",
    "\n",
    "    # make null search result slots invisible\n",
    "    for i in range(num_empty_results):\n",
    "        \n",
    "        # if no search results display \"No results.\" text\n",
    "        if num_empty_results==5 and i==0:\n",
    "            embed = gr.HTML(visible=False)\n",
    "            text = gr.Markdown(value = \"No results. Try rephrasing your query.\", visible=True)\n",
    "\n",
    "            output_list.append(embed)\n",
    "            output_list.append(text)\n",
    "            continue\n",
    "\n",
    "        embed = gr.HTML(visible=False)\n",
    "        text = gr.Markdown(visible=False)\n",
    "\n",
    "        output_list.append(embed)\n",
    "        output_list.append(text)\n",
    "        \n",
    "    return output_list"
   ]
  },
  {
   "cell_type": "code",
   "execution_count": 11,
   "id": "b1a323fc-e1a3-4a38-8701-e0809dc59b49",
   "metadata": {},
   "outputs": [
    {
     "name": "stdout",
     "output_type": "stream",
     "text": [
      "Running on local URL:  http://127.0.0.1:7860\n",
      "\n",
      "To create a public link, set `share=True` in `launch()`.\n"
     ]
    },
    {
     "data": {
      "text/html": [
       "<div><iframe src=\"http://127.0.0.1:7860/\" width=\"100%\" height=\"500\" allow=\"autoplay; camera; microphone; clipboard-read; clipboard-write;\" frameborder=\"0\" allowfullscreen></iframe></div>"
      ],
      "text/plain": [
       "<IPython.core.display.HTML object>"
      ]
     },
     "metadata": {},
     "output_type": "display_data"
    },
    {
     "data": {
      "text/plain": []
     },
     "execution_count": 11,
     "metadata": {},
     "output_type": "execute_result"
    }
   ],
   "source": [
    "# demo\n",
    "output_list = []\n",
    "\n",
    "with gr.Blocks() as demo:\n",
    "    gr.Markdown(\"# YouTube Search\")\n",
    "\n",
    "    with gr.Row():\n",
    "        inp = gr.Textbox(placeholder=\"What are you looking for?\", label=\"Query\", scale=3)\n",
    "        btn = gr.Button(\"Search\")\n",
    "        btn.click(fn=searchResults, inputs=inp, outputs=output_list)\n",
    "    \n",
    "    for i in range(5):\n",
    "        with gr.Row():\n",
    "            output_list.append(gr.HTML())\n",
    "            output_list.append(gr.Markdown())\n",
    "             \n",
    "    inp.submit(fn=searchResults, inputs=inp, outputs=output_list)\n",
    "\n",
    "demo.launch()"
   ]
  },
  {
   "cell_type": "code",
   "execution_count": null,
   "id": "841f59b9-c166-4a54-a43f-349bc97944d8",
   "metadata": {},
   "outputs": [],
   "source": []
  }
 ],
 "metadata": {
  "kernelspec": {
   "display_name": "Python 3 (ipykernel)",
   "language": "python",
   "name": "python3"
  },
  "language_info": {
   "codemirror_mode": {
    "name": "ipython",
    "version": 3
   },
   "file_extension": ".py",
   "mimetype": "text/x-python",
   "name": "python",
   "nbconvert_exporter": "python",
   "pygments_lexer": "ipython3",
   "version": "3.10.14"
  }
 },
 "nbformat": 4,
 "nbformat_minor": 5
}

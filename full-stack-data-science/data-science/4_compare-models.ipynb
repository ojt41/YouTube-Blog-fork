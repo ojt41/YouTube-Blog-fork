{
 "cells": [
  {
   "cell_type": "markdown",
   "id": "e3a1392b-76ec-45f7-ad25-3a5d103d5b29",
   "metadata": {},
   "source": [
    "# Compare Candidate Search Approaches\n",
    "\n",
    "Code authored by: Shaw Talebi <br>\n",
    "\n",
    "Video link: https://youtu.be/6qCrvlHRhcM <br>\n"
   ]
  },
  {
   "cell_type": "markdown",
   "id": "8726e54c-7d53-4dc7-8514-9e74740cb0d0",
   "metadata": {},
   "source": [
    "### imports"
   ]
  },
  {
   "cell_type": "code",
   "execution_count": 1,
   "id": "63fabdf5-58b7-4e4f-941f-9398d7be8411",
   "metadata": {},
   "outputs": [
    {
     "name": "stdout",
     "output_type": "stream",
     "text": [
      "Intel MKL WARNING: Support of Intel(R) Streaming SIMD Extensions 4.2 (Intel(R) SSE4.2) enabled only processors has been deprecated. Intel oneAPI Math Kernel Library 2025.0 will require Intel(R) Advanced Vector Extensions (Intel(R) AVX) instructions.\n",
      "Intel MKL WARNING: Support of Intel(R) Streaming SIMD Extensions 4.2 (Intel(R) SSE4.2) enabled only processors has been deprecated. Intel oneAPI Math Kernel Library 2025.0 will require Intel(R) Advanced Vector Extensions (Intel(R) AVX) instructions.\n"
     ]
    }
   ],
   "source": [
    "import polars as pl\n",
    "\n",
    "from sentence_transformers import SentenceTransformer, util\n",
    "\n",
    "from sklearn.metrics import DistanceMetric\n",
    "import numpy as np\n",
    "\n",
    "import matplotlib.pyplot as plt"
   ]
  },
  {
   "cell_type": "markdown",
   "id": "f16fc1e7-bbe7-4a93-b166-4e7a8ea258e2",
   "metadata": {},
   "source": [
    "### load data"
   ]
  },
  {
   "cell_type": "code",
   "execution_count": 2,
   "id": "88b702fc-6389-43d2-b849-8bc6a4076a76",
   "metadata": {},
   "outputs": [
    {
     "data": {
      "text/html": [
       "<div><style>\n",
       ".dataframe > thead > tr,\n",
       ".dataframe > tbody > tr {\n",
       "  text-align: right;\n",
       "  white-space: pre-wrap;\n",
       "}\n",
       "</style>\n",
       "<small>shape: (5, 4)</small><table border=\"1\" class=\"dataframe\"><thead><tr><th>video_id</th><th>datetime</th><th>title</th><th>transcript</th></tr><tr><td>str</td><td>datetime[μs]</td><td>str</td><td>str</td></tr></thead><tbody><tr><td>&quot;03x2oYg9oME&quot;</td><td>2024-04-25 15:16:00</td><td>&quot;Data Science P…</td><td>&quot;this video is …</td></tr><tr><td>&quot;O5i_mMUM94c&quot;</td><td>2024-04-19 14:05:54</td><td>&quot;How I’d learne…</td><td>&quot;here&#x27;s how I&#x27;d…</td></tr><tr><td>&quot;xm9devSQEqU&quot;</td><td>2024-04-18 15:59:02</td><td>&quot;4 Skills You N…</td><td>&quot;although it is…</td></tr><tr><td>&quot;Z6CmuVEi7QY&quot;</td><td>2024-04-11 10:00:27</td><td>&quot;How I&#x27;d Learn …</td><td>&quot;when I was fir…</td></tr><tr><td>&quot;INlCLmWlojY&quot;</td><td>2024-04-04 18:45:00</td><td>&quot;I Was Wrong Ab…</td><td>&quot;last year I qu…</td></tr></tbody></table></div>"
      ],
      "text/plain": [
       "shape: (5, 4)\n",
       "┌─────────────┬─────────────────────┬──────────────────────────────────┬───────────────────────────┐\n",
       "│ video_id    ┆ datetime            ┆ title                            ┆ transcript                │\n",
       "│ ---         ┆ ---                 ┆ ---                              ┆ ---                       │\n",
       "│ str         ┆ datetime[μs]        ┆ str                              ┆ str                       │\n",
       "╞═════════════╪═════════════════════╪══════════════════════════════════╪═══════════════════════════╡\n",
       "│ 03x2oYg9oME ┆ 2024-04-25 15:16:00 ┆ Data Science Project Management  ┆ this video is part of a   │\n",
       "│             ┆                     ┆ …                                ┆ larger s…                 │\n",
       "│ O5i_mMUM94c ┆ 2024-04-19 14:05:54 ┆ How I’d learned #datascience     ┆ here's how I'd learn data │\n",
       "│             ┆                     ┆ (if…                             ┆ scienc…                   │\n",
       "│ xm9devSQEqU ┆ 2024-04-18 15:59:02 ┆ 4 Skills You Need to Be a        ┆ although it is common to  │\n",
       "│             ┆                     ┆ Full-S…                          ┆ delegat…                  │\n",
       "│ Z6CmuVEi7QY ┆ 2024-04-11 10:00:27 ┆ How I'd Learn Data Science (if   ┆ when I was first learning │\n",
       "│             ┆                     ┆ I…                               ┆ data s…                   │\n",
       "│ INlCLmWlojY ┆ 2024-04-04 18:45:00 ┆ I Was Wrong About AI Consulting  ┆ last year I quit my       │\n",
       "│             ┆                     ┆ …                                ┆ corporate da…             │\n",
       "└─────────────┴─────────────────────┴──────────────────────────────────┴───────────────────────────┘"
      ]
     },
     "execution_count": 2,
     "metadata": {},
     "output_type": "execute_result"
    }
   ],
   "source": [
    "df = pl.read_parquet('data/video-transcripts.parquet')\n",
    "df_eval = pl.read_csv('data/eval-raw.csv')\n",
    "df.head()"
   ]
  },
  {
   "cell_type": "markdown",
   "id": "8b5435a1-1f74-47b3-bddd-929f5c4908fe",
   "metadata": {},
   "source": [
    "### embed titles and transcripts"
   ]
  },
  {
   "cell_type": "code",
   "execution_count": 3,
   "id": "d0fb5ddb-5278-42a4-a6cf-f6161e59d94e",
   "metadata": {},
   "outputs": [],
   "source": [
    "# define \"parameters\"\n",
    "column_to_embed_list = ['title', 'transcript']\n",
    "model_name_list = [\"all-MiniLM-L6-v2\", \"multi-qa-distilbert-cos-v1\", \"multi-qa-mpnet-base-dot-v1\"]"
   ]
  },
  {
   "cell_type": "code",
   "execution_count": 4,
   "id": "ad995bfd-dea8-4514-8392-00f941496edb",
   "metadata": {},
   "outputs": [
    {
     "name": "stdout",
     "output_type": "stream",
     "text": [
      "all-MiniLM-L6-v2_title\n",
      "CPU times: user 1.09 s, sys: 210 ms, total: 1.3 s\n",
      "Wall time: 1.35 s\n",
      "\n",
      "all-MiniLM-L6-v2_transcript\n",
      "CPU times: user 1.42 s, sys: 95.4 ms, total: 1.51 s\n",
      "Wall time: 1.51 s\n",
      "\n",
      "multi-qa-distilbert-cos-v1_title\n",
      "CPU times: user 384 ms, sys: 60.9 ms, total: 445 ms\n",
      "Wall time: 482 ms\n",
      "\n",
      "multi-qa-distilbert-cos-v1_transcript\n"
     ]
    },
    {
     "name": "stderr",
     "output_type": "stream",
     "text": [
      "You try to use a model that was created with version 3.0.0.dev0, however, your version is 2.6.1. This might cause unexpected behavior or errors. In that case, try to update to the latest version.\n",
      "\n",
      "\n",
      "\n"
     ]
    },
    {
     "name": "stdout",
     "output_type": "stream",
     "text": [
      "CPU times: user 1.47 s, sys: 189 ms, total: 1.66 s\n",
      "Wall time: 5.97 s\n",
      "\n",
      "multi-qa-mpnet-base-dot-v1_title\n",
      "CPU times: user 393 ms, sys: 59.1 ms, total: 452 ms\n",
      "Wall time: 649 ms\n",
      "\n",
      "multi-qa-mpnet-base-dot-v1_transcript\n",
      "CPU times: user 3.48 s, sys: 996 ms, total: 4.47 s\n",
      "Wall time: 10.7 s\n",
      "\n"
     ]
    }
   ],
   "source": [
    "# generate embeddings for each combination of column and model\n",
    "\n",
    "# initialize dict to keep track of all text embeddings\n",
    "text_embedding_dict = {}\n",
    "\n",
    "for model_name in model_name_list:\n",
    "\n",
    "    #define embedding model\n",
    "    model = SentenceTransformer(model_name) \n",
    "\n",
    "    for column_name in column_to_embed_list:\n",
    "\n",
    "        # define text embedding identifier\n",
    "        key_name = model_name + \"_\" + column_name\n",
    "        print(key_name)\n",
    "\n",
    "        # generate embeddings for text under column_name\n",
    "        %time embedding_arr = model.encode(df[column_name].to_list())\n",
    "        print('')\n",
    "\n",
    "        # append embeddings to dict\n",
    "        text_embedding_dict[key_name] = embedding_arr"
   ]
  },
  {
   "cell_type": "markdown",
   "id": "d49a2886-4c1f-459b-8d74-4b2a60cc5ce2",
   "metadata": {},
   "source": [
    "### embed queries"
   ]
  },
  {
   "cell_type": "code",
   "execution_count": 5,
   "id": "ed2cc13c-a6dc-4354-938c-7383140b1a92",
   "metadata": {},
   "outputs": [
    {
     "name": "stdout",
     "output_type": "stream",
     "text": [
      "all-MiniLM-L6-v2\n",
      "CPU times: user 306 ms, sys: 64.7 ms, total: 370 ms\n",
      "Wall time: 369 ms\n",
      "\n",
      "multi-qa-distilbert-cos-v1\n"
     ]
    },
    {
     "name": "stderr",
     "output_type": "stream",
     "text": [
      "You try to use a model that was created with version 3.0.0.dev0, however, your version is 2.6.1. This might cause unexpected behavior or errors. In that case, try to update to the latest version.\n",
      "\n",
      "\n",
      "\n"
     ]
    },
    {
     "name": "stdout",
     "output_type": "stream",
     "text": [
      "CPU times: user 265 ms, sys: 40.8 ms, total: 305 ms\n",
      "Wall time: 473 ms\n",
      "\n",
      "multi-qa-mpnet-base-dot-v1\n",
      "CPU times: user 814 ms, sys: 306 ms, total: 1.12 s\n",
      "Wall time: 732 ms\n",
      "\n"
     ]
    }
   ],
   "source": [
    "query_embedding_dict = {}\n",
    "\n",
    "for model_name in model_name_list:\n",
    "\n",
    "    #define embedding model\n",
    "    model = SentenceTransformer(model_name)\n",
    "    print(model_name)\n",
    "\n",
    "    # embed query text\n",
    "    %time embedding_arr = model.encode(df_eval['query'].to_list())\n",
    "    print('')\n",
    "\n",
    "    # append embedding to dict\n",
    "    query_embedding_dict[model_name] = embedding_arr"
   ]
  },
  {
   "cell_type": "markdown",
   "id": "7fbe42a5-63d0-4ac9-b443-7bec945af178",
   "metadata": {},
   "source": [
    "### Evaluate search methods"
   ]
  },
  {
   "cell_type": "code",
   "execution_count": 6,
   "id": "0f8d5792-d3e5-4b3c-b467-1e323684be18",
   "metadata": {
    "jupyter": {
     "source_hidden": true
    }
   },
   "outputs": [],
   "source": [
    "def returnVideoID_index(df: pl.dataframe.frame.DataFrame, df_eval: pl.dataframe.frame.DataFrame, query_n: int) -> int:\n",
    "    \"\"\"\n",
    "        Function to return the index of a dataframe corresponding to the nth row in evaluation dataframe\n",
    "    \"\"\"\n",
    "\n",
    "    return [i for i in range(len(df)) if df['video_id'][i]==df_eval['video_id'][query_n]][0]"
   ]
  },
  {
   "cell_type": "code",
   "execution_count": 7,
   "id": "e1a67a04-ff18-4017-a2dc-1b0779d02519",
   "metadata": {
    "jupyter": {
     "source_hidden": true
    }
   },
   "outputs": [],
   "source": [
    "def evalTrueRankings(dist_arr_isorted: np.ndarray, df: pl.dataframe.frame.DataFrame, df_eval: pl.dataframe.frame.DataFrame) -> np.ndarray:\n",
    "    \"\"\"\n",
    "        Function to return \"true\" video ID rankings for each evaluation query\n",
    "    \"\"\"\n",
    "    \n",
    "    # intialize array to store rankings of \"correct\" search result\n",
    "    true_rank_arr = np.empty((1, dist_arr_isorted.shape[1]))\n",
    "    \n",
    "    # evaluate ranking of correct result for each query\n",
    "    for query_n in range(dist_arr_isorted.shape[1]):\n",
    "    \n",
    "        # return \"true\" video ID's in df\n",
    "        video_id_idx = returnVideoID_index(df, df_eval, query_n)\n",
    "        \n",
    "        # evaluate the ranking of the \"true\" video ID\n",
    "        true_rank = np.argwhere(dist_arr_isorted[:,query_n]==video_id_idx)[0][0]\n",
    "        \n",
    "        # store the \"true\" video ID's ranking in array\n",
    "        true_rank_arr[0,query_n] = true_rank\n",
    "\n",
    "    return true_rank_arr"
   ]
  },
  {
   "cell_type": "code",
   "execution_count": 8,
   "id": "58d5fd16-b4cc-48d7-bd47-e948fdc94906",
   "metadata": {},
   "outputs": [],
   "source": [
    "# initialize distance metrics to experiment\n",
    "dist_name_list = ['euclidean', 'manhattan', 'chebyshev']\n",
    "sim_name_list = ['cos_sim', 'dot_score']"
   ]
  },
  {
   "cell_type": "code",
   "execution_count": 9,
   "id": "7f4e57f0-d4bd-48b9-a8c7-4633a2a8dfec",
   "metadata": {},
   "outputs": [],
   "source": [
    "# evaluate all possible combinations of model, columns to embed, and distance metrics\n",
    "\n",
    "# initialize list to store results\n",
    "eval_results = []\n",
    "\n",
    "# loop through all models\n",
    "for model_name in model_name_list:\n",
    "\n",
    "    # generate query embedding\n",
    "    query_embedding = query_embedding_dict[model_name]\n",
    "    \n",
    "    # loop through text columns\n",
    "    for column_name in column_to_embed_list:\n",
    "\n",
    "        # generate column embedding\n",
    "        embedding_arr = text_embedding_dict[model_name+'_'+column_name]\n",
    "\n",
    "        # loop through distance metrics\n",
    "        for dist_name in dist_name_list:\n",
    "\n",
    "            # compute distance between video text and query\n",
    "            dist = DistanceMetric.get_metric(dist_name)\n",
    "            dist_arr = dist.pairwise(embedding_arr, query_embedding)\n",
    "\n",
    "            # sort indexes of distance array\n",
    "            dist_arr_isorted = np.argsort(dist_arr, axis=0)\n",
    "\n",
    "            # define label for search method\n",
    "            method_name = \"_\".join([model_name, column_name, dist_name])\n",
    "\n",
    "            # evaluate the ranking of the ground truth\n",
    "            true_rank_arr = evalTrueRankings(dist_arr_isorted, df, df_eval)\n",
    "\n",
    "            # store results\n",
    "            eval_list = [method_name] + true_rank_arr.tolist()[0]\n",
    "            eval_results.append(eval_list)\n",
    "\n",
    "        # loop through sbert similarity scores\n",
    "        for sim_name in sim_name_list:\n",
    "            # apply similarity score from sbert\n",
    "            cmd = \"dist_arr = -util.\" + sim_name + \"(embedding_arr, query_embedding)\"\n",
    "            exec(cmd)\n",
    "    \n",
    "            # sort indexes of distance array (notice minus sign in front of cosine similarity)\n",
    "            dist_arr_isorted = np.argsort(dist_arr, axis=0)\n",
    "    \n",
    "            # define label for search method\n",
    "            method_name = \"_\".join([model_name, column_name, sim_name.replace(\"_\",\"-\")])\n",
    "    \n",
    "            # evaluate the ranking of the ground truth\n",
    "            true_rank_arr = evalTrueRankings(dist_arr_isorted, df, df_eval)\n",
    "    \n",
    "            # store results\n",
    "            eval_list = [method_name] + true_rank_arr.tolist()[0]\n",
    "            eval_results.append(eval_list)"
   ]
  },
  {
   "cell_type": "code",
   "execution_count": 10,
   "id": "88321681-0547-4855-abb6-5537573155e5",
   "metadata": {},
   "outputs": [
    {
     "data": {
      "text/plain": [
       "'dist_arr = -util.dot_score(embedding_arr, query_embedding)'"
      ]
     },
     "execution_count": 10,
     "metadata": {},
     "output_type": "execute_result"
    }
   ],
   "source": [
    "cmd"
   ]
  },
  {
   "cell_type": "code",
   "execution_count": 11,
   "id": "bc50dce4-0cbf-4d56-bb98-d3704c8e668c",
   "metadata": {},
   "outputs": [],
   "source": [
    "# compute rankings for title + transcripts embedding\n",
    "for model_name in model_name_list:\n",
    "    \n",
    "    # generate embeddings\n",
    "    embedding_arr1 = text_embedding_dict[model_name+'_title']\n",
    "    embedding_arr2 = text_embedding_dict[model_name+'_transcript']\n",
    "    query_embedding = query_embedding_dict[model_name]\n",
    "\n",
    "    for dist_name in dist_name_list:\n",
    "\n",
    "        # compute distance between video text and query\n",
    "        dist = DistanceMetric.get_metric(dist_name)\n",
    "        dist_arr = dist.pairwise(embedding_arr1, query_embedding) + dist.pairwise(embedding_arr2, query_embedding)\n",
    "\n",
    "        # sort indexes of distance array\n",
    "        dist_arr_isorted = np.argsort(dist_arr, axis=0)\n",
    "\n",
    "         # define label for search method\n",
    "        method_name = \"_\".join([model_name, \"title-transcript\", dist_name])\n",
    "\n",
    "        # evaluate the ranking of the ground truth\n",
    "        true_rank_arr = evalTrueRankings(dist_arr_isorted, df, df_eval)\n",
    "\n",
    "        # store results\n",
    "        eval_list = [method_name] + true_rank_arr.tolist()[0]\n",
    "        eval_results.append(eval_list)\n",
    "\n",
    "    # loop through sbert similarity scores\n",
    "    for sim_name in sim_name_list:\n",
    "        # apply similarity score from sbert\n",
    "        cmd = \"dist_arr = -util.\" + sim_name + \"(embedding_arr1, query_embedding) - util.\"+ sim_name + \"(embedding_arr2, query_embedding)\"\n",
    "        exec(cmd)\n",
    "\n",
    "        # sort indexes of distance array (notice minus sign in front of cosine similarity)\n",
    "        dist_arr_isorted = np.argsort(dist_arr, axis=0)\n",
    "\n",
    "        # define label for search method\n",
    "        method_name = \"_\".join([model_name, \"title-transcript\", sim_name.replace(\"_\",\"-\")])\n",
    "\n",
    "        # evaluate the ranking of the ground truth\n",
    "        true_rank_arr = evalTrueRankings(dist_arr_isorted, df, df_eval)\n",
    "\n",
    "        # store results\n",
    "        eval_list = [method_name] + true_rank_arr.tolist()[0]\n",
    "        eval_results.append(eval_list)"
   ]
  },
  {
   "cell_type": "code",
   "execution_count": 12,
   "id": "dec5ff78-7761-4048-90ed-71f93d77ba8d",
   "metadata": {},
   "outputs": [
    {
     "data": {
      "text/plain": [
       "45"
      ]
     },
     "execution_count": 12,
     "metadata": {},
     "output_type": "execute_result"
    }
   ],
   "source": [
    "len(eval_results)"
   ]
  },
  {
   "cell_type": "code",
   "execution_count": 13,
   "id": "ac91899c-b54b-4751-b929-5d533db4009c",
   "metadata": {},
   "outputs": [
    {
     "data": {
      "text/html": [
       "<div><style>\n",
       ".dataframe > thead > tr,\n",
       ".dataframe > tbody > tr {\n",
       "  text-align: right;\n",
       "  white-space: pre-wrap;\n",
       "}\n",
       "</style>\n",
       "<small>shape: (5, 65)</small><table border=\"1\" class=\"dataframe\"><thead><tr><th>method_name</th><th>rank_query-0</th><th>rank_query-1</th><th>rank_query-2</th><th>rank_query-3</th><th>rank_query-4</th><th>rank_query-5</th><th>rank_query-6</th><th>rank_query-7</th><th>rank_query-8</th><th>rank_query-9</th><th>rank_query-10</th><th>rank_query-11</th><th>rank_query-12</th><th>rank_query-13</th><th>rank_query-14</th><th>rank_query-15</th><th>rank_query-16</th><th>rank_query-17</th><th>rank_query-18</th><th>rank_query-19</th><th>rank_query-20</th><th>rank_query-21</th><th>rank_query-22</th><th>rank_query-23</th><th>rank_query-24</th><th>rank_query-25</th><th>rank_query-26</th><th>rank_query-27</th><th>rank_query-28</th><th>rank_query-29</th><th>rank_query-30</th><th>rank_query-31</th><th>rank_query-32</th><th>rank_query-33</th><th>rank_query-34</th><th>rank_query-35</th><th>rank_query-36</th><th>rank_query-37</th><th>rank_query-38</th><th>rank_query-39</th><th>rank_query-40</th><th>rank_query-41</th><th>rank_query-42</th><th>rank_query-43</th><th>rank_query-44</th><th>rank_query-45</th><th>rank_query-46</th><th>rank_query-47</th><th>rank_query-48</th><th>rank_query-49</th><th>rank_query-50</th><th>rank_query-51</th><th>rank_query-52</th><th>rank_query-53</th><th>rank_query-54</th><th>rank_query-55</th><th>rank_query-56</th><th>rank_query-57</th><th>rank_query-58</th><th>rank_query-59</th><th>rank_query-60</th><th>rank_query-61</th><th>rank_query-62</th><th>rank_query-63</th></tr><tr><td>str</td><td>f64</td><td>f64</td><td>f64</td><td>f64</td><td>f64</td><td>f64</td><td>f64</td><td>f64</td><td>f64</td><td>f64</td><td>f64</td><td>f64</td><td>f64</td><td>f64</td><td>f64</td><td>f64</td><td>f64</td><td>f64</td><td>f64</td><td>f64</td><td>f64</td><td>f64</td><td>f64</td><td>f64</td><td>f64</td><td>f64</td><td>f64</td><td>f64</td><td>f64</td><td>f64</td><td>f64</td><td>f64</td><td>f64</td><td>f64</td><td>f64</td><td>f64</td><td>f64</td><td>f64</td><td>f64</td><td>f64</td><td>f64</td><td>f64</td><td>f64</td><td>f64</td><td>f64</td><td>f64</td><td>f64</td><td>f64</td><td>f64</td><td>f64</td><td>f64</td><td>f64</td><td>f64</td><td>f64</td><td>f64</td><td>f64</td><td>f64</td><td>f64</td><td>f64</td><td>f64</td><td>f64</td><td>f64</td><td>f64</td><td>f64</td></tr></thead><tbody><tr><td>&quot;all-MiniLM-L6-…</td><td>0.0</td><td>0.0</td><td>16.0</td><td>0.0</td><td>7.0</td><td>0.0</td><td>0.0</td><td>0.0</td><td>0.0</td><td>0.0</td><td>0.0</td><td>0.0</td><td>0.0</td><td>0.0</td><td>0.0</td><td>0.0</td><td>0.0</td><td>3.0</td><td>0.0</td><td>1.0</td><td>0.0</td><td>2.0</td><td>0.0</td><td>0.0</td><td>0.0</td><td>1.0</td><td>3.0</td><td>1.0</td><td>0.0</td><td>0.0</td><td>0.0</td><td>0.0</td><td>0.0</td><td>2.0</td><td>0.0</td><td>8.0</td><td>1.0</td><td>0.0</td><td>0.0</td><td>1.0</td><td>0.0</td><td>6.0</td><td>1.0</td><td>0.0</td><td>1.0</td><td>0.0</td><td>0.0</td><td>0.0</td><td>0.0</td><td>0.0</td><td>0.0</td><td>0.0</td><td>9.0</td><td>5.0</td><td>0.0</td><td>0.0</td><td>0.0</td><td>0.0</td><td>0.0</td><td>0.0</td><td>1.0</td><td>0.0</td><td>1.0</td><td>0.0</td></tr><tr><td>&quot;all-MiniLM-L6-…</td><td>0.0</td><td>0.0</td><td>9.0</td><td>0.0</td><td>7.0</td><td>0.0</td><td>0.0</td><td>0.0</td><td>0.0</td><td>0.0</td><td>0.0</td><td>0.0</td><td>0.0</td><td>0.0</td><td>0.0</td><td>0.0</td><td>0.0</td><td>2.0</td><td>0.0</td><td>0.0</td><td>0.0</td><td>1.0</td><td>0.0</td><td>0.0</td><td>0.0</td><td>1.0</td><td>3.0</td><td>1.0</td><td>0.0</td><td>0.0</td><td>0.0</td><td>0.0</td><td>0.0</td><td>2.0</td><td>0.0</td><td>7.0</td><td>1.0</td><td>0.0</td><td>0.0</td><td>1.0</td><td>0.0</td><td>3.0</td><td>1.0</td><td>0.0</td><td>1.0</td><td>1.0</td><td>0.0</td><td>0.0</td><td>0.0</td><td>0.0</td><td>0.0</td><td>1.0</td><td>10.0</td><td>5.0</td><td>0.0</td><td>0.0</td><td>0.0</td><td>0.0</td><td>0.0</td><td>0.0</td><td>1.0</td><td>0.0</td><td>1.0</td><td>0.0</td></tr><tr><td>&quot;all-MiniLM-L6-…</td><td>0.0</td><td>2.0</td><td>46.0</td><td>0.0</td><td>60.0</td><td>0.0</td><td>0.0</td><td>0.0</td><td>0.0</td><td>0.0</td><td>1.0</td><td>3.0</td><td>0.0</td><td>30.0</td><td>0.0</td><td>0.0</td><td>4.0</td><td>57.0</td><td>0.0</td><td>3.0</td><td>0.0</td><td>24.0</td><td>0.0</td><td>0.0</td><td>0.0</td><td>8.0</td><td>6.0</td><td>2.0</td><td>0.0</td><td>0.0</td><td>0.0</td><td>0.0</td><td>0.0</td><td>0.0</td><td>0.0</td><td>43.0</td><td>1.0</td><td>0.0</td><td>0.0</td><td>1.0</td><td>0.0</td><td>6.0</td><td>8.0</td><td>0.0</td><td>1.0</td><td>1.0</td><td>0.0</td><td>3.0</td><td>0.0</td><td>0.0</td><td>0.0</td><td>0.0</td><td>5.0</td><td>5.0</td><td>1.0</td><td>70.0</td><td>11.0</td><td>0.0</td><td>0.0</td><td>0.0</td><td>1.0</td><td>1.0</td><td>1.0</td><td>0.0</td></tr><tr><td>&quot;all-MiniLM-L6-…</td><td>0.0</td><td>0.0</td><td>16.0</td><td>0.0</td><td>7.0</td><td>0.0</td><td>0.0</td><td>0.0</td><td>0.0</td><td>0.0</td><td>0.0</td><td>0.0</td><td>0.0</td><td>0.0</td><td>0.0</td><td>0.0</td><td>0.0</td><td>3.0</td><td>0.0</td><td>1.0</td><td>0.0</td><td>2.0</td><td>0.0</td><td>0.0</td><td>0.0</td><td>1.0</td><td>3.0</td><td>1.0</td><td>0.0</td><td>0.0</td><td>0.0</td><td>0.0</td><td>0.0</td><td>2.0</td><td>0.0</td><td>8.0</td><td>1.0</td><td>0.0</td><td>0.0</td><td>1.0</td><td>0.0</td><td>6.0</td><td>1.0</td><td>0.0</td><td>1.0</td><td>0.0</td><td>0.0</td><td>0.0</td><td>0.0</td><td>0.0</td><td>0.0</td><td>0.0</td><td>9.0</td><td>5.0</td><td>0.0</td><td>0.0</td><td>0.0</td><td>0.0</td><td>0.0</td><td>0.0</td><td>1.0</td><td>0.0</td><td>1.0</td><td>0.0</td></tr><tr><td>&quot;all-MiniLM-L6-…</td><td>0.0</td><td>0.0</td><td>16.0</td><td>0.0</td><td>7.0</td><td>0.0</td><td>0.0</td><td>0.0</td><td>0.0</td><td>0.0</td><td>0.0</td><td>0.0</td><td>0.0</td><td>0.0</td><td>0.0</td><td>0.0</td><td>0.0</td><td>3.0</td><td>0.0</td><td>1.0</td><td>0.0</td><td>2.0</td><td>0.0</td><td>0.0</td><td>0.0</td><td>1.0</td><td>3.0</td><td>1.0</td><td>0.0</td><td>0.0</td><td>0.0</td><td>0.0</td><td>0.0</td><td>2.0</td><td>0.0</td><td>8.0</td><td>1.0</td><td>0.0</td><td>0.0</td><td>1.0</td><td>0.0</td><td>6.0</td><td>1.0</td><td>0.0</td><td>1.0</td><td>0.0</td><td>0.0</td><td>0.0</td><td>0.0</td><td>0.0</td><td>0.0</td><td>0.0</td><td>9.0</td><td>5.0</td><td>0.0</td><td>0.0</td><td>0.0</td><td>0.0</td><td>0.0</td><td>0.0</td><td>1.0</td><td>0.0</td><td>1.0</td><td>0.0</td></tr></tbody></table></div>"
      ],
      "text/plain": [
       "shape: (5, 65)\n",
       "┌───────────┬───────────┬───────────┬───────────┬───┬───────────┬───────────┬───────────┬──────────┐\n",
       "│ method_na ┆ rank_quer ┆ rank_quer ┆ rank_quer ┆ … ┆ rank_quer ┆ rank_quer ┆ rank_quer ┆ rank_que │\n",
       "│ me        ┆ y-0       ┆ y-1       ┆ y-2       ┆   ┆ y-60      ┆ y-61      ┆ y-62      ┆ ry-63    │\n",
       "│ ---       ┆ ---       ┆ ---       ┆ ---       ┆   ┆ ---       ┆ ---       ┆ ---       ┆ ---      │\n",
       "│ str       ┆ f64       ┆ f64       ┆ f64       ┆   ┆ f64       ┆ f64       ┆ f64       ┆ f64      │\n",
       "╞═══════════╪═══════════╪═══════════╪═══════════╪═══╪═══════════╪═══════════╪═══════════╪══════════╡\n",
       "│ all-MiniL ┆ 0.0       ┆ 0.0       ┆ 16.0      ┆ … ┆ 1.0       ┆ 0.0       ┆ 1.0       ┆ 0.0      │\n",
       "│ M-L6-v2_t ┆           ┆           ┆           ┆   ┆           ┆           ┆           ┆          │\n",
       "│ itle_eucl ┆           ┆           ┆           ┆   ┆           ┆           ┆           ┆          │\n",
       "│ idean     ┆           ┆           ┆           ┆   ┆           ┆           ┆           ┆          │\n",
       "│ all-MiniL ┆ 0.0       ┆ 0.0       ┆ 9.0       ┆ … ┆ 1.0       ┆ 0.0       ┆ 1.0       ┆ 0.0      │\n",
       "│ M-L6-v2_t ┆           ┆           ┆           ┆   ┆           ┆           ┆           ┆          │\n",
       "│ itle_manh ┆           ┆           ┆           ┆   ┆           ┆           ┆           ┆          │\n",
       "│ attan     ┆           ┆           ┆           ┆   ┆           ┆           ┆           ┆          │\n",
       "│ all-MiniL ┆ 0.0       ┆ 2.0       ┆ 46.0      ┆ … ┆ 1.0       ┆ 1.0       ┆ 1.0       ┆ 0.0      │\n",
       "│ M-L6-v2_t ┆           ┆           ┆           ┆   ┆           ┆           ┆           ┆          │\n",
       "│ itle_cheb ┆           ┆           ┆           ┆   ┆           ┆           ┆           ┆          │\n",
       "│ yshev     ┆           ┆           ┆           ┆   ┆           ┆           ┆           ┆          │\n",
       "│ all-MiniL ┆ 0.0       ┆ 0.0       ┆ 16.0      ┆ … ┆ 1.0       ┆ 0.0       ┆ 1.0       ┆ 0.0      │\n",
       "│ M-L6-v2_t ┆           ┆           ┆           ┆   ┆           ┆           ┆           ┆          │\n",
       "│ itle_cos- ┆           ┆           ┆           ┆   ┆           ┆           ┆           ┆          │\n",
       "│ sim       ┆           ┆           ┆           ┆   ┆           ┆           ┆           ┆          │\n",
       "│ all-MiniL ┆ 0.0       ┆ 0.0       ┆ 16.0      ┆ … ┆ 1.0       ┆ 0.0       ┆ 1.0       ┆ 0.0      │\n",
       "│ M-L6-v2_t ┆           ┆           ┆           ┆   ┆           ┆           ┆           ┆          │\n",
       "│ itle_dot- ┆           ┆           ┆           ┆   ┆           ┆           ┆           ┆          │\n",
       "│ score     ┆           ┆           ┆           ┆   ┆           ┆           ┆           ┆          │\n",
       "└───────────┴───────────┴───────────┴───────────┴───┴───────────┴───────────┴───────────┴──────────┘"
      ]
     },
     "execution_count": 13,
     "metadata": {},
     "output_type": "execute_result"
    }
   ],
   "source": [
    "# define schema for results dataframe\n",
    "schema_dict = {'method_name':str}\n",
    "for i in range(len(eval_results[0])-1):\n",
    "    schema_dict['rank_query-'+str(i)] = float\n",
    "\n",
    "# store results in dataframe\n",
    "df_results = pl.DataFrame(eval_results, schema=schema_dict)\n",
    "df_results.head()"
   ]
  },
  {
   "cell_type": "code",
   "execution_count": 14,
   "id": "bdfedef4-64fb-4852-a5e6-2047c4ee654b",
   "metadata": {},
   "outputs": [],
   "source": [
    "# compute mean rankings of ground truth search result\n",
    "df_results = df_results.with_columns(new_col=pl.mean_horizontal(df_results.columns[1:])).rename({\"new_col\": \"rank_query-mean\"})"
   ]
  },
  {
   "cell_type": "code",
   "execution_count": 15,
   "id": "405ce9c5-6347-4995-adbe-4e8cf92727cc",
   "metadata": {},
   "outputs": [],
   "source": [
    "# compute number of ground truth results which appear in top 3\n",
    "for i in [1,3]:\n",
    "    df_results = df_results.with_columns(new_col=pl.sum_horizontal(df_results[:,1:-1]<i)).rename({\"new_col\": \"num_in_top-\"+str(i)})"
   ]
  },
  {
   "cell_type": "markdown",
   "id": "5bb87b41-52fa-4e89-bb98-2e7011665a27",
   "metadata": {},
   "source": [
    "### Look at top results"
   ]
  },
  {
   "cell_type": "code",
   "execution_count": 16,
   "id": "4dac1368-fd3d-4ac1-90b8-d2429e2aadf7",
   "metadata": {},
   "outputs": [],
   "source": [
    "df_summary = df_results[['method_name', \"rank_query-mean\", \"num_in_top-1\", \"num_in_top-3\"]]"
   ]
  },
  {
   "cell_type": "code",
   "execution_count": 17,
   "id": "332a9783-8fe7-40b8-929c-a2e973e18207",
   "metadata": {},
   "outputs": [
    {
     "name": "stdout",
     "output_type": "stream",
     "text": [
      "shape: (5, 4)\n",
      "┌───────────────────────────────────┬─────────────────┬──────────────┬──────────────┐\n",
      "│ method_name                       ┆ rank_query-mean ┆ num_in_top-1 ┆ num_in_top-3 │\n",
      "│ ---                               ┆ ---             ┆ ---          ┆ ---          │\n",
      "│ str                               ┆ f64             ┆ u32          ┆ u32          │\n",
      "╞═══════════════════════════════════╪═════════════════╪══════════════╪══════════════╡\n",
      "│ all-MiniLM-L6-v2_title-transcrip… ┆ 0.875           ┆ 41           ┆ 60           │\n",
      "│ all-MiniLM-L6-v2_title_manhattan  ┆ 0.921875        ┆ 44           ┆ 58           │\n",
      "│ all-MiniLM-L6-v2_title-transcrip… ┆ 0.96875         ┆ 41           ┆ 61           │\n",
      "│ all-MiniLM-L6-v2_title-transcrip… ┆ 0.984375        ┆ 41           ┆ 60           │\n",
      "│ all-MiniLM-L6-v2_title-transcrip… ┆ 0.984375        ┆ 41           ┆ 60           │\n",
      "└───────────────────────────────────┴─────────────────┴──────────────┴──────────────┘\n"
     ]
    }
   ],
   "source": [
    "print(df_summary.sort('rank_query-mean').head())"
   ]
  },
  {
   "cell_type": "code",
   "execution_count": 18,
   "id": "0bd138a2-cd56-48c6-bb5b-ed7cd159dae5",
   "metadata": {},
   "outputs": [
    {
     "data": {
      "text/plain": [
       "'all-MiniLM-L6-v2_title-transcript_manhattan'"
      ]
     },
     "execution_count": 18,
     "metadata": {},
     "output_type": "execute_result"
    }
   ],
   "source": [
    "df_summary.sort('rank_query-mean').head()[0,0]"
   ]
  },
  {
   "cell_type": "code",
   "execution_count": 19,
   "id": "ae0ba9ed-d199-41b1-ad2b-f65604ac1767",
   "metadata": {},
   "outputs": [
    {
     "name": "stdout",
     "output_type": "stream",
     "text": [
      "shape: (5, 4)\n",
      "┌───────────────────────────────────┬─────────────────┬──────────────┬──────────────┐\n",
      "│ method_name                       ┆ rank_query-mean ┆ num_in_top-1 ┆ num_in_top-3 │\n",
      "│ ---                               ┆ ---             ┆ ---          ┆ ---          │\n",
      "│ str                               ┆ f64             ┆ u32          ┆ u32          │\n",
      "╞═══════════════════════════════════╪═════════════════╪══════════════╪══════════════╡\n",
      "│ all-MiniLM-L6-v2_title_euclidean  ┆ 1.09375         ┆ 45           ┆ 57           │\n",
      "│ all-MiniLM-L6-v2_title_cos-sim    ┆ 1.09375         ┆ 45           ┆ 57           │\n",
      "│ all-MiniLM-L6-v2_title_dot-score  ┆ 1.09375         ┆ 45           ┆ 57           │\n",
      "│ multi-qa-mpnet-base-dot-v1_title… ┆ 1.8125          ┆ 45           ┆ 57           │\n",
      "│ all-MiniLM-L6-v2_title_manhattan  ┆ 0.921875        ┆ 44           ┆ 58           │\n",
      "└───────────────────────────────────┴─────────────────┴──────────────┴──────────────┘\n"
     ]
    }
   ],
   "source": [
    "print(df_summary.sort(\"num_in_top-1\", descending=True).head())"
   ]
  },
  {
   "cell_type": "code",
   "execution_count": 20,
   "id": "ab8c75c9-967b-47f1-92f7-fad4297b73b3",
   "metadata": {},
   "outputs": [
    {
     "data": {
      "text/plain": [
       "'all-MiniLM-L6-v2_title_euclidean'"
      ]
     },
     "execution_count": 20,
     "metadata": {},
     "output_type": "execute_result"
    }
   ],
   "source": [
    "df_summary.sort(\"num_in_top-1\", descending=True).head()[0,0]"
   ]
  },
  {
   "cell_type": "code",
   "execution_count": 21,
   "id": "2761e67b-97cf-4552-9820-442ef440ea61",
   "metadata": {},
   "outputs": [
    {
     "name": "stdout",
     "output_type": "stream",
     "text": [
      "shape: (5, 4)\n",
      "┌───────────────────────────────────┬─────────────────┬──────────────┬──────────────┐\n",
      "│ method_name                       ┆ rank_query-mean ┆ num_in_top-1 ┆ num_in_top-3 │\n",
      "│ ---                               ┆ ---             ┆ ---          ┆ ---          │\n",
      "│ str                               ┆ f64             ┆ u32          ┆ u32          │\n",
      "╞═══════════════════════════════════╪═════════════════╪══════════════╪══════════════╡\n",
      "│ all-MiniLM-L6-v2_title-transcrip… ┆ 0.96875         ┆ 41           ┆ 61           │\n",
      "│ multi-qa-distilbert-cos-v1_title… ┆ 1.59375         ┆ 43           ┆ 61           │\n",
      "│ multi-qa-distilbert-cos-v1_title… ┆ 1.625           ┆ 42           ┆ 61           │\n",
      "│ multi-qa-distilbert-cos-v1_title… ┆ 1.625           ┆ 42           ┆ 61           │\n",
      "│ multi-qa-distilbert-cos-v1_title… ┆ 1.765625        ┆ 44           ┆ 60           │\n",
      "└───────────────────────────────────┴─────────────────┴──────────────┴──────────────┘\n"
     ]
    }
   ],
   "source": [
    "print(df_summary.sort(\"num_in_top-3\", descending=True).head())"
   ]
  },
  {
   "cell_type": "code",
   "execution_count": 22,
   "id": "c5c5d5d2-fcd5-4b2f-bc74-c875673ee8b9",
   "metadata": {},
   "outputs": [
    {
     "data": {
      "text/plain": [
       "'all-MiniLM-L6-v2_title-transcript_euclidean'"
      ]
     },
     "execution_count": 22,
     "metadata": {},
     "output_type": "execute_result"
    }
   ],
   "source": [
    "df_summary.sort(\"num_in_top-3\", descending=True).head()[0,0]"
   ]
  },
  {
   "cell_type": "code",
   "execution_count": 27,
   "id": "ff4e8924-d53c-42a6-88f5-3bd5f726174e",
   "metadata": {},
   "outputs": [
    {
     "name": "stdout",
     "output_type": "stream",
     "text": [
      "all-MiniLM-L6-v2_title-transcript_euclidean\n",
      "multi-qa-distilbert-cos-v1_title-transcript_euclidean\n",
      "multi-qa-distilbert-cos-v1_title-transcript_cos-sim\n",
      "multi-qa-distilbert-cos-v1_title-transcript_dot-score\n"
     ]
    }
   ],
   "source": [
    "for i in range(4):\n",
    "    print(df_summary.sort(\"num_in_top-3\", descending=True)['method_name'][i])"
   ]
  },
  {
   "cell_type": "code",
   "execution_count": null,
   "id": "c294c889-6ef6-48c7-bb20-05a15a87b58f",
   "metadata": {},
   "outputs": [],
   "source": []
  }
 ],
 "metadata": {
  "kernelspec": {
   "display_name": "Python 3 (ipykernel)",
   "language": "python",
   "name": "python3"
  },
  "language_info": {
   "codemirror_mode": {
    "name": "ipython",
    "version": 3
   },
   "file_extension": ".py",
   "mimetype": "text/x-python",
   "name": "python",
   "nbconvert_exporter": "python",
   "pygments_lexer": "ipython3",
   "version": "3.10.14"
  }
 },
 "nbformat": 4,
 "nbformat_minor": 5
}

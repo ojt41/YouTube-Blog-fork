{
 "cells": [
  {
   "cell_type": "markdown",
   "id": "b3927af4-d9b3-4c55-b474-9e6bbd96d31a",
   "metadata": {},
   "source": [
    "# Create video index\n",
    "\n",
    "Code authored by: Shaw Talebi <br>\n",
    "\n",
    "Video link: https://youtu.be/6qCrvlHRhcM"
   ]
  },
  {
   "cell_type": "markdown",
   "id": "c390f373-bc68-459d-bb05-83123601e886",
   "metadata": {},
   "source": [
    "### imports"
   ]
  },
  {
   "cell_type": "code",
   "execution_count": 1,
   "id": "c38e83e5-34c2-4896-85ab-43f3202da02e",
   "metadata": {},
   "outputs": [
    {
     "name": "stdout",
     "output_type": "stream",
     "text": [
      "Intel MKL WARNING: Support of Intel(R) Streaming SIMD Extensions 4.2 (Intel(R) SSE4.2) enabled only processors has been deprecated. Intel oneAPI Math Kernel Library 2025.0 will require Intel(R) Advanced Vector Extensions (Intel(R) AVX) instructions.\n",
      "Intel MKL WARNING: Support of Intel(R) Streaming SIMD Extensions 4.2 (Intel(R) SSE4.2) enabled only processors has been deprecated. Intel oneAPI Math Kernel Library 2025.0 will require Intel(R) Advanced Vector Extensions (Intel(R) AVX) instructions.\n"
     ]
    }
   ],
   "source": [
    "import polars as pl\n",
    "from sentence_transformers import SentenceTransformer"
   ]
  },
  {
   "cell_type": "markdown",
   "id": "8f5b6d27-5021-429d-be84-a56d9de62318",
   "metadata": {},
   "source": [
    "### load data"
   ]
  },
  {
   "cell_type": "code",
   "execution_count": 2,
   "id": "305c3d30-29c7-4f2b-aa7d-f5591d132d48",
   "metadata": {},
   "outputs": [
    {
     "data": {
      "text/html": [
       "<div><style>\n",
       ".dataframe > thead > tr,\n",
       ".dataframe > tbody > tr {\n",
       "  text-align: right;\n",
       "  white-space: pre-wrap;\n",
       "}\n",
       "</style>\n",
       "<small>shape: (5, 4)</small><table border=\"1\" class=\"dataframe\"><thead><tr><th>video_id</th><th>datetime</th><th>title</th><th>transcript</th></tr><tr><td>str</td><td>datetime[μs]</td><td>str</td><td>str</td></tr></thead><tbody><tr><td>&quot;03x2oYg9oME&quot;</td><td>2024-04-25 15:16:00</td><td>&quot;Data Science P…</td><td>&quot;this video is …</td></tr><tr><td>&quot;O5i_mMUM94c&quot;</td><td>2024-04-19 14:05:54</td><td>&quot;How I’d learne…</td><td>&quot;here&#x27;s how I&#x27;d…</td></tr><tr><td>&quot;xm9devSQEqU&quot;</td><td>2024-04-18 15:59:02</td><td>&quot;4 Skills You N…</td><td>&quot;although it is…</td></tr><tr><td>&quot;Z6CmuVEi7QY&quot;</td><td>2024-04-11 10:00:27</td><td>&quot;How I&#x27;d Learn …</td><td>&quot;when I was fir…</td></tr><tr><td>&quot;INlCLmWlojY&quot;</td><td>2024-04-04 18:45:00</td><td>&quot;I Was Wrong Ab…</td><td>&quot;last year I qu…</td></tr></tbody></table></div>"
      ],
      "text/plain": [
       "shape: (5, 4)\n",
       "┌─────────────┬─────────────────────┬──────────────────────────────────┬───────────────────────────┐\n",
       "│ video_id    ┆ datetime            ┆ title                            ┆ transcript                │\n",
       "│ ---         ┆ ---                 ┆ ---                              ┆ ---                       │\n",
       "│ str         ┆ datetime[μs]        ┆ str                              ┆ str                       │\n",
       "╞═════════════╪═════════════════════╪══════════════════════════════════╪═══════════════════════════╡\n",
       "│ 03x2oYg9oME ┆ 2024-04-25 15:16:00 ┆ Data Science Project Management  ┆ this video is part of a   │\n",
       "│             ┆                     ┆ …                                ┆ larger s…                 │\n",
       "│ O5i_mMUM94c ┆ 2024-04-19 14:05:54 ┆ How I’d learned #datascience     ┆ here's how I'd learn data │\n",
       "│             ┆                     ┆ (if…                             ┆ scienc…                   │\n",
       "│ xm9devSQEqU ┆ 2024-04-18 15:59:02 ┆ 4 Skills You Need to Be a        ┆ although it is common to  │\n",
       "│             ┆                     ┆ Full-S…                          ┆ delegat…                  │\n",
       "│ Z6CmuVEi7QY ┆ 2024-04-11 10:00:27 ┆ How I'd Learn Data Science (if   ┆ when I was first learning │\n",
       "│             ┆                     ┆ I…                               ┆ data s…                   │\n",
       "│ INlCLmWlojY ┆ 2024-04-04 18:45:00 ┆ I Was Wrong About AI Consulting  ┆ last year I quit my       │\n",
       "│             ┆                     ┆ …                                ┆ corporate da…             │\n",
       "└─────────────┴─────────────────────┴──────────────────────────────────┴───────────────────────────┘"
      ]
     },
     "execution_count": 2,
     "metadata": {},
     "output_type": "execute_result"
    }
   ],
   "source": [
    "df = pl.read_parquet('data/video-transcripts.parquet')\n",
    "df.head()"
   ]
  },
  {
   "cell_type": "markdown",
   "id": "186665dc-3932-4228-9618-088a07a9d601",
   "metadata": {},
   "source": [
    "### embed titles and transcripts"
   ]
  },
  {
   "cell_type": "code",
   "execution_count": 3,
   "id": "e46725ac-3aa1-492c-8754-ce6a9e4dd772",
   "metadata": {},
   "outputs": [],
   "source": [
    "model_name = 'all-MiniLM-L6-v2'\n",
    "column_name_list = ['title', 'transcript']"
   ]
  },
  {
   "cell_type": "code",
   "execution_count": 4,
   "id": "f217c7a9-f0a4-4bbf-8283-efd7309cd612",
   "metadata": {},
   "outputs": [],
   "source": [
    "model = SentenceTransformer(model_name)\n",
    "\n",
    "for column_name in column_name_list:\n",
    "    # generate embeddings\n",
    "    embedding_arr = model.encode(df[column_name].to_list())\n",
    "\n",
    "    # store embeddings in a dataframe\n",
    "    schema_dict = {column_name+'_embedding-'+str(i): float for i in range(embedding_arr.shape[1])}\n",
    "    df_embedding = pl.DataFrame(embedding_arr, schema=schema_dict)\n",
    "\n",
    "    # append embeddings to video index\n",
    "    df = pl.concat([df, df_embedding], how='horizontal')"
   ]
  },
  {
   "cell_type": "code",
   "execution_count": 8,
   "id": "fefe146e-712f-462b-8f7f-d5e0fda0723f",
   "metadata": {},
   "outputs": [
    {
     "data": {
      "text/plain": [
       "(83, 772)"
      ]
     },
     "execution_count": 8,
     "metadata": {},
     "output_type": "execute_result"
    }
   ],
   "source": [
    "df.shape"
   ]
  },
  {
   "cell_type": "code",
   "execution_count": 5,
   "id": "15b440c8-7b54-4bd6-a132-c04db48aa79d",
   "metadata": {},
   "outputs": [
    {
     "data": {
      "text/html": [
       "<div><style>\n",
       ".dataframe > thead > tr,\n",
       ".dataframe > tbody > tr {\n",
       "  text-align: right;\n",
       "  white-space: pre-wrap;\n",
       "}\n",
       "</style>\n",
       "<small>shape: (5, 772)</small><table border=\"1\" class=\"dataframe\"><thead><tr><th>video_id</th><th>datetime</th><th>title</th><th>transcript</th><th>title_embedding-0</th><th>title_embedding-1</th><th>title_embedding-2</th><th>title_embedding-3</th><th>title_embedding-4</th><th>title_embedding-5</th><th>title_embedding-6</th><th>title_embedding-7</th><th>title_embedding-8</th><th>title_embedding-9</th><th>title_embedding-10</th><th>title_embedding-11</th><th>title_embedding-12</th><th>title_embedding-13</th><th>title_embedding-14</th><th>title_embedding-15</th><th>title_embedding-16</th><th>title_embedding-17</th><th>title_embedding-18</th><th>title_embedding-19</th><th>title_embedding-20</th><th>title_embedding-21</th><th>title_embedding-22</th><th>title_embedding-23</th><th>title_embedding-24</th><th>title_embedding-25</th><th>title_embedding-26</th><th>title_embedding-27</th><th>title_embedding-28</th><th>title_embedding-29</th><th>title_embedding-30</th><th>title_embedding-31</th><th>title_embedding-32</th><th>&hellip;</th><th>transcript_embedding-347</th><th>transcript_embedding-348</th><th>transcript_embedding-349</th><th>transcript_embedding-350</th><th>transcript_embedding-351</th><th>transcript_embedding-352</th><th>transcript_embedding-353</th><th>transcript_embedding-354</th><th>transcript_embedding-355</th><th>transcript_embedding-356</th><th>transcript_embedding-357</th><th>transcript_embedding-358</th><th>transcript_embedding-359</th><th>transcript_embedding-360</th><th>transcript_embedding-361</th><th>transcript_embedding-362</th><th>transcript_embedding-363</th><th>transcript_embedding-364</th><th>transcript_embedding-365</th><th>transcript_embedding-366</th><th>transcript_embedding-367</th><th>transcript_embedding-368</th><th>transcript_embedding-369</th><th>transcript_embedding-370</th><th>transcript_embedding-371</th><th>transcript_embedding-372</th><th>transcript_embedding-373</th><th>transcript_embedding-374</th><th>transcript_embedding-375</th><th>transcript_embedding-376</th><th>transcript_embedding-377</th><th>transcript_embedding-378</th><th>transcript_embedding-379</th><th>transcript_embedding-380</th><th>transcript_embedding-381</th><th>transcript_embedding-382</th><th>transcript_embedding-383</th></tr><tr><td>str</td><td>datetime[μs]</td><td>str</td><td>str</td><td>f64</td><td>f64</td><td>f64</td><td>f64</td><td>f64</td><td>f64</td><td>f64</td><td>f64</td><td>f64</td><td>f64</td><td>f64</td><td>f64</td><td>f64</td><td>f64</td><td>f64</td><td>f64</td><td>f64</td><td>f64</td><td>f64</td><td>f64</td><td>f64</td><td>f64</td><td>f64</td><td>f64</td><td>f64</td><td>f64</td><td>f64</td><td>f64</td><td>f64</td><td>f64</td><td>f64</td><td>f64</td><td>f64</td><td>&hellip;</td><td>f64</td><td>f64</td><td>f64</td><td>f64</td><td>f64</td><td>f64</td><td>f64</td><td>f64</td><td>f64</td><td>f64</td><td>f64</td><td>f64</td><td>f64</td><td>f64</td><td>f64</td><td>f64</td><td>f64</td><td>f64</td><td>f64</td><td>f64</td><td>f64</td><td>f64</td><td>f64</td><td>f64</td><td>f64</td><td>f64</td><td>f64</td><td>f64</td><td>f64</td><td>f64</td><td>f64</td><td>f64</td><td>f64</td><td>f64</td><td>f64</td><td>f64</td><td>f64</td></tr></thead><tbody><tr><td>&quot;03x2oYg9oME&quot;</td><td>2024-04-25 15:16:00</td><td>&quot;Data Science P…</td><td>&quot;this video is …</td><td>-0.015707</td><td>-0.000803</td><td>-0.000592</td><td>0.014483</td><td>0.054659</td><td>-0.077496</td><td>-0.002334</td><td>-0.037766</td><td>-0.076303</td><td>0.095494</td><td>-0.023669</td><td>-0.065215</td><td>0.079585</td><td>-0.008432</td><td>-0.049648</td><td>0.090498</td><td>-0.083202</td><td>-0.051613</td><td>0.008807</td><td>-0.082336</td><td>-0.02177</td><td>-0.031772</td><td>-0.010281</td><td>0.043854</td><td>-0.042952</td><td>0.085398</td><td>0.053058</td><td>0.056221</td><td>-0.006999</td><td>0.011987</td><td>-0.025156</td><td>0.063567</td><td>0.051586</td><td>&hellip;</td><td>0.081404</td><td>-0.00473</td><td>-0.019275</td><td>0.015354</td><td>0.01367</td><td>-0.048947</td><td>0.014555</td><td>0.058803</td><td>-0.07865</td><td>0.039052</td><td>0.018853</td><td>0.030402</td><td>0.010164</td><td>-0.01578</td><td>0.028731</td><td>0.039881</td><td>0.107271</td><td>-0.086652</td><td>0.068573</td><td>-0.128907</td><td>0.000532</td><td>-0.000074</td><td>-0.030465</td><td>-0.041026</td><td>0.044691</td><td>-0.009989</td><td>0.077964</td><td>0.073521</td><td>0.09619</td><td>0.040807</td><td>-0.009223</td><td>-0.074324</td><td>0.063215</td><td>0.017714</td><td>0.006442</td><td>-0.029179</td><td>-0.017104</td></tr><tr><td>&quot;O5i_mMUM94c&quot;</td><td>2024-04-19 14:05:54</td><td>&quot;How I’d learne…</td><td>&quot;here&#x27;s how I&#x27;d…</td><td>-0.012019</td><td>-0.064174</td><td>0.070952</td><td>0.070263</td><td>0.058338</td><td>-0.06399</td><td>0.090048</td><td>-0.018103</td><td>-0.030347</td><td>0.045006</td><td>0.028399</td><td>-0.050822</td><td>0.03355</td><td>0.021837</td><td>-0.054941</td><td>0.031815</td><td>-0.046915</td><td>-0.026955</td><td>-0.030183</td><td>-0.031991</td><td>0.006332</td><td>0.03895</td><td>0.060244</td><td>0.002082</td><td>0.026674</td><td>0.129466</td><td>-0.003821</td><td>-0.035118</td><td>0.048048</td><td>-0.034193</td><td>0.00103</td><td>0.066846</td><td>0.035806</td><td>&hellip;</td><td>0.041583</td><td>-0.014911</td><td>-0.010122</td><td>-0.045581</td><td>-0.045081</td><td>-0.0292</td><td>-0.0444</td><td>0.030496</td><td>-0.059147</td><td>0.060487</td><td>-0.057393</td><td>-0.016889</td><td>0.000606</td><td>-0.056332</td><td>0.05195</td><td>0.050159</td><td>0.032203</td><td>-0.130664</td><td>0.076355</td><td>-0.093234</td><td>0.004911</td><td>0.024305</td><td>0.036537</td><td>-0.028809</td><td>-0.008713</td><td>-0.044622</td><td>-0.007744</td><td>0.113142</td><td>0.059153</td><td>0.001777</td><td>0.033651</td><td>-0.106226</td><td>0.103233</td><td>-0.017869</td><td>0.051937</td><td>-0.127236</td><td>0.036246</td></tr><tr><td>&quot;xm9devSQEqU&quot;</td><td>2024-04-18 15:59:02</td><td>&quot;4 Skills You N…</td><td>&quot;although it is…</td><td>0.018166</td><td>-0.090621</td><td>-0.012552</td><td>0.020742</td><td>-0.093658</td><td>-0.107941</td><td>0.005711</td><td>0.009971</td><td>-0.104353</td><td>0.022222</td><td>-0.064549</td><td>-0.097381</td><td>-0.042711</td><td>0.019615</td><td>-0.034009</td><td>0.100303</td><td>-0.061772</td><td>0.003508</td><td>-0.03378</td><td>-0.13128</td><td>-0.017863</td><td>-0.057626</td><td>0.015556</td><td>-0.072058</td><td>-0.010606</td><td>0.056719</td><td>0.013839</td><td>-0.041414</td><td>0.017813</td><td>-0.005246</td><td>0.029335</td><td>-0.02157</td><td>0.042233</td><td>&hellip;</td><td>0.031496</td><td>-0.040242</td><td>0.011707</td><td>-0.007683</td><td>0.008842</td><td>0.012777</td><td>-0.005904</td><td>0.104284</td><td>-0.009653</td><td>0.082479</td><td>-0.040231</td><td>-0.030715</td><td>0.048085</td><td>0.003187</td><td>0.087079</td><td>-0.013218</td><td>0.069204</td><td>-0.050548</td><td>0.015828</td><td>-0.04139</td><td>-0.011192</td><td>0.034093</td><td>0.049186</td><td>0.048458</td><td>0.004615</td><td>0.032301</td><td>0.075555</td><td>0.070256</td><td>0.066454</td><td>0.043701</td><td>-0.01968</td><td>-0.036145</td><td>0.09853</td><td>0.026589</td><td>0.036639</td><td>0.009958</td><td>-0.012691</td></tr><tr><td>&quot;Z6CmuVEi7QY&quot;</td><td>2024-04-11 10:00:27</td><td>&quot;How I&#x27;d Learn …</td><td>&quot;when I was fir…</td><td>-0.009383</td><td>-0.081226</td><td>0.009785</td><td>0.069336</td><td>-0.033242</td><td>-0.140843</td><td>0.033153</td><td>-0.012829</td><td>-0.079523</td><td>0.074586</td><td>-0.038719</td><td>-0.01216</td><td>0.02971</td><td>-0.052873</td><td>-0.052328</td><td>0.032524</td><td>-0.041563</td><td>-0.006607</td><td>-0.011682</td><td>-0.052671</td><td>-0.021066</td><td>-0.021317</td><td>-0.006413</td><td>-0.03587</td><td>0.017534</td><td>0.13395</td><td>0.069684</td><td>0.045327</td><td>0.011075</td><td>-0.0294</td><td>-0.060006</td><td>-0.041755</td><td>-0.034357</td><td>&hellip;</td><td>0.022374</td><td>0.015603</td><td>-0.003612</td><td>-0.006062</td><td>-0.040954</td><td>-0.024001</td><td>-0.065596</td><td>0.01797</td><td>-0.101836</td><td>0.087055</td><td>-0.059411</td><td>-0.025912</td><td>0.020501</td><td>-0.027434</td><td>0.060503</td><td>0.068892</td><td>0.029335</td><td>-0.089525</td><td>0.072315</td><td>-0.052258</td><td>0.031635</td><td>0.004499</td><td>0.046369</td><td>-0.005005</td><td>0.000506</td><td>-0.001204</td><td>0.008005</td><td>0.092965</td><td>0.054399</td><td>-0.005864</td><td>0.060123</td><td>-0.101077</td><td>0.124584</td><td>-0.010773</td><td>0.012077</td><td>-0.059352</td><td>0.003125</td></tr><tr><td>&quot;INlCLmWlojY&quot;</td><td>2024-04-04 18:45:00</td><td>&quot;I Was Wrong Ab…</td><td>&quot;last year I qu…</td><td>-0.009162</td><td>-0.053555</td><td>-0.036134</td><td>-0.016168</td><td>-0.046887</td><td>-0.025066</td><td>0.038359</td><td>0.031727</td><td>0.003625</td><td>0.009598</td><td>-0.017576</td><td>0.071134</td><td>0.022244</td><td>0.014256</td><td>-0.01466</td><td>0.047682</td><td>0.010775</td><td>-0.03238</td><td>-0.00384</td><td>-0.077088</td><td>-0.099166</td><td>0.046459</td><td>-0.020923</td><td>-0.053066</td><td>-0.020125</td><td>0.033315</td><td>0.027345</td><td>-0.084659</td><td>0.014071</td><td>0.007794</td><td>-0.005639</td><td>0.092778</td><td>0.040852</td><td>&hellip;</td><td>0.103895</td><td>-0.031368</td><td>-0.034569</td><td>0.004799</td><td>-0.05771</td><td>-0.001767</td><td>-0.055002</td><td>0.020011</td><td>-0.166268</td><td>0.101994</td><td>0.020444</td><td>0.003303</td><td>0.052046</td><td>0.02083</td><td>0.064734</td><td>0.061822</td><td>0.067726</td><td>-0.058953</td><td>0.059298</td><td>-0.060392</td><td>-0.033443</td><td>0.017735</td><td>0.035072</td><td>0.039556</td><td>-0.019598</td><td>-0.016372</td><td>0.031005</td><td>0.027666</td><td>-0.009094</td><td>-0.035771</td><td>0.069946</td><td>-0.188073</td><td>0.101185</td><td>0.035176</td><td>-0.070324</td><td>-0.096129</td><td>-0.019654</td></tr></tbody></table></div>"
      ],
      "text/plain": [
       "shape: (5, 772)\n",
       "┌───────────┬───────────┬───────────┬───────────┬───┬───────────┬───────────┬───────────┬──────────┐\n",
       "│ video_id  ┆ datetime  ┆ title     ┆ transcrip ┆ … ┆ transcrip ┆ transcrip ┆ transcrip ┆ transcri │\n",
       "│ ---       ┆ ---       ┆ ---       ┆ t         ┆   ┆ t_embeddi ┆ t_embeddi ┆ t_embeddi ┆ pt_embed │\n",
       "│ str       ┆ datetime[ ┆ str       ┆ ---       ┆   ┆ ng-380    ┆ ng-381    ┆ ng-382    ┆ ding-383 │\n",
       "│           ┆ μs]       ┆           ┆ str       ┆   ┆ ---       ┆ ---       ┆ ---       ┆ ---      │\n",
       "│           ┆           ┆           ┆           ┆   ┆ f64       ┆ f64       ┆ f64       ┆ f64      │\n",
       "╞═══════════╪═══════════╪═══════════╪═══════════╪═══╪═══════════╪═══════════╪═══════════╪══════════╡\n",
       "│ 03x2oYg9o ┆ 2024-04-2 ┆ Data      ┆ this      ┆ … ┆ 0.017714  ┆ 0.006442  ┆ -0.029179 ┆ -0.01710 │\n",
       "│ ME        ┆ 5         ┆ Science   ┆ video is  ┆   ┆           ┆           ┆           ┆ 4        │\n",
       "│           ┆ 15:16:00  ┆ Project   ┆ part of a ┆   ┆           ┆           ┆           ┆          │\n",
       "│           ┆           ┆ Managemen ┆ larger s… ┆   ┆           ┆           ┆           ┆          │\n",
       "│           ┆           ┆ t …       ┆           ┆   ┆           ┆           ┆           ┆          │\n",
       "│ O5i_mMUM9 ┆ 2024-04-1 ┆ How I’d   ┆ here's    ┆ … ┆ -0.017869 ┆ 0.051937  ┆ -0.127236 ┆ 0.036246 │\n",
       "│ 4c        ┆ 9         ┆ learned   ┆ how I'd   ┆   ┆           ┆           ┆           ┆          │\n",
       "│           ┆ 14:05:54  ┆ #datascie ┆ learn     ┆   ┆           ┆           ┆           ┆          │\n",
       "│           ┆           ┆ nce (if…  ┆ data      ┆   ┆           ┆           ┆           ┆          │\n",
       "│           ┆           ┆           ┆ scienc…   ┆   ┆           ┆           ┆           ┆          │\n",
       "│ xm9devSQE ┆ 2024-04-1 ┆ 4 Skills  ┆ although  ┆ … ┆ 0.026589  ┆ 0.036639  ┆ 0.009958  ┆ -0.01269 │\n",
       "│ qU        ┆ 8         ┆ You Need  ┆ it is     ┆   ┆           ┆           ┆           ┆ 1        │\n",
       "│           ┆ 15:59:02  ┆ to Be a   ┆ common to ┆   ┆           ┆           ┆           ┆          │\n",
       "│           ┆           ┆ Full-S…   ┆ delegat…  ┆   ┆           ┆           ┆           ┆          │\n",
       "│ Z6CmuVEi7 ┆ 2024-04-1 ┆ How I'd   ┆ when I    ┆ … ┆ -0.010773 ┆ 0.012077  ┆ -0.059352 ┆ 0.003125 │\n",
       "│ QY        ┆ 1         ┆ Learn     ┆ was first ┆   ┆           ┆           ┆           ┆          │\n",
       "│           ┆ 10:00:27  ┆ Data      ┆ learning  ┆   ┆           ┆           ┆           ┆          │\n",
       "│           ┆           ┆ Science   ┆ data s…   ┆   ┆           ┆           ┆           ┆          │\n",
       "│           ┆           ┆ (if I…    ┆           ┆   ┆           ┆           ┆           ┆          │\n",
       "│ INlCLmWlo ┆ 2024-04-0 ┆ I Was     ┆ last year ┆ … ┆ 0.035176  ┆ -0.070324 ┆ -0.096129 ┆ -0.01965 │\n",
       "│ jY        ┆ 4         ┆ Wrong     ┆ I quit my ┆   ┆           ┆           ┆           ┆ 4        │\n",
       "│           ┆ 18:45:00  ┆ About AI  ┆ corporate ┆   ┆           ┆           ┆           ┆          │\n",
       "│           ┆           ┆ Consultin ┆ da…       ┆   ┆           ┆           ┆           ┆          │\n",
       "│           ┆           ┆ g …       ┆           ┆   ┆           ┆           ┆           ┆          │\n",
       "└───────────┴───────────┴───────────┴───────────┴───┴───────────┴───────────┴───────────┴──────────┘"
      ]
     },
     "execution_count": 5,
     "metadata": {},
     "output_type": "execute_result"
    }
   ],
   "source": [
    "df.head()"
   ]
  },
  {
   "cell_type": "markdown",
   "id": "f33d7ac4-db9f-466c-af2e-bc50db7e5535",
   "metadata": {},
   "source": [
    "### save index to file"
   ]
  },
  {
   "cell_type": "code",
   "execution_count": 6,
   "id": "516276be-7259-4b17-8754-4ba899ebe314",
   "metadata": {},
   "outputs": [],
   "source": [
    "df.write_parquet('data/video-index.parquet')"
   ]
  },
  {
   "cell_type": "code",
   "execution_count": null,
   "id": "b8b4f9c3-c174-4d0a-921e-0ccdbea8b8d7",
   "metadata": {},
   "outputs": [],
   "source": []
  }
 ],
 "metadata": {
  "kernelspec": {
   "display_name": "Python 3 (ipykernel)",
   "language": "python",
   "name": "python3"
  },
  "language_info": {
   "codemirror_mode": {
    "name": "ipython",
    "version": 3
   },
   "file_extension": ".py",
   "mimetype": "text/x-python",
   "name": "python",
   "nbconvert_exporter": "python",
   "pygments_lexer": "ipython3",
   "version": "3.10.14"
  }
 },
 "nbformat": 4,
 "nbformat_minor": 5
}

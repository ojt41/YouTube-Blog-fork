{
 "cells": [
  {
   "cell_type": "markdown",
   "id": "099bd672-626b-4c86-9b5a-5f47b0b25fdc",
   "metadata": {},
   "source": [
    "# Pull All YouTube Video IDs From My Channel\n",
    "\n",
    "Code authored by: Shaw Talebi <br>\n",
    "\n",
    "Blog link: https://medium.com/towards-data-science/how-to-build-data-pipelines-for-machine-learning-b97bbef050a5 <br>\n",
    "Video link: https://youtu.be/OnIQrDiTtRM"
   ]
  },
  {
   "cell_type": "markdown",
   "id": "7781eea9-4d1c-48f7-bf1b-241b7ce6e561",
   "metadata": {},
   "source": [
    "### imports"
   ]
  },
  {
   "cell_type": "code",
   "execution_count": 1,
   "id": "e85b4f44-7ddb-42a4-b1b5-47f86bc07a17",
   "metadata": {},
   "outputs": [],
   "source": [
    "import requests\n",
    "import json\n",
    "import polars as pl\n",
    "from my_sk import my_key"
   ]
  },
  {
   "cell_type": "markdown",
   "id": "0569413d-2ba6-476d-9506-1ec48779d909",
   "metadata": {},
   "source": [
    "### functions"
   ]
  },
  {
   "cell_type": "code",
   "execution_count": 2,
   "id": "a0b74757-fd78-4d64-b76c-fdc735b9058a",
   "metadata": {},
   "outputs": [],
   "source": [
    "def getVideoRecords(response: requests.models.Response) -> list:\n",
    "    \"\"\"\n",
    "        Function to extract YouTube video data from GET request response\n",
    "    \"\"\"\n",
    "\n",
    "    video_record_list = []\n",
    "    \n",
    "    for raw_item in json.loads(response.text)['items']:\n",
    "    \n",
    "        # only execute for youtube videos\n",
    "        if raw_item['id']['kind'] != \"youtube#video\":\n",
    "            continue\n",
    "        \n",
    "        video_record = {}\n",
    "        video_record['video_id'] = raw_item['id']['videoId']\n",
    "        video_record['datetime'] = raw_item['snippet']['publishedAt']\n",
    "        video_record['title'] = raw_item['snippet']['title']\n",
    "        \n",
    "        video_record_list.append(video_record)\n",
    "\n",
    "    return video_record_list"
   ]
  },
  {
   "cell_type": "markdown",
   "id": "9e01037f-1869-46f2-b81d-48ff1b86f065",
   "metadata": {},
   "source": [
    "### extract videos IDs (+ datetime, title)"
   ]
  },
  {
   "cell_type": "code",
   "execution_count": 3,
   "id": "7d57d18c-4a70-48e8-9189-4bd0f67eb3e6",
   "metadata": {},
   "outputs": [],
   "source": [
    "# define channel ID\n",
    "channel_id = 'UCa9gErQ9AE5jT2DZLjXBIdA'\n",
    "\n",
    "# define url for API\n",
    "url = 'https://www.googleapis.com/youtube/v3/search'\n",
    "\n",
    "# initialize page token\n",
    "page_token = None\n",
    "\n",
    "# intialize list to store video data\n",
    "video_record_list = []"
   ]
  },
  {
   "cell_type": "code",
   "execution_count": 4,
   "id": "017494db-052c-4137-95b0-813476ff738f",
   "metadata": {},
   "outputs": [
    {
     "name": "stdout",
     "output_type": "stream",
     "text": [
      "CPU times: user 62.1 ms, sys: 8.74 ms, total: 70.9 ms\n",
      "Wall time: 712 ms\n"
     ]
    }
   ],
   "source": [
    "%%time\n",
    "# extract video data across multiple search result pages\n",
    "while page_token != 0:\n",
    "    # define parameters for API call\n",
    "    params = {\"key\": my_key, 'channelId': channel_id, 'part': [\"snippet\",\"id\"], 'order': \"date\", 'maxResults':50, 'pageToken': page_token}\n",
    "    # make get request\n",
    "    response = requests.get(url, params=params)\n",
    "\n",
    "    # append video records to list\n",
    "    video_record_list += getVideoRecords(response)\n",
    "\n",
    "    try:\n",
    "        # grab next page token\n",
    "        page_token = json.loads(response.text)['nextPageToken']\n",
    "    except:\n",
    "        # if no next page token kill while loop\n",
    "        page_token = 0"
   ]
  },
  {
   "cell_type": "markdown",
   "id": "5034e75e-fd93-458c-b34b-5c05f6b7902b",
   "metadata": {},
   "source": [
    "### write data to file"
   ]
  },
  {
   "cell_type": "code",
   "execution_count": 5,
   "id": "50a1a469-ca07-4b6a-b0cc-806b78e42d60",
   "metadata": {},
   "outputs": [],
   "source": [
    "# write data to file\n",
    "pl.DataFrame(video_record_list).write_parquet('data/video-ids.parquet')\n",
    "pl.DataFrame(video_record_list).write_csv('data/video-ids.csv')"
   ]
  }
 ],
 "metadata": {
  "kernelspec": {
   "display_name": "Python 3 (ipykernel)",
   "language": "python",
   "name": "python3"
  },
  "language_info": {
   "codemirror_mode": {
    "name": "ipython",
    "version": 3
   },
   "file_extension": ".py",
   "mimetype": "text/x-python",
   "name": "python",
   "nbconvert_exporter": "python",
   "pygments_lexer": "ipython3",
   "version": "3.10.14"
  }
 },
 "nbformat": 4,
 "nbformat_minor": 5
}

{
 "cells": [
  {
   "cell_type": "markdown",
   "id": "ec3f1ddd",
   "metadata": {},
   "source": [
    "# Python for AI QuickStart\n",
    "\n",
    "Code authored by: Shaw Talebi\n",
    "\n",
    "YouTube video: https://youtu.be/pNg2DJ4spXg <br>\n",
    "Blog post: https://medium.com/towards-data-science/python-quickstart-for-people-learning-ai-58a1b76df0f4"
   ]
  },
  {
   "cell_type": "markdown",
   "id": "356cf746",
   "metadata": {},
   "source": [
    "## Data Types"
   ]
  },
  {
   "cell_type": "markdown",
   "id": "8549a325",
   "metadata": {},
   "source": [
    "#### Strings & Numbers"
   ]
  },
  {
   "cell_type": "code",
   "execution_count": 1,
   "id": "4972ecf0",
   "metadata": {},
   "outputs": [
    {
     "data": {
      "text/plain": [
       "'this is a string'"
      ]
     },
     "execution_count": 1,
     "metadata": {},
     "output_type": "execute_result"
    }
   ],
   "source": [
    "\"this is a string\""
   ]
  },
  {
   "cell_type": "code",
   "execution_count": 2,
   "id": "dc0c64db",
   "metadata": {},
   "outputs": [
    {
     "data": {
      "text/plain": [
       "'so is this:-1*!@&04\"(*&^}\":>?'"
      ]
     },
     "execution_count": 2,
     "metadata": {},
     "output_type": "execute_result"
    }
   ],
   "source": [
    "'so is this:-1*!@&04\"(*&^}\":>?'"
   ]
  },
  {
   "cell_type": "code",
   "execution_count": 3,
   "id": "a1908327",
   "metadata": {},
   "outputs": [
    {
     "data": {
      "text/plain": [
       "'and\\n    this is\\n        too!!11!'"
      ]
     },
     "execution_count": 3,
     "metadata": {},
     "output_type": "execute_result"
    }
   ],
   "source": [
    "\"\"\"and\n",
    "    this is\n",
    "        too!!11!\"\"\""
   ]
  },
  {
   "cell_type": "code",
   "execution_count": 4,
   "id": "9fc240cd",
   "metadata": {},
   "outputs": [
    {
     "data": {
      "text/plain": [
       "'we can even add strings together'"
      ]
     },
     "execution_count": 4,
     "metadata": {},
     "output_type": "execute_result"
    }
   ],
   "source": [
    "\"we can even \" + \"add strings together\""
   ]
  },
  {
   "cell_type": "code",
   "execution_count": 6,
   "id": "717b3f51",
   "metadata": {},
   "outputs": [
    {
     "ename": "TypeError",
     "evalue": "can only concatenate str (not \"int\") to str",
     "output_type": "error",
     "traceback": [
      "\u001b[0;31m---------------------------------------------------------------------------\u001b[0m",
      "\u001b[0;31mTypeError\u001b[0m                                 Traceback (most recent call last)",
      "Cell \u001b[0;32mIn[6], line 2\u001b[0m\n\u001b[1;32m      1\u001b[0m \u001b[38;5;66;03m# we can't add strings to other data types (BTW this is how you write comments in Python)\u001b[39;00m\n\u001b[0;32m----> 2\u001b[0m \u001b[38;5;124;43m\"\u001b[39;49m\u001b[38;5;124;43mI am \u001b[39;49m\u001b[38;5;124;43m\"\u001b[39;49m\u001b[43m \u001b[49m\u001b[38;5;241;43m+\u001b[39;49m\u001b[43m \u001b[49m\u001b[38;5;241;43m29\u001b[39;49m\n",
      "\u001b[0;31mTypeError\u001b[0m: can only concatenate str (not \"int\") to str"
     ]
    }
   ],
   "source": [
    "# we can't add strings to other data types (BTW this is how you write comments in Python)\n",
    "\"I am \" + 29"
   ]
  },
  {
   "cell_type": "code",
   "execution_count": 7,
   "id": "60186930",
   "metadata": {},
   "outputs": [
    {
     "data": {
      "text/plain": [
       "'I am 29'"
      ]
     },
     "execution_count": 7,
     "metadata": {},
     "output_type": "execute_result"
    }
   ],
   "source": [
    "# so we have to write 29 as a string\n",
    "\"I am \" + \"29\""
   ]
  },
  {
   "cell_type": "markdown",
   "id": "e5d44d3b",
   "metadata": {},
   "source": [
    "#### Lists & Dictionaries"
   ]
  },
  {
   "cell_type": "code",
   "execution_count": 8,
   "id": "8b52ce76",
   "metadata": {},
   "outputs": [
    {
     "data": {
      "text/plain": [
       "['a', 'b', 'c']"
      ]
     },
     "execution_count": 8,
     "metadata": {},
     "output_type": "execute_result"
    }
   ],
   "source": [
    "# a list of strings\n",
    "[\"a\", \"b\", \"c\"]"
   ]
  },
  {
   "cell_type": "code",
   "execution_count": 9,
   "id": "a5c95e9e",
   "metadata": {},
   "outputs": [
    {
     "data": {
      "text/plain": [
       "[1, 2, 3]"
      ]
     },
     "execution_count": 9,
     "metadata": {},
     "output_type": "execute_result"
    }
   ],
   "source": [
    "# a list of ints\n",
    "[1, 2, 3]"
   ]
  },
  {
   "cell_type": "code",
   "execution_count": 10,
   "id": "08007f41",
   "metadata": {},
   "outputs": [
    {
     "data": {
      "text/plain": [
       "['a', 2, 3.14]"
      ]
     },
     "execution_count": 10,
     "metadata": {},
     "output_type": "execute_result"
    }
   ],
   "source": [
    "# list with a string, int, and float\n",
    "[\"a\", 2, 3.14]"
   ]
  },
  {
   "cell_type": "code",
   "execution_count": 11,
   "id": "fb1297e5",
   "metadata": {},
   "outputs": [
    {
     "data": {
      "text/plain": [
       "[['a', 'b'], [1, 2], [1.0, 2.0]]"
      ]
     },
     "execution_count": 11,
     "metadata": {},
     "output_type": "execute_result"
    }
   ],
   "source": [
    "# a list of lists with mixed types\n",
    "[[\"a\", \"b\"], [1, 2], [1.0, 2.0]]"
   ]
  },
  {
   "cell_type": "code",
   "execution_count": 12,
   "id": "2928b84a",
   "metadata": {},
   "outputs": [
    {
     "data": {
      "text/plain": [
       "{'Name': 'Shaw'}"
      ]
     },
     "execution_count": 12,
     "metadata": {},
     "output_type": "execute_result"
    }
   ],
   "source": [
    "# a dictionary\n",
    "{\"Name\":\"Shaw\"}"
   ]
  },
  {
   "cell_type": "code",
   "execution_count": 13,
   "id": "aa9ee270",
   "metadata": {},
   "outputs": [
    {
     "data": {
      "text/plain": [
       "{'Name': 'Shaw', 'Age': 29, 'Interests': ['AI', 'Music', 'Bread']}"
      ]
     },
     "execution_count": 13,
     "metadata": {},
     "output_type": "execute_result"
    }
   ],
   "source": [
    "# a dictionary with multiple key-value pairs\n",
    "{\"Name\":\"Shaw\", \"Age\":29, \"Interests\":[\"AI\", \"Music\", \"Bread\"]}"
   ]
  },
  {
   "cell_type": "code",
   "execution_count": 14,
   "id": "a18b86cb",
   "metadata": {},
   "outputs": [
    {
     "data": {
      "text/plain": [
       "[{'Name': 'Shaw', 'Age': 29, 'Interests': ['AI', 'Music', 'Bread']},\n",
       " {'Name': 'Ify', 'Age': 27, 'Interests': ['Marketing', 'YouTube', 'Shopping']}]"
      ]
     },
     "execution_count": 14,
     "metadata": {},
     "output_type": "execute_result"
    }
   ],
   "source": [
    "# a list of dictionaries\n",
    "[{\"Name\":\"Shaw\", \"Age\":29, \"Interests\":[\"AI\", \"Music\", \"Bread\"]}, {\"Name\":\"Ify\", \"Age\":27, \"Interests\":[\"Marketing\", \"YouTube\", \"Shopping\"]}]"
   ]
  },
  {
   "cell_type": "code",
   "execution_count": 15,
   "id": "ad3564e9",
   "metadata": {},
   "outputs": [
    {
     "data": {
      "text/plain": [
       "{'User': {'Name': 'Shaw', 'Age': 29, 'Interests': ['AI', 'Music', 'Bread']},\n",
       " 'Last_login': '2024-09-06',\n",
       " 'Membership_Tier': 'Free'}"
      ]
     },
     "execution_count": 15,
     "metadata": {},
     "output_type": "execute_result"
    }
   ],
   "source": [
    "# a nested dictionary\n",
    "{\"User\":{\"Name\":\"Shaw\", \"Age\":29, \"Interests\":[\"AI\", \"Music\", \"Bread\"]}, \"Last_login\":\"2024-09-06\", \"Membership_Tier\":\"Free\"}"
   ]
  },
  {
   "cell_type": "markdown",
   "id": "fb5542f5",
   "metadata": {},
   "source": [
    "## Variables"
   ]
  },
  {
   "cell_type": "code",
   "execution_count": 16,
   "id": "f3b4f960",
   "metadata": {},
   "outputs": [
    {
     "name": "stdout",
     "output_type": "stream",
     "text": [
      "Shaw\n"
     ]
    }
   ],
   "source": [
    "# creating a variable and printing it\n",
    "user_name = \"Shaw\"\n",
    "print(user_name)"
   ]
  },
  {
   "cell_type": "code",
   "execution_count": 17,
   "id": "0bc17cd3",
   "metadata": {},
   "outputs": [
    {
     "name": "stdout",
     "output_type": "stream",
     "text": [
      "Shaw is 29 years old. His interests include ['AI', 'Music', 'Bread'].\n"
     ]
    }
   ],
   "source": [
    "# defining more variables and printing them as a formatted string. Notice, this automatically converts each variable to a string before printing!\n",
    "user_age = 29\n",
    "user_interests = [\"AI\", \"Music\", \"Bread\"]\n",
    "\n",
    "print(f\"{user_name} is {user_age} years old. His interests include {user_interests}.\")"
   ]
  },
  {
   "cell_type": "code",
   "execution_count": 18,
   "id": "a0773fe2",
   "metadata": {},
   "outputs": [
    {
     "name": "stdout",
     "output_type": "stream",
     "text": [
      "Shaw is 29 years old. His interests include ['AI', 'Music', 'Bread'].\n"
     ]
    }
   ],
   "source": [
    "# storing variables in a dictionary and printing them as a formatted string \n",
    "user_dict = {\"Name\":user_name, \"Age\":user_age, \"Interests\":user_interests}\n",
    "\n",
    "print(f'{user_dict[\"Name\"]} is {user_dict[\"Age\"]} years old. His interests include {user_dict[\"Interests\"]}.')"
   ]
  },
  {
   "cell_type": "code",
   "execution_count": 19,
   "id": "6e5dad25",
   "metadata": {},
   "outputs": [
    {
     "data": {
      "text/plain": [
       "'Shaw is 29 years old and is interested in AI.'"
      ]
     },
     "execution_count": 19,
     "metadata": {},
     "output_type": "execute_result"
    }
   ],
   "source": [
    "# or we can print just one interest\n",
    "f'{user_dict[\"Name\"]} is {user_dict[\"Age\"]} years old and is interested in {user_dict[\"Interests\"][0]}.'"
   ]
  },
  {
   "cell_type": "markdown",
   "id": "7212c609",
   "metadata": {},
   "source": [
    "## Loops & Conditionals"
   ]
  },
  {
   "cell_type": "markdown",
   "id": "eec71de8",
   "metadata": {},
   "source": [
    "#### for loop"
   ]
  },
  {
   "cell_type": "code",
   "execution_count": 20,
   "id": "604ccbd1",
   "metadata": {},
   "outputs": [
    {
     "name": "stdout",
     "output_type": "stream",
     "text": [
      "0\n",
      "1\n",
      "2\n",
      "3\n",
      "4\n"
     ]
    }
   ],
   "source": [
    "# a simple for loop iterating over a sequence of numbers\n",
    "for i in range(5):\n",
    "    # print ith element\n",
    "    print(i)"
   ]
  },
  {
   "cell_type": "code",
   "execution_count": 21,
   "id": "25a12d52",
   "metadata": {},
   "outputs": [
    {
     "name": "stdout",
     "output_type": "stream",
     "text": [
      "AI\n",
      "Music\n",
      "Bread\n"
     ]
    }
   ],
   "source": [
    "# for loop iterating over a list\n",
    "user_interests = [\"AI\", \"Music\", \"Bread\"]\n",
    "\n",
    "for interest in user_interests:\n",
    "    # print each item in list\n",
    "    print(interest)"
   ]
  },
  {
   "cell_type": "code",
   "execution_count": 22,
   "id": "0a002a70",
   "metadata": {},
   "outputs": [
    {
     "name": "stdout",
     "output_type": "stream",
     "text": [
      "Name = Shaw\n",
      "Age = 29\n",
      "Interests = ['AI', 'Music', 'Bread']\n"
     ]
    }
   ],
   "source": [
    "# for loop iterating over items in a dictionary\n",
    "user_dict = {\"Name\":\"Shaw\", \"Age\":29, \"Interests\":[\"AI\", \"Music\", \"Bread\"]}\n",
    "\n",
    "for key, value in user_dict.items():\n",
    "    # print each key and corresponding value\n",
    "    print(key, \"=\", value)"
   ]
  },
  {
   "cell_type": "markdown",
   "id": "c12d7d10",
   "metadata": {},
   "source": [
    "#### if-else"
   ]
  },
  {
   "cell_type": "code",
   "execution_count": 23,
   "id": "9e334bab",
   "metadata": {},
   "outputs": [
    {
     "name": "stdout",
     "output_type": "stream",
     "text": [
      "User is an adult\n"
     ]
    }
   ],
   "source": [
    "# check if user is 18 or older\n",
    "if user_dict[\"Age\"] >= 18:\n",
    "    print(\"User is an adult\")"
   ]
  },
  {
   "cell_type": "code",
   "execution_count": 24,
   "id": "092199f2",
   "metadata": {},
   "outputs": [
    {
     "name": "stdout",
     "output_type": "stream",
     "text": [
      "User has much to learn\n"
     ]
    }
   ],
   "source": [
    "# check if user is 1000 or older, if not print they have much to learn\n",
    "if user_dict[\"Age\"] >= 1000:\n",
    "    print(\"User is wise\")\n",
    "else:\n",
    "    print(\"User has much to learn\")"
   ]
  },
  {
   "cell_type": "code",
   "execution_count": 25,
   "id": "2c01a265",
   "metadata": {},
   "outputs": [
    {
     "name": "stdout",
     "output_type": "stream",
     "text": [
      "1 user(s) interested in Bread\n"
     ]
    }
   ],
   "source": [
    "# count the number of users interested in bread\n",
    "user_list = [{\"Name\":\"Shaw\", \"Age\":29, \"Interests\":[\"AI\", \"Music\", \"Bread\"]}, {\"Name\":\"Ify\", \"Age\":27, \"Interests\":[\"Marketing\", \"YouTube\", \"Shopping\"]}]\n",
    "count = 0\n",
    "\n",
    "for user in user_list:\n",
    "    if \"Bread\" in user[\"Interests\"]:\n",
    "        count = count + 1\n",
    "\n",
    "print(count, \"user(s) interested in Bread\")"
   ]
  },
  {
   "cell_type": "code",
   "execution_count": 26,
   "id": "1828d818",
   "metadata": {},
   "outputs": [
    {
     "name": "stdout",
     "output_type": "stream",
     "text": [
      "0 user(s) interested in Antiquing\n"
     ]
    }
   ],
   "source": [
    "# count the number of users interested in an arbritrary topic\n",
    "count = 0\n",
    "topic = \"Antiquing\"\n",
    "\n",
    "for user in user_list:\n",
    "    if topic in user[\"Interests\"]:\n",
    "        count = count + 1\n",
    "\n",
    "print(f\"{count} user(s) interested in {topic}\")"
   ]
  },
  {
   "cell_type": "markdown",
   "id": "1f4f7da5",
   "metadata": {},
   "source": [
    "## Functions"
   ]
  },
  {
   "cell_type": "markdown",
   "id": "d66cd4f1",
   "metadata": {},
   "source": [
    "#### basic functions"
   ]
  },
  {
   "cell_type": "code",
   "execution_count": 27,
   "id": "a294ce59",
   "metadata": {},
   "outputs": [
    {
     "name": "stdout",
     "output_type": "stream",
     "text": [
      "Name : Shaw\n",
      "Age : 29\n",
      "Interests : ['AI', 'Music', 'Bread']\n"
     ]
    }
   ],
   "source": [
    "# print(), a function we've used several times already\n",
    "\n",
    "for key in user_dict.keys():\n",
    "    print(key, \":\", user_dict[key])"
   ]
  },
  {
   "cell_type": "code",
   "execution_count": 28,
   "id": "2cb77469",
   "metadata": {},
   "outputs": [
    {
     "name": "stdout",
     "output_type": "stream",
     "text": [
      "Name : <class 'str'>\n",
      "Age : <class 'int'>\n",
      "Interests : <class 'list'>\n"
     ]
    }
   ],
   "source": [
    "# type(), getting the data type of a variable\n",
    "\n",
    "for key in user_dict.keys():\n",
    "    print(key, \":\", type(user_dict[key]))"
   ]
  },
  {
   "cell_type": "code",
   "execution_count": 29,
   "id": "cbb24781",
   "metadata": {},
   "outputs": [
    {
     "name": "stdout",
     "output_type": "stream",
     "text": [
      "Name : 4\n"
     ]
    },
    {
     "ename": "TypeError",
     "evalue": "object of type 'int' has no len()",
     "output_type": "error",
     "traceback": [
      "\u001b[0;31m---------------------------------------------------------------------------\u001b[0m",
      "\u001b[0;31mTypeError\u001b[0m                                 Traceback (most recent call last)",
      "Cell \u001b[0;32mIn[29], line 4\u001b[0m\n\u001b[1;32m      1\u001b[0m \u001b[38;5;66;03m# len(), getting the length of a variable\u001b[39;00m\n\u001b[1;32m      3\u001b[0m \u001b[38;5;28;01mfor\u001b[39;00m key \u001b[38;5;129;01min\u001b[39;00m user_dict\u001b[38;5;241m.\u001b[39mkeys():\n\u001b[0;32m----> 4\u001b[0m     \u001b[38;5;28mprint\u001b[39m(key, \u001b[38;5;124m\"\u001b[39m\u001b[38;5;124m:\u001b[39m\u001b[38;5;124m\"\u001b[39m, \u001b[38;5;28;43mlen\u001b[39;49m\u001b[43m(\u001b[49m\u001b[43muser_dict\u001b[49m\u001b[43m[\u001b[49m\u001b[43mkey\u001b[49m\u001b[43m]\u001b[49m\u001b[43m)\u001b[49m)\n",
      "\u001b[0;31mTypeError\u001b[0m: object of type 'int' has no len()"
     ]
    }
   ],
   "source": [
    "# len(), getting the length of a variable\n",
    "\n",
    "for key in user_dict.keys():\n",
    "    print(key, \":\", len(user_dict[key]))"
   ]
  },
  {
   "cell_type": "code",
   "execution_count": 30,
   "id": "38684a7d",
   "metadata": {},
   "outputs": [
    {
     "name": "stdout",
     "output_type": "stream",
     "text": [
      "Name length : 4\n",
      "Interests length : 3\n"
     ]
    }
   ],
   "source": [
    "# since len() is not defined for ints we can skip it\n",
    "\n",
    "for key in user_dict.keys():\n",
    "    # skips ints\n",
    "    if type(user_dict[key]) is int:\n",
    "        continue\n",
    "    \n",
    "    print(key, \"length :\", len(user_dict[key]))"
   ]
  },
  {
   "cell_type": "markdown",
   "id": "29832086",
   "metadata": {},
   "source": [
    "#### string methods"
   ]
  },
  {
   "cell_type": "code",
   "execution_count": 31,
   "id": "61efbad4",
   "metadata": {},
   "outputs": [
    {
     "name": "stdout",
     "output_type": "stream",
     "text": [
      "shaw\n"
     ]
    }
   ],
   "source": [
    "# make string all lowercase\n",
    "print(user_dict[\"Name\"].lower())"
   ]
  },
  {
   "cell_type": "code",
   "execution_count": 32,
   "id": "1f2a4906",
   "metadata": {},
   "outputs": [
    {
     "name": "stdout",
     "output_type": "stream",
     "text": [
      "SHAW\n"
     ]
    }
   ],
   "source": [
    "# make string all uppercase\n",
    "print(user_dict[\"Name\"].upper())"
   ]
  },
  {
   "cell_type": "code",
   "execution_count": 33,
   "id": "6d84d4d5",
   "metadata": {},
   "outputs": [
    {
     "name": "stdout",
     "output_type": "stream",
     "text": [
      "['S', 'w']\n"
     ]
    }
   ],
   "source": [
    "# split string into list based on a specific character sequence\n",
    "print(user_dict[\"Name\"].split(\"ha\"))"
   ]
  },
  {
   "cell_type": "code",
   "execution_count": 34,
   "id": "98406a96",
   "metadata": {},
   "outputs": [
    {
     "name": "stdout",
     "output_type": "stream",
     "text": [
      "Shawhin\n"
     ]
    }
   ],
   "source": [
    "# replace a character sequence with another\n",
    "print(user_dict[\"Name\"].replace(\"w\", \"whin\"))"
   ]
  },
  {
   "cell_type": "markdown",
   "id": "0fd5a9e1",
   "metadata": {},
   "source": [
    "#### list methods"
   ]
  },
  {
   "cell_type": "code",
   "execution_count": 35,
   "id": "72593ace",
   "metadata": {},
   "outputs": [
    {
     "name": "stdout",
     "output_type": "stream",
     "text": [
      "['AI', 'Music', 'Bread', 'Entrepreneurship']\n"
     ]
    }
   ],
   "source": [
    "# add an element to the end of a list\n",
    "user_dict[\"Interests\"].append(\"Entrepreneurship\")\n",
    "print(user_dict[\"Interests\"])"
   ]
  },
  {
   "cell_type": "code",
   "execution_count": 36,
   "id": "39bcd406",
   "metadata": {},
   "outputs": [
    {
     "name": "stdout",
     "output_type": "stream",
     "text": [
      "['Music', 'Bread', 'Entrepreneurship']\n"
     ]
    }
   ],
   "source": [
    "# remove a specific element from a list\n",
    "user_dict[\"Interests\"].pop(0)\n",
    "print(user_dict[\"Interests\"])"
   ]
  },
  {
   "cell_type": "code",
   "execution_count": 37,
   "id": "3a1bda76",
   "metadata": {},
   "outputs": [
    {
     "name": "stdout",
     "output_type": "stream",
     "text": [
      "['Music', 'AI', 'Bread', 'Entrepreneurship']\n"
     ]
    }
   ],
   "source": [
    "# insert an element into a specific place in a list\n",
    "user_dict[\"Interests\"].insert(1, \"AI\")\n",
    "print(user_dict[\"Interests\"])"
   ]
  },
  {
   "cell_type": "markdown",
   "id": "d8c3151e",
   "metadata": {},
   "source": [
    "#### dict methods"
   ]
  },
  {
   "cell_type": "code",
   "execution_count": 38,
   "id": "92cf21af",
   "metadata": {},
   "outputs": [
    {
     "name": "stdout",
     "output_type": "stream",
     "text": [
      "dict_keys(['Name', 'Age', 'Interests'])\n"
     ]
    }
   ],
   "source": [
    "# accessing dict keys\n",
    "print(user_dict.keys())"
   ]
  },
  {
   "cell_type": "code",
   "execution_count": 39,
   "id": "3efd4dfb",
   "metadata": {},
   "outputs": [
    {
     "name": "stdout",
     "output_type": "stream",
     "text": [
      "dict_values(['Shaw', 29, ['Music', 'AI', 'Bread', 'Entrepreneurship']])\n"
     ]
    }
   ],
   "source": [
    "# accessing dict values\n",
    "print(user_dict.values())"
   ]
  },
  {
   "cell_type": "code",
   "execution_count": 40,
   "id": "daec5b49",
   "metadata": {},
   "outputs": [
    {
     "name": "stdout",
     "output_type": "stream",
     "text": [
      "dict_items([('Name', 'Shaw'), ('Age', 29), ('Interests', ['Music', 'AI', 'Bread', 'Entrepreneurship'])])\n"
     ]
    }
   ],
   "source": [
    "# accessing dict items\n",
    "print(user_dict.items())"
   ]
  },
  {
   "cell_type": "code",
   "execution_count": 41,
   "id": "0d896ec4",
   "metadata": {},
   "outputs": [
    {
     "name": "stdout",
     "output_type": "stream",
     "text": [
      "dict_items([('Age', 29), ('Interests', ['Music', 'AI', 'Bread', 'Entrepreneurship'])])\n"
     ]
    }
   ],
   "source": [
    "# removing a key\n",
    "user_dict.pop(\"Name\")\n",
    "print(user_dict.items())"
   ]
  },
  {
   "cell_type": "code",
   "execution_count": 42,
   "id": "4bdb0f11",
   "metadata": {},
   "outputs": [
    {
     "name": "stdout",
     "output_type": "stream",
     "text": [
      "dict_items([('Age', 29), ('Interests', ['Music', 'AI', 'Bread', 'Entrepreneurship']), ('Name', 'Shaw')])\n"
     ]
    }
   ],
   "source": [
    "# adding a key\n",
    "user_dict[\"Name\"] = \"Shaw\"\n",
    "print(user_dict.items())"
   ]
  },
  {
   "cell_type": "markdown",
   "id": "dd22c0b1",
   "metadata": {},
   "source": [
    "#### user-defined functions"
   ]
  },
  {
   "cell_type": "code",
   "execution_count": 43,
   "id": "45a0bb65",
   "metadata": {},
   "outputs": [],
   "source": [
    "def user_description(user_dict):\n",
    "    \"\"\"\n",
    "        Function to return a sentence (string) describing input user\n",
    "    \"\"\"\n",
    "    return f'{user_dict[\"Name\"]} is {user_dict[\"Age\"]} years old and is interested in {user_dict[\"Interests\"][0]}.'"
   ]
  },
  {
   "cell_type": "code",
   "execution_count": 44,
   "id": "5b6e4265",
   "metadata": {},
   "outputs": [
    {
     "name": "stdout",
     "output_type": "stream",
     "text": [
      "Shaw is 29 years old and is interested in Music.\n",
      "Ify is 27 years old and is interested in Marketing.\n"
     ]
    }
   ],
   "source": [
    "# print user description\n",
    "description = user_description(user_dict)\n",
    "print(description)\n",
    "\n",
    "# print description for a new user!\n",
    "new_user_dict = {\"Name\":\"Ify\", \"Age\":27, \"Interests\":[\"Marketing\", \"YouTube\", \"Shopping\"]}\n",
    "print(user_description(new_user_dict))"
   ]
  },
  {
   "cell_type": "code",
   "execution_count": 45,
   "id": "7ddcfb98",
   "metadata": {},
   "outputs": [],
   "source": [
    "def interested_user_count(user_list, topic):\n",
    "    \"\"\"\n",
    "        Function to count number of users interested in an arbitrary topic\n",
    "    \"\"\"\n",
    "    count = 0\n",
    "\n",
    "    for user in user_list:\n",
    "        if topic in user[\"Interests\"]:\n",
    "            count = count + 1\n",
    "    \n",
    "    return count"
   ]
  },
  {
   "cell_type": "code",
   "execution_count": 46,
   "id": "96bed32f",
   "metadata": {},
   "outputs": [
    {
     "name": "stdout",
     "output_type": "stream",
     "text": [
      "1 user(s) interested in Shopping\n"
     ]
    }
   ],
   "source": [
    "# define user list and topic\n",
    "user_list = [user_dict, new_user_dict]\n",
    "topic = \"Shopping\"\n",
    "\n",
    "# compute interested user count and print it\n",
    "count = interested_user_count(user_list, topic)\n",
    "print(f\"{count} user(s) interested in {topic}\")"
   ]
  },
  {
   "cell_type": "markdown",
   "id": "9d1dcafb",
   "metadata": {},
   "source": [
    "## Libraries"
   ]
  },
  {
   "cell_type": "code",
   "execution_count": 47,
   "id": "e2e33ef1",
   "metadata": {},
   "outputs": [
    {
     "name": "stdout",
     "output_type": "stream",
     "text": [
      "Intel MKL WARNING: Support of Intel(R) Streaming SIMD Extensions 4.2 (Intel(R) SSE4.2) enabled only processors has been deprecated. Intel oneAPI Math Kernel Library 2025.0 will require Intel(R) Advanced Vector Extensions (Intel(R) AVX) instructions.\n",
      "Intel MKL WARNING: Support of Intel(R) Streaming SIMD Extensions 4.2 (Intel(R) SSE4.2) enabled only processors has been deprecated. Intel oneAPI Math Kernel Library 2025.0 will require Intel(R) Advanced Vector Extensions (Intel(R) AVX) instructions.\n"
     ]
    }
   ],
   "source": [
    "import numpy as np"
   ]
  },
  {
   "cell_type": "code",
   "execution_count": 48,
   "id": "33e08c4e",
   "metadata": {},
   "outputs": [
    {
     "name": "stdout",
     "output_type": "stream",
     "text": [
      "[1 3 6]\n"
     ]
    }
   ],
   "source": [
    "# create a \"vector\"\n",
    "v = np.array([1, 3, 6])\n",
    "print(v)"
   ]
  },
  {
   "cell_type": "code",
   "execution_count": 49,
   "id": "9b73e168",
   "metadata": {},
   "outputs": [
    {
     "name": "stdout",
     "output_type": "stream",
     "text": [
      "[ 2  6 12]\n"
     ]
    }
   ],
   "source": [
    "# multiply a \"vector\"\n",
    "print(2*v)"
   ]
  },
  {
   "cell_type": "code",
   "execution_count": 50,
   "id": "9cce1c48",
   "metadata": {},
   "outputs": [
    {
     "name": "stdout",
     "output_type": "stream",
     "text": [
      "[[ 1.   3.   6. ]\n",
      " [ 2.   6.  12. ]\n",
      " [ 0.5  1.5  3. ]]\n"
     ]
    }
   ],
   "source": [
    "# create a matrix\n",
    "X = np.array([v, 2*v, v/2])\n",
    "print(X)"
   ]
  },
  {
   "cell_type": "code",
   "execution_count": 51,
   "id": "4ea7ee93",
   "metadata": {},
   "outputs": [
    {
     "name": "stdout",
     "output_type": "stream",
     "text": [
      "[46. 92. 23.]\n"
     ]
    }
   ],
   "source": [
    "# matrix multiplication\n",
    "print(np.matmul(X,v))"
   ]
  },
  {
   "cell_type": "code",
   "execution_count": 52,
   "id": "606165cc",
   "metadata": {},
   "outputs": [
    {
     "name": "stdout",
     "output_type": "stream",
     "text": [
      "[1. 5. 9.]\n"
     ]
    }
   ],
   "source": [
    "# create a 1D array with 3 equally spaced values between 1 and 9\n",
    "z = np.linspace(1, 9, 3)\n",
    "print(z)"
   ]
  },
  {
   "cell_type": "code",
   "execution_count": 53,
   "id": "a212edcc",
   "metadata": {},
   "outputs": [
    {
     "name": "stdout",
     "output_type": "stream",
     "text": [
      "[ 2.  8. 15.]\n",
      "[ 0. -2. -3.]\n"
     ]
    }
   ],
   "source": [
    "# adding and substracting arrays\n",
    "print(v + z)\n",
    "print(v - z)"
   ]
  },
  {
   "cell_type": "code",
   "execution_count": 54,
   "id": "b7f4f456",
   "metadata": {},
   "outputs": [
    {
     "name": "stdout",
     "output_type": "stream",
     "text": [
      "[ 1.   3.   6.   2.   6.  12.   0.5  1.5  3. ]\n",
      "[ 1.   3.   6.   2.   6.  12.   0.5  1.5  3. ]\n"
     ]
    }
   ],
   "source": [
    "# reshaping arrays\n",
    "print(X.reshape((9,)))\n",
    "print(X.flatten())"
   ]
  },
  {
   "cell_type": "code",
   "execution_count": 55,
   "id": "99846335",
   "metadata": {},
   "outputs": [
    {
     "name": "stdout",
     "output_type": "stream",
     "text": [
      "70.0\n",
      "[-3. -3.  2.]\n"
     ]
    }
   ],
   "source": [
    "# dot product\n",
    "print(np.dot(v, z))\n",
    "# cross product\n",
    "print(np.cross(v, z))"
   ]
  },
  {
   "cell_type": "code",
   "execution_count": 56,
   "id": "60788e91",
   "metadata": {},
   "outputs": [
    {
     "name": "stdout",
     "output_type": "stream",
     "text": [
      "3.3333333333333335\n",
      "1\n",
      "6\n"
     ]
    }
   ],
   "source": [
    "# mean\n",
    "print(np.mean(v))\n",
    "# min\n",
    "print(np.min(v))\n",
    "# max\n",
    "print(np.max(v))"
   ]
  },
  {
   "cell_type": "code",
   "execution_count": 57,
   "id": "a91c14c3",
   "metadata": {},
   "outputs": [
    {
     "name": "stdout",
     "output_type": "stream",
     "text": [
      "[[0.20457559 0.30824533]\n",
      " [0.53826289 0.49716523]]\n",
      "[0 9 2 0 4]\n"
     ]
    }
   ],
   "source": [
    "# array of random numbers between 0 and 1\n",
    "print(np.random.rand(2,2))\n",
    "# array of random ints between 0 and 10\n",
    "print(np.random.randint(0, 10, size=5))"
   ]
  },
  {
   "cell_type": "code",
   "execution_count": null,
   "id": "b2ffd6a9",
   "metadata": {},
   "outputs": [],
   "source": []
  }
 ],
 "metadata": {
  "kernelspec": {
   "display_name": "Python 3 (ipykernel)",
   "language": "python",
   "name": "python3"
  },
  "language_info": {
   "codemirror_mode": {
    "name": "ipython",
    "version": 3
   },
   "file_extension": ".py",
   "mimetype": "text/x-python",
   "name": "python",
   "nbconvert_exporter": "python",
   "pygments_lexer": "ipython3",
   "version": "3.10.14"
  }
 },
 "nbformat": 4,
 "nbformat_minor": 5
}
